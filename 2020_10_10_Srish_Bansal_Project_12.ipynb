{
  "nbformat": 4,
  "nbformat_minor": 0,
  "metadata": {
    "colab": {
      "provenance": [],
      "include_colab_link": true
    },
    "kernelspec": {
      "name": "python3",
      "display_name": "Python 3"
    }
  },
  "cells": [
    {
      "cell_type": "markdown",
      "metadata": {
        "id": "view-in-github",
        "colab_type": "text"
      },
      "source": [
        "<a href=\"https://colab.research.google.com/github/SrishBansal/colaab/blob/import/2020_10_10_Srish_Bansal_Project_12.ipynb\" target=\"_parent\"><img src=\"https://colab.research.google.com/assets/colab-badge.svg\" alt=\"Open In Colab\"/></a>"
      ]
    },
    {
      "cell_type": "markdown",
      "metadata": {
        "id": "BBqkpH4_Doqe"
      },
      "source": [
        "---"
      ]
    },
    {
      "cell_type": "markdown",
      "metadata": {
        "id": "QGbG1ImtAroz"
      },
      "source": [
        "### Activities\n",
        "\n",
        "\n",
        "\n"
      ]
    },
    {
      "cell_type": "markdown",
      "metadata": {
        "id": "q4fH06mIjuK3"
      },
      "source": [
        "#### Activity 1: Find Prime Numbers from 2 to 50\n",
        "\n",
        "Write a program that uses a `nested while` loop to find the prime numbers from 2 to 50.\n",
        "\n",
        "A number that is divisible only by itself is known as a **prime number**.\n",
        "\n",
        "Follow the steps given below to achieve the desired result:\n",
        "\n",
        "- **Step 1**: Store the starting prime number i.e. `2` in a variable `num`.\n",
        "\n",
        "- **Step 2**: Define the condition for `while` loop. This loop must be executed till `50`.\n",
        "\n",
        "- **Step 3**: Inside this `while` loop, perform the following steps:\n",
        "\n",
        "  1. Initialize a variable `j = 2`.\n",
        "\n",
        "  2. Create another `while` loop as a nested loop with condition `j <= num`. Inside this while loop, check whether the number stored in variable `num` is divisible by `j` or not.\n",
        "\n",
        "  3. If the number is divisible by `j` then break the inner `while` loop using `break` statement, otherwise increment the value of `j` by `1`.\n",
        "\n",
        "  4. Inside the outer `while` loop, check whether the value of `j` is greater than `num/j` using an `if` condition. If the condition gets satisfied, then print that prime number in output.\n",
        "\n",
        "  5. Also increment the value of `num` inside the outer `while` loop to check other numbers which are in range of 2 to 50, whether they are prime or not.\n",
        "\n",
        "\n",
        "\n"
      ]
    },
    {
      "cell_type": "code",
      "metadata": {
        "id": "4EAoTskqg041",
        "outputId": "9ea1cf5e-a5c1-4a90-bed1-3ff74a041b56",
        "colab": {
          "base_uri": "https://localhost:8080/",
          "height": 272
        }
      },
      "source": [
        "# Write a program to find prime numbers from 2 to 50.\n",
        "num = 2\n",
        "while num < 50 :\n",
        "  j = 2\n",
        "  while j <= num :\n",
        "    if num % j == 0 :\n",
        "      break\n",
        "    else :\n",
        "      j = j + 1\n",
        "  if j > num/j :\n",
        "    print(\"prime number = \" , num)\n",
        "\n",
        "  num += 1\n",
        ""
      ],
      "execution_count": null,
      "outputs": [
        {
          "output_type": "stream",
          "text": [
            "prime number =  2\n",
            "prime number =  3\n",
            "prime number =  5\n",
            "prime number =  7\n",
            "prime number =  11\n",
            "prime number =  13\n",
            "prime number =  17\n",
            "prime number =  19\n",
            "prime number =  23\n",
            "prime number =  29\n",
            "prime number =  31\n",
            "prime number =  37\n",
            "prime number =  41\n",
            "prime number =  43\n",
            "prime number =  47\n"
          ],
          "name": "stdout"
        }
      ]
    },
    {
      "cell_type": "markdown",
      "metadata": {
        "id": "xJlPs9X9oeRw"
      },
      "source": [
        "---"
      ]
    },
    {
      "cell_type": "markdown",
      "metadata": {
        "id": "qA-b1CdeofKc"
      },
      "source": [
        "#### Activity 2: Print `n` Digit Number\n",
        "\n",
        "Write a function which takes a natural number $n$ (where $1\\leq n \\leq 9$) as an input and returns an $n$-digit number having the digit $n$ at all the places as an output.\n",
        "\n",
        "**For example:**\n",
        "\n",
        "- For $n = 1$, the required output is $1$\n",
        "\n",
        "- For $n = 2$, the required output is $22$\n",
        "\n",
        "- For $n = 3$, the required output is $333$\n",
        "\n",
        "- For $n = 4$, the required output is $4,444$\n",
        "\n",
        "  $\\dots$\n",
        "\n",
        "- For $n = 9$, the required sum is $999,999,999$\n",
        "\n",
        "After creating the function, print the required outputs for all the numbers from 1 to 9.\n",
        "\n",
        "Follow the steps given below to achieve the desired result:\n",
        "\n",
        "- **Step 1**: Create a function, let's say `num_generator()` and pass `n` as a parameter in this function, where `n` is the number of digits to be printed.\n",
        "\n",
        "  - **Step 2**: Initialize two variables `req_num = 0` and  `count = n - 1`.\n",
        "   This `count` variable will be used to iterate using a `while` loop to generate the required number.\n",
        "\n",
        "  - **Step 3**: Define a `while` loop with condition `count >= 0`. Inside the `while` loop, perform the following two tasks:\n",
        "   \n",
        "    1. Apply the formula `req_num = req_num + (10 ** count) * n` that will give the required `n` digit number.\n",
        "\n",
        "    2. Decrement the value of `count` by `1`.\n",
        "\n",
        "  - **Step 4**: Return the value stored in `req_num` as it is the desired result.\n",
        "\n",
        "  -  **Step 5**: Call the function `num_generator()` inside a `for` loop that ranges from `1` to `9`."
      ]
    },
    {
      "cell_type": "code",
      "metadata": {
        "id": "AtvPTG3kpBoS",
        "outputId": "3cc6ccc0-6959-4bfd-c061-9a43d143fc65",
        "colab": {
          "base_uri": "https://localhost:8080/",
          "height": 170
        }
      },
      "source": [
        "# Print n -digit number\n",
        "def num_generator(n) :\n",
        "  req_num = 0\n",
        "  count  = n - 1\n",
        "  while count >= 0 :\n",
        "    req_num = req_num + (10 ** count) * n\n",
        "    count = count - 1\n",
        "  return req_num\n",
        "\n",
        "for i in range(1,10) :\n",
        "  print(num_generator(i))"
      ],
      "execution_count": null,
      "outputs": [
        {
          "output_type": "stream",
          "text": [
            "1\n",
            "22\n",
            "333\n",
            "4444\n",
            "55555\n",
            "666666\n",
            "7777777\n",
            "88888888\n",
            "999999999\n"
          ],
          "name": "stdout"
        }
      ]
    },
    {
      "cell_type": "markdown",
      "metadata": {
        "id": "KOVBiUSMzut1"
      },
      "source": [
        "---"
      ]
    },
    {
      "cell_type": "markdown",
      "metadata": {
        "id": "HSz7jRSlGxIO"
      },
      "source": [
        "---"
      ]
    }
  ]
}