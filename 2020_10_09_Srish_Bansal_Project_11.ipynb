{
  "nbformat": 4,
  "nbformat_minor": 0,
  "metadata": {
    "colab": {
      "provenance": [],
      "include_colab_link": true
    },
    "kernelspec": {
      "name": "python3",
      "display_name": "Python 3"
    }
  },
  "cells": [
    {
      "cell_type": "markdown",
      "metadata": {
        "id": "view-in-github",
        "colab_type": "text"
      },
      "source": [
        "<a href=\"https://colab.research.google.com/github/SrishBansal/colaab/blob/import/2020_10_09_Srish_Bansal_Project_11.ipynb\" target=\"_parent\"><img src=\"https://colab.research.google.com/assets/colab-badge.svg\" alt=\"Open In Colab\"/></a>"
      ]
    },
    {
      "cell_type": "markdown",
      "metadata": {
        "id": "bEyBzxYRhrLG"
      },
      "source": [
        "#### Goal of the Project\n",
        "\n",
        "This project is designed for you to practice and solve the activities that are based on the concepts covered in the following lessons:\n",
        "\n",
        "  1.  Python List I\n",
        "  2.  Python List II\n",
        "  3.  NumPy Arrays I"
      ]
    },
    {
      "cell_type": "markdown",
      "metadata": {
        "id": "DPOFIO3EHncO"
      },
      "source": [
        "---"
      ]
    },
    {
      "cell_type": "markdown",
      "metadata": {
        "id": "BBqkpH4_Doqe"
      },
      "source": [
        "---"
      ]
    },
    {
      "cell_type": "markdown",
      "metadata": {
        "id": "q4fH06mIjuK3"
      },
      "source": [
        "#### Activity 1: Find Occurrences of an Element in a List\n",
        "\n",
        "Create a function that returns the index or indices of all occurrences of an item in the list.\n",
        "\n",
        "**Note**\n",
        "\n",
        "- If an element does not exist in a list, return `[]`.\n",
        "\n",
        "- Lists are zero-indexed.\n",
        "\n",
        "**Examples**\n",
        "```\n",
        "get_indices([\"a\", \"a\", \"b\", \"a\", \"b\", \"a\"], \"a\") ➞ [0, 1, 3, 5]\n",
        "\n",
        "get_indices([1, 5, 5, 2, 7], 7) ➞ [4]\n",
        "\n",
        "get_indices([1, 5, 5, 2, 7], 5) ➞ [1, 2]\n",
        "\n",
        "get_indices([1, 5, 5, 2, 7], 8) ➞ []\n",
        "```\n",
        "\n",
        "Follow the steps given below to achieve the desired result:\n",
        "\n",
        "  - **Step 1**: Define a function with two parameters, first parameter will be the list of values i.e. `elements_list` and second parameter will be the item to be searched i.e. `key`.\n",
        "\n",
        "  - **Step 2**: Inside this function, create an empty list to store the result i.e. `result_list`.\n",
        "\n",
        "  - **Step 3**: Inside the function, `elements_list` list is iterated using `for` loop and `range()` function which traverses till the length of the `elements_list`. Use list indexing here.\n",
        "  \n",
        "    1. Inside `for` loop, check whether an element in the `elements_list` matches the item being searched i.e. `key`.\n",
        "    2. If it matches, then append the index number or position of that item in the `elements_list` to the `result_list`.\n",
        "\n",
        "    This `for` loop iterates till the end of `elements_list`.\n",
        "\n",
        "  - **Step 4**: Return the `result_list` list which contains the indices or positions of the item `key` in `elements_list`.\n",
        "\n",
        "  - **Step 5**: Call the function and pass the list of items and item to be searched to the list as parameters."
      ]
    },
    {
      "cell_type": "code",
      "metadata": {
        "id": "4EAoTskqg041",
        "outputId": "faa2c96f-8999-48c3-d2c1-184c35e39b74",
        "colab": {
          "base_uri": "https://localhost:8080/",
          "height": 51
        }
      },
      "source": [
        "# Write your code here\n",
        "# Step 1: Define a function with list of items and item to be searched as parameters\n",
        "def parameters(elements_list , key ) :\n",
        "\t# Step 2: Declare an empty list to hold the result\n",
        "  result_list = []\n",
        "\t# Step 3: Create 'for' loop which runs till the length of the list\n",
        "  for i in range(len(elements_list)) :\n",
        "    if key in elements_list :\n",
        "      result_list.append(elements_list.index(key))\n",
        "      # Inside a for loop, check whether each element in the list is matching with the searched element\n",
        "      # If it matches, append the blank list with the element's index number\n",
        "\n",
        "  # Step 4: Return the result\n",
        "    return result_list\n",
        "get_indices = [\"1\", \"2\", \"1\", \"0\", \"3\", \"2\"]\n",
        "# Step 5: Call the function\n",
        "print(\"index of 0 in the list get_indices is :- \")\n",
        "parameters(get_indices,\"0\")"
      ],
      "execution_count": null,
      "outputs": [
        {
          "output_type": "stream",
          "text": [
            "index of 0 in the list get_indices is :- \n"
          ],
          "name": "stdout"
        },
        {
          "output_type": "execute_result",
          "data": {
            "text/plain": [
              "[3]"
            ]
          },
          "metadata": {
            "tags": []
          },
          "execution_count": 6
        }
      ]
    },
    {
      "cell_type": "markdown",
      "metadata": {
        "id": "xJlPs9X9oeRw"
      },
      "source": [
        "---"
      ]
    },
    {
      "cell_type": "markdown",
      "metadata": {
        "id": "qA-b1CdeofKc"
      },
      "source": [
        "#### Activity 2: Subtract Elements of Two Lists\n",
        "\n",
        "Subtract elements of two lists only if element in the first list is greater than element in second list, else display the element of the first list.  \n",
        "\n",
        "Examples:\n",
        "```\n",
        "Original lists :\n",
        "[10, 20, 30, 40, 50, 60]\n",
        "[60, 50, 40, 30, 20, 10]\n",
        "\n",
        "Output list:\n",
        "[10, 20, 30, 10, 30, 50]\n",
        "```\n",
        "Follow the steps given below to achieve the desired result:\n",
        "\n",
        "  - **Step 1**: Declare two lists having equal number of random numbers.\n",
        "\n",
        "  - **Step 2**: Create a third empty list to store the result of subtraction.\n",
        "\n",
        "  - **Step 3**: Start a `for` loop which iterates till the length of the list.\n",
        "  \n",
        "  - **Step 4**: Inside the `for` loop, check whether first list element is greater than the second list element. If the condition is true, subtract the list elements and append it to the third list else just append the first list element to the third list using the `append()` function.\n",
        "\n",
        "  - **Step 5**: Print first and second lists.\n",
        "\n",
        "  - **Step 6**: Print the third list to see the subtracted values."
      ]
    },
    {
      "cell_type": "code",
      "metadata": {
        "id": "AtvPTG3kpBoS",
        "outputId": "40852f41-7a42-46a3-86a1-84cbb68ffe29",
        "colab": {
          "base_uri": "https://localhost:8080/",
          "height": 68
        }
      },
      "source": [
        "# Write your code here\n",
        "# Step 1: Declare two lists with some random numbers\n",
        "import random\n",
        "list_1 = [90, 50, 40, 80, 10, 65]\n",
        "list_2 = [20, 60, 30, 70, 75, 45]\n",
        "\n",
        "[10,20,30,10,30,50]\n",
        "\n",
        "# Step 2: Declare an empty list for storing the result\n",
        "result = []\n",
        "# Step 3: Start a 'for' loop which iterates till the length of the list\n",
        "for i in range(len(list_2)) :\n",
        "  if list_1[i] > list_2[i] :\n",
        "    result.append(list_1[i] - list_2[i])\n",
        "  else :\n",
        "    result.append(list_1[i])\n",
        "# Step 4: Inside 'for' loop, check whether first list element is greater than second list element\n",
        "    #If it is, then subtract the respective elements and append the result to the empty list using 'append()' function, else just append the first list element\n",
        "\n",
        "# Step 5: Print both original lists\n",
        "print(\"elements in list 1 are :\" , list_1)\n",
        "print(\"elements in list 2 are :\" , list_2)\n",
        "# Step 6: Print the third list where the new values are stored\n",
        "print(\"new elements are -:\" , result )"
      ],
      "execution_count": null,
      "outputs": [
        {
          "output_type": "stream",
          "text": [
            "elements in list 1 are : [90, 50, 40, 80, 10, 65]\n",
            "elements in list 2 are : [20, 60, 30, 70, 75, 45]\n",
            "new elements are -: [70, 50, 10, 10, 10, 20]\n"
          ],
          "name": "stdout"
        }
      ]
    },
    {
      "cell_type": "markdown",
      "metadata": {
        "id": "b4aeCDi0pkJz"
      },
      "source": [
        "#### Activity 3: Convert Fahrenheit into Celsius\n",
        "\n",
        "Write a program to convert the values in Fahrenheit degrees into Celsius degrees.\n",
        "\n",
        "**Formula**:\n",
        "\n",
        "```\n",
        "celsius = (fahrenheit - 32) / 1.8\n",
        "```\n",
        "\n",
        "**Example**:\n",
        "\n",
        "```\n",
        "Values in Fahrenheit degrees:\n",
        "[ 0  32   45.21]\n",
        "Values in Celsius degrees:\n",
        "[-17.78   0  7.34]\n",
        "```\n",
        "\n",
        "Follow the steps given below to achieve the desired result:\n",
        "\n",
        "  - **Step 1**: Import `numpy` module.\n",
        "\n",
        "  - **Step 2**: Declare a list with some random numbers which represents the temperatures in Fahrenheit degrees.\n",
        "\n",
        "  - **Step 3**: Convert the list into NumPy array using `array()` function. Print this array\n",
        "\n",
        "  - **Step 4**: Use the formula to convert Fahrenheit to Celsius and print the converted values.\n",
        "\n",
        ""
      ]
    },
    {
      "cell_type": "code",
      "metadata": {
        "id": "d5ufKLNYzsIl",
        "outputId": "6081cb11-d081-40e5-8fa2-aa5493800d56",
        "colab": {
          "base_uri": "https://localhost:8080/",
          "height": 51
        }
      },
      "source": [
        "# Write your code here\n",
        "# Step 1: Import numpy module\n",
        "import numpy as np\n",
        "# Step 2: Create a list of temperatures in Fahrenheit degree\n",
        "fahrenheit = [99, 35, 67, 89, 90 ]\n",
        "print(\"temperature in farenheit is -:\" , fahrenheit )\n",
        "# Step 3: Use array() function to convert list into array. Print this array\n",
        "fahrenheit = np.array(fahrenheit)\n",
        "# Step 4: Convert the values in Fahrenheit degrees to Celsius degrees using the above given formula and print\n",
        "celsius = (fahrenheit - 32) / 1.8\n",
        "print(\"temperature in celsius is -:\" , celsius )"
      ],
      "execution_count": null,
      "outputs": [
        {
          "output_type": "stream",
          "text": [
            "temperature in farenheit is -: [99, 35, 67, 89, 90]\n",
            "temperature in celsius is -: [37.22222222  1.66666667 19.44444444 31.66666667 32.22222222]\n"
          ],
          "name": "stdout"
        }
      ]
    },
    {
      "cell_type": "markdown",
      "metadata": {
        "id": "HSz7jRSlGxIO"
      },
      "source": [
        "---"
      ]
    }
  ]
}