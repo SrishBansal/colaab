{
  "nbformat": 4,
  "nbformat_minor": 0,
  "metadata": {
    "colab": {
      "provenance": [],
      "include_colab_link": true
    },
    "kernelspec": {
      "name": "python3",
      "display_name": "Python 3"
    }
  },
  "cells": [
    {
      "cell_type": "markdown",
      "metadata": {
        "id": "view-in-github",
        "colab_type": "text"
      },
      "source": [
        "<a href=\"https://colab.research.google.com/github/SrishBansal/colaab/blob/import/2020_09_15_Srish_Bansal_Project3.ipynb\" target=\"_parent\"><img src=\"https://colab.research.google.com/assets/colab-badge.svg\" alt=\"Open In Colab\"/></a>"
      ]
    },
    {
      "cell_type": "markdown",
      "metadata": {
        "id": "DPOFIO3EHncO"
      },
      "source": [
        "---"
      ]
    },
    {
      "cell_type": "markdown",
      "metadata": {
        "id": "BBqkpH4_Doqe"
      },
      "source": [
        "---"
      ]
    },
    {
      "cell_type": "markdown",
      "metadata": {
        "id": "_Jvu_lT4hxmj"
      },
      "source": [
        "### Activities"
      ]
    },
    {
      "cell_type": "markdown",
      "metadata": {
        "id": "q4fH06mIjuK3"
      },
      "source": [
        "#### Activity 1: Multiply a number with the previous number\n",
        "\n",
        "Write a function to print the result of a number multiplied with its previous number until the previous number is 1.\n",
        "\n",
        "For example:\n",
        "*    If the number is 5, then result = 5 * 4 * 3 * 2 * 1 = 120\n",
        "*    If the number is 8, then result = 8 * 7 * 6 * 5 * 4 * 3 * 2 * 1 = 40320\n",
        "\n",
        "Follow the steps given below to achieve the desired result:\n",
        "\n",
        "  - **Step 1:** Ask the user to enter a number. Convert the data type of the user input to `integer` and then store it in a variable `num`.\n",
        "\n",
        "  - **Step 2:** Create a function `multiplier()` that has `n` as the parameter i.e. `multiplier(n)`. Here, `n` is used to hold user input within this function.  \n",
        "\n",
        "  - **Step 3:** Inside this function, check whether the user has entered a positive number or not using an `if-elif-else` statement. If the user enters a negative number (i.e. `n<0`), then print the message `Sorry, the number cannot be negative`. Else, if the user enters `0` (i.e. `n=0`), then print the message `The result is 1`.\n",
        "\n",
        "  - **Step 4:** Else, if the user enters a positive number (i.e. `n>0`) then:\n",
        "\n",
        "      1. Initialize a variable `mult = 1`.\n",
        "\n",
        "      2. Keep on multiplying the value stored in variable `mult` with value stored in variable `n` (`mult * n`) till the value of `n` is greater than 0.\n",
        "\n",
        "      3. Decrement the value of `n` on each execution of the `while` loop.\n",
        "\n",
        "  - **Step 5:** As soon as the condition of the `while` loop becomes false, we get our desired result in the variable `mult`. Print the `mult` variable. This completes the implementation of our `multiplier()` function.\n",
        "\n",
        "  - **Step 6:** Now call the `multiplier()` function and pass the variable `num` (a variable which carries user input) as a parameter to this function."
      ]
    },
    {
      "cell_type": "code",
      "metadata": {
        "id": "4EAoTskqg041",
        "colab": {
          "base_uri": "https://localhost:8080/",
          "height": 51
        },
        "outputId": "a3041657-00f9-4a6b-8841-ed752e990ee2"
      },
      "source": [
        "# Write your code here\n",
        "# Step 1: Accept user input.\n",
        "num = int(input(\"enter a number :\"))\n",
        "# Step 2: Define a function 'multiplier(n)' .\n",
        "def multiplier(num) :\n",
        "    if num<0 :\n",
        "      print(\"Sorry, the number cannot be negative \",)\n",
        "    elif num == 0 :\n",
        "      print(\"The result is 1 \",)\n",
        "    else :\n",
        "      mult = 1\n",
        "      while(num>0) :\n",
        "       mult = mult*num\n",
        "       num = num-1\n",
        "      print(\"the result is\",mult)\n",
        "      # Step 3: Inside the function, check if the number is negative, positive or 0\n",
        "      # If the number is positive, perform Step 4 and Step 5\n",
        "# Step 6: Call the 'multiplier()' function to execute\n",
        "multiplier(num)"
      ],
      "execution_count": null,
      "outputs": [
        {
          "output_type": "stream",
          "text": [
            "enter a number :5\n",
            "the result is 120\n"
          ],
          "name": "stdout"
        }
      ]
    },
    {
      "cell_type": "markdown",
      "metadata": {
        "id": "xJlPs9X9oeRw"
      },
      "source": [
        "---"
      ]
    },
    {
      "cell_type": "markdown",
      "metadata": {
        "id": "qA-b1CdeofKc"
      },
      "source": [
        "#### Activity 2: Multiplication table\n",
        "\n",
        "Take input from the user and display the multiplication table.\n",
        "\n",
        "For example: if the number entered is 12 then expected output is:\n",
        "\n",
        "  12 x 1 = 12\n",
        "\n",
        "  12 x 2 = 24\n",
        "\n",
        "  ....\n",
        "  \n",
        "  12 x 10 = 120\n",
        "\n",
        "Follow the steps given below to achieve the desired result:\n",
        "\n",
        "- **Step 1:** Ask the user to enter a number. Convert the data type of user input to integer and then store it in a variable `num`.\n",
        "\n",
        "- **Step 2:** Initialize a variable `i=1` (This variable is used to make sure that the `while` loop is executed only upto 10, starting from 1).\n",
        "\n",
        "- **Step 3:** Create a `while` loop. This loop will be executed 10 times. So, the condition for `while` loop will be `i<=10`.\n",
        "\n",
        "- **Step 4:** Inside this loop, multiply the `num` variable with `i` variable and print its result. Also increment the value of `i` by 1 inside this loop. The execution stops once the condition for `while` loop becomes invalid.\n"
      ]
    },
    {
      "cell_type": "code",
      "metadata": {
        "id": "AtvPTG3kpBoS",
        "colab": {
          "base_uri": "https://localhost:8080/",
          "height": 204
        },
        "outputId": "3a49e1c1-a2f4-41b0-8939-efb36d8ce784"
      },
      "source": [
        "# Write your code here\n",
        "# Step 1: Get the user input\n",
        "num = int(input(\"enter a number :\"))\n",
        "# Step 2: Initialize variable 'i'\n",
        "i=1\n",
        "# Step 3: Execute a 'while' loop 10 times\n",
        "while i<=10 :\n",
        "  print(num,\"x\",i,\"=\",num*i)\n",
        "  i= i+1\n",
        "  # Step 4: Multiply the 'num' variable with 'i' variable and print its result. Increment the value of 'i' by 1"
      ],
      "execution_count": null,
      "outputs": [
        {
          "output_type": "stream",
          "text": [
            "enter a number :7\n",
            "7 x 1 = 7\n",
            "7 x 2 = 14\n",
            "7 x 3 = 21\n",
            "7 x 4 = 28\n",
            "7 x 5 = 35\n",
            "7 x 6 = 42\n",
            "7 x 7 = 49\n",
            "7 x 8 = 56\n",
            "7 x 9 = 63\n",
            "7 x 10 = 70\n"
          ],
          "name": "stdout"
        }
      ]
    },
    {
      "cell_type": "markdown",
      "metadata": {
        "id": "KOVBiUSMzut1"
      },
      "source": [
        "---"
      ]
    },
    {
      "cell_type": "markdown",
      "metadata": {
        "id": "HSz7jRSlGxIO"
      },
      "source": [
        "---"
      ]
    }
  ]
}