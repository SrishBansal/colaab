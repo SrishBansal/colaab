{
  "nbformat": 4,
  "nbformat_minor": 0,
  "metadata": {
    "colab": {
      "provenance": [],
      "include_colab_link": true
    },
    "kernelspec": {
      "name": "python3",
      "display_name": "Python 3"
    }
  },
  "cells": [
    {
      "cell_type": "markdown",
      "metadata": {
        "id": "view-in-github",
        "colab_type": "text"
      },
      "source": [
        "<a href=\"https://colab.research.google.com/github/SrishBansal/colaab/blob/colab/2020_11_09_Srish_Bansal_CapstoneProject6.ipynb\" target=\"_parent\"><img src=\"https://colab.research.google.com/assets/colab-badge.svg\" alt=\"Open In Colab\"/></a>"
      ]
    },
    {
      "cell_type": "markdown",
      "metadata": {
        "id": "boJY-CanQcE6"
      },
      "source": [
        "# Project 6: Predicting A Pulsar Star"
      ]
    },
    {
      "cell_type": "markdown",
      "metadata": {
        "id": "ydmz0sX16yhf"
      },
      "source": [
        "### Overview\n",
        "\n",
        "Pulsar stars (https://www.youtube.com/watch?v=gjLk_72V9Bw) are a rare type of Neutron stars (https://www.youtube.com/watch?v=hCwDNXKlN8Q) that produce radio emissions detectable on Earth. They are of considerable scientific interest as probes of space-time, the interstellar medium, and states of matter.\n",
        "\n",
        "You can learn more about the Pulsar and neutron star by watching this video: https://www.youtube.com/watch?v=RrMvUL8HFlM\n",
        "\n",
        "As pulsars rotate, their emission beam sweeps across the sky, and when this crosses our line of sight, it produces a detectable pattern of broadband radio emission.\n",
        "\n",
        "<img src='https://student-datasets-bucket.s3.ap-south-1.amazonaws.com/images/lightcurve_pulsar.gif'>\n",
        "\n",
        "As pulsars rotate rapidly, this pattern repeats periodically. Thus pulsar search involves looking for periodic radio signals using large radio telescopes.\n",
        "\n",
        "Each pulsar produces a slightly different emission pattern, which varies slightly with each rotation. Thus a potential signal detection known as a 'candidate', is averaged over many rotations of the pulsar, as determined by the length of observation. In the absence of additional info, each candidate could potentially describe a real pulsar. However, in practice almost all detections are caused by Radio Frequency Interference (RFI) and noise, making legitimate signals hard to find.\n",
        "\n",
        "Machine learning tools are now being used to automatically label pulsar candidates to facilitate rapid analysis. The classification algorithms, in particular, are being widely adopted, which treat the candidate datasets as binary classification problems (predict either `0` or `1`). Here, the legitimate pulsar examples are a minority positive class (less in numbers), and the remaining examples are a majority negative class.\n",
        "\n",
        "The class labels used are `0` (negative class) and `1` (positive class). Hence, **we need to deploy the XGBoost Classifier classification model which can accurately detect the class 1 examples.**\n"
      ]
    },
    {
      "cell_type": "markdown",
      "metadata": {
        "id": "_wo1cHTIQxyv"
      },
      "source": [
        "---"
      ]
    },
    {
      "cell_type": "markdown",
      "metadata": {
        "id": "9NOF_hwkpD1g"
      },
      "source": [
        "---"
      ]
    },
    {
      "cell_type": "markdown",
      "metadata": {
        "id": "2_aRS4XTQw0N"
      },
      "source": [
        "### Attribute Information\n",
        "\n",
        "Each candidate is described by 8 continuous variables and a single class variable. The first four are simple statistics obtained from the integrated pulse profile (folded profile). This is an array of continuous variables that describe a longitude-resolved version of the signal that has been averaged in both time and frequency. The remaining four variables are similarly obtained from the DM-SNR curve. **You do not have to worry about what they actually mean.** These 8 variables are summarised below:\n",
        "\n",
        "1. The mean of the integrated profile.\n",
        "\n",
        "2. The standard deviation of the integrated profile.\n",
        "\n",
        "3. Excess kurtosis of the integrated profile.\n",
        "\n",
        "4. The skewness of the integrated profile.\n",
        "\n",
        "5. The mean of the DM-SNR curve.\n",
        "\n",
        "6. The standard deviation of the DM-SNR curve.\n",
        "\n",
        "7. Excess kurtosis of the DM-SNR curve.\n",
        "\n",
        "8. The skewness of the DM-SNR curve.\n",
        "\n",
        "Source: https://archive.ics.uci.edu/ml/datasets/HTRU2\n",
        "\n",
        "**Courtesy**\n",
        "\n",
        "Dr Robert Lyon\n",
        "\n",
        "University of Manchester\n",
        "\n",
        "School of Physics and Astronomy\n",
        "\n",
        "Alan Turing Building\n",
        "\n",
        "Manchester M13 9PL\n",
        "\n",
        "United Kingdom\n",
        "\n",
        "robert.lyon@manchester.ac.uk\n",
        "\n",
        "#### Dataset Links\n",
        "\n",
        "You can get the datasets from the following links:\n",
        "\n",
        "1. Train dataset: https://student-datasets-bucket.s3.ap-south-1.amazonaws.com/whitehat-ds-datasets/project-5/pulsar-star-prediction-train.csv\n",
        "\n",
        "2. Test dataset: https://student-datasets-bucket.s3.ap-south-1.amazonaws.com/whitehat-ds-datasets/project-5/pulsar-star-prediction-test.csv\n"
      ]
    },
    {
      "cell_type": "markdown",
      "metadata": {
        "id": "XYPSgVZNQ4wd"
      },
      "source": [
        "### Project Requirements\n",
        "\n",
        "1. Create a pandas DataFrame for both the train and test datasets.\n",
        "\n",
        "2. Display the first five rows of both the training and test DataFrames.\n",
        "\n",
        "3. Display the last five rows of both the training and test DataFrames.\n",
        "\n",
        "4. Find the number of rows and columns in both the train and test DataFrames.\n",
        "\n",
        "5. Check for the missing values in both the train and test DataFrames.\n",
        "\n",
        "6. Count the number of `0` and `1` classes in the training dataset.\n",
        "\n",
        "7. Separate the feature variables, i.e, `x_train` and `x_test` from both the DataFrames.\n",
        "\n",
        "8. Separate the target variable, i.e, `y_train` and `y_test` from both the DataFrames.\n",
        "\n",
        "9. Apply the `XGBClassifier` machine learning model to predict the `0` and `1` classes in the test dataset, i.e, `x_test`.\n",
        "\n",
        "10. Print the confusion matrix and the classification report to evaluate your prediction model. Also, based on the confusion matrix, precision, recall and f1-score values, report whether the prediction model deployed by you is making accurate predictions or not.\n"
      ]
    },
    {
      "cell_type": "markdown",
      "metadata": {
        "id": "2cki9m7HQ4HF"
      },
      "source": [
        "---"
      ]
    },
    {
      "cell_type": "markdown",
      "metadata": {
        "id": "WWYYVXmiWA2U"
      },
      "source": [
        "#### 1. Create The DataFrames\n",
        "\n",
        "Create the Pandas DataFrames for both the training and test datasets."
      ]
    },
    {
      "cell_type": "code",
      "metadata": {
        "id": "FcPnUmo26rpg"
      },
      "source": [
        "# Create the DataFrames for both the train and test datasets and store them in the 'train_df' and 'test_df' variables respectively.\n",
        "import pandas as pd\n",
        "train_df = pd.read_csv(\"https://student-datasets-bucket.s3.ap-south-1.amazonaws.com/whitehat-ds-datasets/project-5/pulsar-star-prediction-train.csv\")\n",
        "test_df = pd.read_csv(\"https://student-datasets-bucket.s3.ap-south-1.amazonaws.com/whitehat-ds-datasets/project-5/pulsar-star-prediction-test.csv\")"
      ],
      "execution_count": null,
      "outputs": []
    },
    {
      "cell_type": "markdown",
      "metadata": {
        "id": "07LZaVcSbdhc"
      },
      "source": [
        "---"
      ]
    },
    {
      "cell_type": "markdown",
      "metadata": {
        "id": "N-td-m98bjaW"
      },
      "source": [
        "#### 2. Display First Five Rows\n",
        "\n",
        "Display the first five rows of both the `train_df` and `test_df` DataFrames."
      ]
    },
    {
      "cell_type": "code",
      "metadata": {
        "id": "ACRMQ_vbWozF",
        "outputId": "5e6f1399-8edd-40d6-8e04-cab187198a15",
        "colab": {
          "base_uri": "https://localhost:8080/"
        }
      },
      "source": [
        "# Display the first 5 rows of the 'train_df' DataFrame.\n",
        "train_df.head()"
      ],
      "execution_count": null,
      "outputs": [
        {
          "output_type": "execute_result",
          "data": {
            "text/html": [
              "<div>\n",
              "<style scoped>\n",
              "    .dataframe tbody tr th:only-of-type {\n",
              "        vertical-align: middle;\n",
              "    }\n",
              "\n",
              "    .dataframe tbody tr th {\n",
              "        vertical-align: top;\n",
              "    }\n",
              "\n",
              "    .dataframe thead th {\n",
              "        text-align: right;\n",
              "    }\n",
              "</style>\n",
              "<table border=\"1\" class=\"dataframe\">\n",
              "  <thead>\n",
              "    <tr style=\"text-align: right;\">\n",
              "      <th></th>\n",
              "      <th>target_class</th>\n",
              "      <th>Mean of the integrated profile</th>\n",
              "      <th>Standard deviation of the integrated profile</th>\n",
              "      <th>Excess kurtosis of the integrated profile</th>\n",
              "      <th>Skewness of the integrated profile</th>\n",
              "      <th>Mean of the DM-SNR curve</th>\n",
              "      <th>Standard deviation of the DM-SNR curve</th>\n",
              "      <th>Excess kurtosis of the DM-SNR curve</th>\n",
              "      <th>Skewness of the DM-SNR curve</th>\n",
              "    </tr>\n",
              "  </thead>\n",
              "  <tbody>\n",
              "    <tr>\n",
              "      <th>0</th>\n",
              "      <td>0</td>\n",
              "      <td>111.109375</td>\n",
              "      <td>53.131064</td>\n",
              "      <td>0.280253</td>\n",
              "      <td>-0.222447</td>\n",
              "      <td>3.011706</td>\n",
              "      <td>20.355820</td>\n",
              "      <td>7.585482</td>\n",
              "      <td>62.383270</td>\n",
              "    </tr>\n",
              "    <tr>\n",
              "      <th>1</th>\n",
              "      <td>0</td>\n",
              "      <td>151.945312</td>\n",
              "      <td>47.973350</td>\n",
              "      <td>-0.250834</td>\n",
              "      <td>0.275367</td>\n",
              "      <td>2.115385</td>\n",
              "      <td>14.195484</td>\n",
              "      <td>11.640297</td>\n",
              "      <td>173.592172</td>\n",
              "    </tr>\n",
              "    <tr>\n",
              "      <th>2</th>\n",
              "      <td>1</td>\n",
              "      <td>52.335938</td>\n",
              "      <td>34.775008</td>\n",
              "      <td>2.478375</td>\n",
              "      <td>10.179171</td>\n",
              "      <td>8.230769</td>\n",
              "      <td>34.775947</td>\n",
              "      <td>4.652342</td>\n",
              "      <td>21.987882</td>\n",
              "    </tr>\n",
              "    <tr>\n",
              "      <th>3</th>\n",
              "      <td>0</td>\n",
              "      <td>121.562500</td>\n",
              "      <td>48.569498</td>\n",
              "      <td>-0.033391</td>\n",
              "      <td>-0.323514</td>\n",
              "      <td>2.595318</td>\n",
              "      <td>15.089924</td>\n",
              "      <td>8.734079</td>\n",
              "      <td>98.584122</td>\n",
              "    </tr>\n",
              "    <tr>\n",
              "      <th>4</th>\n",
              "      <td>0</td>\n",
              "      <td>133.664062</td>\n",
              "      <td>59.137852</td>\n",
              "      <td>-0.164198</td>\n",
              "      <td>-0.552877</td>\n",
              "      <td>1.542642</td>\n",
              "      <td>12.052034</td>\n",
              "      <td>12.226623</td>\n",
              "      <td>196.522501</td>\n",
              "    </tr>\n",
              "  </tbody>\n",
              "</table>\n",
              "</div>"
            ],
            "text/plain": [
              "   target_class  ...   Skewness of the DM-SNR curve\n",
              "0             0  ...                      62.383270\n",
              "1             0  ...                     173.592172\n",
              "2             1  ...                      21.987882\n",
              "3             0  ...                      98.584122\n",
              "4             0  ...                     196.522501\n",
              "\n",
              "[5 rows x 9 columns]"
            ]
          },
          "metadata": {
            "tags": []
          },
          "execution_count": 17
        }
      ]
    },
    {
      "cell_type": "code",
      "metadata": {
        "id": "2SKbLbNyWq7b",
        "outputId": "d9cf1c5b-6ed0-408d-d123-3b41f60833a1",
        "colab": {
          "base_uri": "https://localhost:8080/"
        }
      },
      "source": [
        "# Display the first 5 rows of the 'test_df' DataFrame.\n",
        "test_df.head()"
      ],
      "execution_count": null,
      "outputs": [
        {
          "output_type": "execute_result",
          "data": {
            "text/html": [
              "<div>\n",
              "<style scoped>\n",
              "    .dataframe tbody tr th:only-of-type {\n",
              "        vertical-align: middle;\n",
              "    }\n",
              "\n",
              "    .dataframe tbody tr th {\n",
              "        vertical-align: top;\n",
              "    }\n",
              "\n",
              "    .dataframe thead th {\n",
              "        text-align: right;\n",
              "    }\n",
              "</style>\n",
              "<table border=\"1\" class=\"dataframe\">\n",
              "  <thead>\n",
              "    <tr style=\"text-align: right;\">\n",
              "      <th></th>\n",
              "      <th>target_class</th>\n",
              "      <th>Mean of the integrated profile</th>\n",
              "      <th>Standard deviation of the integrated profile</th>\n",
              "      <th>Excess kurtosis of the integrated profile</th>\n",
              "      <th>Skewness of the integrated profile</th>\n",
              "      <th>Mean of the DM-SNR curve</th>\n",
              "      <th>Standard deviation of the DM-SNR curve</th>\n",
              "      <th>Excess kurtosis of the DM-SNR curve</th>\n",
              "      <th>Skewness of the DM-SNR curve</th>\n",
              "    </tr>\n",
              "  </thead>\n",
              "  <tbody>\n",
              "    <tr>\n",
              "      <th>0</th>\n",
              "      <td>0</td>\n",
              "      <td>116.906250</td>\n",
              "      <td>48.920605</td>\n",
              "      <td>0.186046</td>\n",
              "      <td>-0.129815</td>\n",
              "      <td>3.037625</td>\n",
              "      <td>17.737102</td>\n",
              "      <td>8.122621</td>\n",
              "      <td>78.813405</td>\n",
              "    </tr>\n",
              "    <tr>\n",
              "      <th>1</th>\n",
              "      <td>1</td>\n",
              "      <td>75.585938</td>\n",
              "      <td>34.386254</td>\n",
              "      <td>2.025498</td>\n",
              "      <td>8.652913</td>\n",
              "      <td>3.765050</td>\n",
              "      <td>21.897049</td>\n",
              "      <td>7.048189</td>\n",
              "      <td>55.878791</td>\n",
              "    </tr>\n",
              "    <tr>\n",
              "      <th>2</th>\n",
              "      <td>0</td>\n",
              "      <td>103.273438</td>\n",
              "      <td>46.996628</td>\n",
              "      <td>0.504295</td>\n",
              "      <td>0.821088</td>\n",
              "      <td>2.244983</td>\n",
              "      <td>15.622566</td>\n",
              "      <td>9.330498</td>\n",
              "      <td>105.134941</td>\n",
              "    </tr>\n",
              "    <tr>\n",
              "      <th>3</th>\n",
              "      <td>1</td>\n",
              "      <td>101.078125</td>\n",
              "      <td>48.587487</td>\n",
              "      <td>1.011427</td>\n",
              "      <td>1.151870</td>\n",
              "      <td>81.887960</td>\n",
              "      <td>81.464136</td>\n",
              "      <td>0.485105</td>\n",
              "      <td>-1.117904</td>\n",
              "    </tr>\n",
              "    <tr>\n",
              "      <th>4</th>\n",
              "      <td>0</td>\n",
              "      <td>113.226562</td>\n",
              "      <td>48.608804</td>\n",
              "      <td>0.291538</td>\n",
              "      <td>0.292120</td>\n",
              "      <td>6.291806</td>\n",
              "      <td>26.585056</td>\n",
              "      <td>4.540138</td>\n",
              "      <td>21.708268</td>\n",
              "    </tr>\n",
              "  </tbody>\n",
              "</table>\n",
              "</div>"
            ],
            "text/plain": [
              "   target_class  ...   Skewness of the DM-SNR curve\n",
              "0             0  ...                      78.813405\n",
              "1             1  ...                      55.878791\n",
              "2             0  ...                     105.134941\n",
              "3             1  ...                      -1.117904\n",
              "4             0  ...                      21.708268\n",
              "\n",
              "[5 rows x 9 columns]"
            ]
          },
          "metadata": {
            "tags": []
          },
          "execution_count": 18
        }
      ]
    },
    {
      "cell_type": "markdown",
      "metadata": {
        "id": "52J9hBwPWTbU"
      },
      "source": [
        "---"
      ]
    },
    {
      "cell_type": "markdown",
      "metadata": {
        "id": "aq1X_H4qbxv1"
      },
      "source": [
        "#### 3. Display Last Five Rows\n",
        "\n",
        "Display the last five rows of both the `train_df` and `test_df` DataFrames."
      ]
    },
    {
      "cell_type": "code",
      "metadata": {
        "id": "kHMPTzOZbypz",
        "outputId": "86cb16ec-8ab3-4140-cab2-467e3841760e",
        "colab": {
          "base_uri": "https://localhost:8080/",
          "height": 238
        }
      },
      "source": [
        "# Display the last 5 rows of the 'train_df' DataFrame.\n",
        "train_df.tail()"
      ],
      "execution_count": null,
      "outputs": [
        {
          "output_type": "execute_result",
          "data": {
            "text/html": [
              "<div>\n",
              "<style scoped>\n",
              "    .dataframe tbody tr th:only-of-type {\n",
              "        vertical-align: middle;\n",
              "    }\n",
              "\n",
              "    .dataframe tbody tr th {\n",
              "        vertical-align: top;\n",
              "    }\n",
              "\n",
              "    .dataframe thead th {\n",
              "        text-align: right;\n",
              "    }\n",
              "</style>\n",
              "<table border=\"1\" class=\"dataframe\">\n",
              "  <thead>\n",
              "    <tr style=\"text-align: right;\">\n",
              "      <th></th>\n",
              "      <th>target_class</th>\n",
              "      <th>Mean of the integrated profile</th>\n",
              "      <th>Standard deviation of the integrated profile</th>\n",
              "      <th>Excess kurtosis of the integrated profile</th>\n",
              "      <th>Skewness of the integrated profile</th>\n",
              "      <th>Mean of the DM-SNR curve</th>\n",
              "      <th>Standard deviation of the DM-SNR curve</th>\n",
              "      <th>Excess kurtosis of the DM-SNR curve</th>\n",
              "      <th>Skewness of the DM-SNR curve</th>\n",
              "    </tr>\n",
              "  </thead>\n",
              "  <tbody>\n",
              "    <tr>\n",
              "      <th>11986</th>\n",
              "      <td>0</td>\n",
              "      <td>124.312500</td>\n",
              "      <td>53.179053</td>\n",
              "      <td>-0.012418</td>\n",
              "      <td>-0.556021</td>\n",
              "      <td>7.186455</td>\n",
              "      <td>29.308266</td>\n",
              "      <td>4.531382</td>\n",
              "      <td>21.725143</td>\n",
              "    </tr>\n",
              "    <tr>\n",
              "      <th>11987</th>\n",
              "      <td>0</td>\n",
              "      <td>115.617188</td>\n",
              "      <td>46.784600</td>\n",
              "      <td>0.218177</td>\n",
              "      <td>0.226757</td>\n",
              "      <td>6.140468</td>\n",
              "      <td>30.271961</td>\n",
              "      <td>5.732201</td>\n",
              "      <td>34.357283</td>\n",
              "    </tr>\n",
              "    <tr>\n",
              "      <th>11988</th>\n",
              "      <td>0</td>\n",
              "      <td>116.031250</td>\n",
              "      <td>43.213846</td>\n",
              "      <td>0.663456</td>\n",
              "      <td>0.433088</td>\n",
              "      <td>0.785117</td>\n",
              "      <td>11.628149</td>\n",
              "      <td>17.055215</td>\n",
              "      <td>312.204325</td>\n",
              "    </tr>\n",
              "    <tr>\n",
              "      <th>11989</th>\n",
              "      <td>0</td>\n",
              "      <td>135.664062</td>\n",
              "      <td>49.933749</td>\n",
              "      <td>-0.089940</td>\n",
              "      <td>-0.226726</td>\n",
              "      <td>3.859532</td>\n",
              "      <td>21.501505</td>\n",
              "      <td>7.398395</td>\n",
              "      <td>62.334018</td>\n",
              "    </tr>\n",
              "    <tr>\n",
              "      <th>11990</th>\n",
              "      <td>0</td>\n",
              "      <td>120.726562</td>\n",
              "      <td>50.472256</td>\n",
              "      <td>0.346178</td>\n",
              "      <td>0.184797</td>\n",
              "      <td>0.769231</td>\n",
              "      <td>11.792603</td>\n",
              "      <td>17.662222</td>\n",
              "      <td>329.548016</td>\n",
              "    </tr>\n",
              "  </tbody>\n",
              "</table>\n",
              "</div>"
            ],
            "text/plain": [
              "       target_class  ...   Skewness of the DM-SNR curve\n",
              "11986             0  ...                      21.725143\n",
              "11987             0  ...                      34.357283\n",
              "11988             0  ...                     312.204325\n",
              "11989             0  ...                      62.334018\n",
              "11990             0  ...                     329.548016\n",
              "\n",
              "[5 rows x 9 columns]"
            ]
          },
          "metadata": {
            "tags": []
          },
          "execution_count": 19
        }
      ]
    },
    {
      "cell_type": "code",
      "metadata": {
        "id": "Ew0qJlamb0sB",
        "outputId": "ec9c5314-54d9-482d-e424-cfbcda5cc462",
        "colab": {
          "base_uri": "https://localhost:8080/",
          "height": 238
        }
      },
      "source": [
        "# Display the last 5 rows of the 'test_df' DataFrame.\n",
        "test_df.head()"
      ],
      "execution_count": null,
      "outputs": [
        {
          "output_type": "execute_result",
          "data": {
            "text/html": [
              "<div>\n",
              "<style scoped>\n",
              "    .dataframe tbody tr th:only-of-type {\n",
              "        vertical-align: middle;\n",
              "    }\n",
              "\n",
              "    .dataframe tbody tr th {\n",
              "        vertical-align: top;\n",
              "    }\n",
              "\n",
              "    .dataframe thead th {\n",
              "        text-align: right;\n",
              "    }\n",
              "</style>\n",
              "<table border=\"1\" class=\"dataframe\">\n",
              "  <thead>\n",
              "    <tr style=\"text-align: right;\">\n",
              "      <th></th>\n",
              "      <th>target_class</th>\n",
              "      <th>Mean of the integrated profile</th>\n",
              "      <th>Standard deviation of the integrated profile</th>\n",
              "      <th>Excess kurtosis of the integrated profile</th>\n",
              "      <th>Skewness of the integrated profile</th>\n",
              "      <th>Mean of the DM-SNR curve</th>\n",
              "      <th>Standard deviation of the DM-SNR curve</th>\n",
              "      <th>Excess kurtosis of the DM-SNR curve</th>\n",
              "      <th>Skewness of the DM-SNR curve</th>\n",
              "    </tr>\n",
              "  </thead>\n",
              "  <tbody>\n",
              "    <tr>\n",
              "      <th>0</th>\n",
              "      <td>0</td>\n",
              "      <td>116.906250</td>\n",
              "      <td>48.920605</td>\n",
              "      <td>0.186046</td>\n",
              "      <td>-0.129815</td>\n",
              "      <td>3.037625</td>\n",
              "      <td>17.737102</td>\n",
              "      <td>8.122621</td>\n",
              "      <td>78.813405</td>\n",
              "    </tr>\n",
              "    <tr>\n",
              "      <th>1</th>\n",
              "      <td>1</td>\n",
              "      <td>75.585938</td>\n",
              "      <td>34.386254</td>\n",
              "      <td>2.025498</td>\n",
              "      <td>8.652913</td>\n",
              "      <td>3.765050</td>\n",
              "      <td>21.897049</td>\n",
              "      <td>7.048189</td>\n",
              "      <td>55.878791</td>\n",
              "    </tr>\n",
              "    <tr>\n",
              "      <th>2</th>\n",
              "      <td>0</td>\n",
              "      <td>103.273438</td>\n",
              "      <td>46.996628</td>\n",
              "      <td>0.504295</td>\n",
              "      <td>0.821088</td>\n",
              "      <td>2.244983</td>\n",
              "      <td>15.622566</td>\n",
              "      <td>9.330498</td>\n",
              "      <td>105.134941</td>\n",
              "    </tr>\n",
              "    <tr>\n",
              "      <th>3</th>\n",
              "      <td>1</td>\n",
              "      <td>101.078125</td>\n",
              "      <td>48.587487</td>\n",
              "      <td>1.011427</td>\n",
              "      <td>1.151870</td>\n",
              "      <td>81.887960</td>\n",
              "      <td>81.464136</td>\n",
              "      <td>0.485105</td>\n",
              "      <td>-1.117904</td>\n",
              "    </tr>\n",
              "    <tr>\n",
              "      <th>4</th>\n",
              "      <td>0</td>\n",
              "      <td>113.226562</td>\n",
              "      <td>48.608804</td>\n",
              "      <td>0.291538</td>\n",
              "      <td>0.292120</td>\n",
              "      <td>6.291806</td>\n",
              "      <td>26.585056</td>\n",
              "      <td>4.540138</td>\n",
              "      <td>21.708268</td>\n",
              "    </tr>\n",
              "  </tbody>\n",
              "</table>\n",
              "</div>"
            ],
            "text/plain": [
              "   target_class  ...   Skewness of the DM-SNR curve\n",
              "0             0  ...                      78.813405\n",
              "1             1  ...                      55.878791\n",
              "2             0  ...                     105.134941\n",
              "3             1  ...                      -1.117904\n",
              "4             0  ...                      21.708268\n",
              "\n",
              "[5 rows x 9 columns]"
            ]
          },
          "metadata": {
            "tags": []
          },
          "execution_count": 20
        }
      ]
    },
    {
      "cell_type": "markdown",
      "metadata": {
        "id": "XdIO_wHRbwAO"
      },
      "source": [
        "---"
      ]
    },
    {
      "cell_type": "markdown",
      "metadata": {
        "id": "gGYkD2qwWSvO"
      },
      "source": [
        "#### 4. Rows & Columns In Train DataFrame\n",
        "\n",
        "Find the number of rows and columns in both the `train_df` and `test_df` DataFrames."
      ]
    },
    {
      "cell_type": "code",
      "metadata": {
        "id": "tQeowD6QMgZT",
        "outputId": "d35490fe-cf9d-4c7b-b694-176ee0101a92",
        "colab": {
          "base_uri": "https://localhost:8080/"
        }
      },
      "source": [
        "# Print the number of rows and columns in both the DataFrames.\n",
        "print(\"The Number of rows and columns in train_df is -:\",train_df.shape)\n",
        "print(\"The Number of rows and columns in test_df is -:\",test_df.shape)"
      ],
      "execution_count": null,
      "outputs": [
        {
          "output_type": "stream",
          "text": [
            "The Number of rows and columns in train_df is -: (11991, 9)\n",
            "The Number of rows and columns in test_df is -: (5907, 9)\n"
          ],
          "name": "stdout"
        }
      ]
    },
    {
      "cell_type": "markdown",
      "metadata": {
        "id": "5SMkQqLOWaZf"
      },
      "source": [
        "---"
      ]
    },
    {
      "cell_type": "markdown",
      "metadata": {
        "id": "Pk824C11Wbe8"
      },
      "source": [
        "#### 5. Check For Missing Values\n",
        "\n",
        "Check whether any of the columns in both the `train_df` and `test_df` DataFrames has any missing value."
      ]
    },
    {
      "cell_type": "code",
      "metadata": {
        "id": "_pkyxjiSNhMd",
        "outputId": "d2a5e919-3b82-48e2-e552-fa8693658317",
        "colab": {
          "base_uri": "https://localhost:8080/",
          "height": 453
        }
      },
      "source": [
        "# Check for the missing values in the 'train_df' DataFrame.\n",
        "train_df.isnull()"
      ],
      "execution_count": null,
      "outputs": [
        {
          "output_type": "execute_result",
          "data": {
            "text/html": [
              "<div>\n",
              "<style scoped>\n",
              "    .dataframe tbody tr th:only-of-type {\n",
              "        vertical-align: middle;\n",
              "    }\n",
              "\n",
              "    .dataframe tbody tr th {\n",
              "        vertical-align: top;\n",
              "    }\n",
              "\n",
              "    .dataframe thead th {\n",
              "        text-align: right;\n",
              "    }\n",
              "</style>\n",
              "<table border=\"1\" class=\"dataframe\">\n",
              "  <thead>\n",
              "    <tr style=\"text-align: right;\">\n",
              "      <th></th>\n",
              "      <th>target_class</th>\n",
              "      <th>Mean of the integrated profile</th>\n",
              "      <th>Standard deviation of the integrated profile</th>\n",
              "      <th>Excess kurtosis of the integrated profile</th>\n",
              "      <th>Skewness of the integrated profile</th>\n",
              "      <th>Mean of the DM-SNR curve</th>\n",
              "      <th>Standard deviation of the DM-SNR curve</th>\n",
              "      <th>Excess kurtosis of the DM-SNR curve</th>\n",
              "      <th>Skewness of the DM-SNR curve</th>\n",
              "    </tr>\n",
              "  </thead>\n",
              "  <tbody>\n",
              "    <tr>\n",
              "      <th>0</th>\n",
              "      <td>False</td>\n",
              "      <td>False</td>\n",
              "      <td>False</td>\n",
              "      <td>False</td>\n",
              "      <td>False</td>\n",
              "      <td>False</td>\n",
              "      <td>False</td>\n",
              "      <td>False</td>\n",
              "      <td>False</td>\n",
              "    </tr>\n",
              "    <tr>\n",
              "      <th>1</th>\n",
              "      <td>False</td>\n",
              "      <td>False</td>\n",
              "      <td>False</td>\n",
              "      <td>False</td>\n",
              "      <td>False</td>\n",
              "      <td>False</td>\n",
              "      <td>False</td>\n",
              "      <td>False</td>\n",
              "      <td>False</td>\n",
              "    </tr>\n",
              "    <tr>\n",
              "      <th>2</th>\n",
              "      <td>False</td>\n",
              "      <td>False</td>\n",
              "      <td>False</td>\n",
              "      <td>False</td>\n",
              "      <td>False</td>\n",
              "      <td>False</td>\n",
              "      <td>False</td>\n",
              "      <td>False</td>\n",
              "      <td>False</td>\n",
              "    </tr>\n",
              "    <tr>\n",
              "      <th>3</th>\n",
              "      <td>False</td>\n",
              "      <td>False</td>\n",
              "      <td>False</td>\n",
              "      <td>False</td>\n",
              "      <td>False</td>\n",
              "      <td>False</td>\n",
              "      <td>False</td>\n",
              "      <td>False</td>\n",
              "      <td>False</td>\n",
              "    </tr>\n",
              "    <tr>\n",
              "      <th>4</th>\n",
              "      <td>False</td>\n",
              "      <td>False</td>\n",
              "      <td>False</td>\n",
              "      <td>False</td>\n",
              "      <td>False</td>\n",
              "      <td>False</td>\n",
              "      <td>False</td>\n",
              "      <td>False</td>\n",
              "      <td>False</td>\n",
              "    </tr>\n",
              "    <tr>\n",
              "      <th>...</th>\n",
              "      <td>...</td>\n",
              "      <td>...</td>\n",
              "      <td>...</td>\n",
              "      <td>...</td>\n",
              "      <td>...</td>\n",
              "      <td>...</td>\n",
              "      <td>...</td>\n",
              "      <td>...</td>\n",
              "      <td>...</td>\n",
              "    </tr>\n",
              "    <tr>\n",
              "      <th>11986</th>\n",
              "      <td>False</td>\n",
              "      <td>False</td>\n",
              "      <td>False</td>\n",
              "      <td>False</td>\n",
              "      <td>False</td>\n",
              "      <td>False</td>\n",
              "      <td>False</td>\n",
              "      <td>False</td>\n",
              "      <td>False</td>\n",
              "    </tr>\n",
              "    <tr>\n",
              "      <th>11987</th>\n",
              "      <td>False</td>\n",
              "      <td>False</td>\n",
              "      <td>False</td>\n",
              "      <td>False</td>\n",
              "      <td>False</td>\n",
              "      <td>False</td>\n",
              "      <td>False</td>\n",
              "      <td>False</td>\n",
              "      <td>False</td>\n",
              "    </tr>\n",
              "    <tr>\n",
              "      <th>11988</th>\n",
              "      <td>False</td>\n",
              "      <td>False</td>\n",
              "      <td>False</td>\n",
              "      <td>False</td>\n",
              "      <td>False</td>\n",
              "      <td>False</td>\n",
              "      <td>False</td>\n",
              "      <td>False</td>\n",
              "      <td>False</td>\n",
              "    </tr>\n",
              "    <tr>\n",
              "      <th>11989</th>\n",
              "      <td>False</td>\n",
              "      <td>False</td>\n",
              "      <td>False</td>\n",
              "      <td>False</td>\n",
              "      <td>False</td>\n",
              "      <td>False</td>\n",
              "      <td>False</td>\n",
              "      <td>False</td>\n",
              "      <td>False</td>\n",
              "    </tr>\n",
              "    <tr>\n",
              "      <th>11990</th>\n",
              "      <td>False</td>\n",
              "      <td>False</td>\n",
              "      <td>False</td>\n",
              "      <td>False</td>\n",
              "      <td>False</td>\n",
              "      <td>False</td>\n",
              "      <td>False</td>\n",
              "      <td>False</td>\n",
              "      <td>False</td>\n",
              "    </tr>\n",
              "  </tbody>\n",
              "</table>\n",
              "<p>11991 rows × 9 columns</p>\n",
              "</div>"
            ],
            "text/plain": [
              "       target_class  ...   Skewness of the DM-SNR curve\n",
              "0             False  ...                          False\n",
              "1             False  ...                          False\n",
              "2             False  ...                          False\n",
              "3             False  ...                          False\n",
              "4             False  ...                          False\n",
              "...             ...  ...                            ...\n",
              "11986         False  ...                          False\n",
              "11987         False  ...                          False\n",
              "11988         False  ...                          False\n",
              "11989         False  ...                          False\n",
              "11990         False  ...                          False\n",
              "\n",
              "[11991 rows x 9 columns]"
            ]
          },
          "metadata": {
            "tags": []
          },
          "execution_count": 22
        }
      ]
    },
    {
      "cell_type": "code",
      "metadata": {
        "id": "VSlTOdfAW0wE",
        "outputId": "77239022-6e50-480d-e1a9-f24d0071bd0a",
        "colab": {
          "base_uri": "https://localhost:8080/",
          "height": 453
        }
      },
      "source": [
        "# Check for the missing values in the 'test_df' DataFrame.\n",
        "test_df.isnull()"
      ],
      "execution_count": null,
      "outputs": [
        {
          "output_type": "execute_result",
          "data": {
            "text/html": [
              "<div>\n",
              "<style scoped>\n",
              "    .dataframe tbody tr th:only-of-type {\n",
              "        vertical-align: middle;\n",
              "    }\n",
              "\n",
              "    .dataframe tbody tr th {\n",
              "        vertical-align: top;\n",
              "    }\n",
              "\n",
              "    .dataframe thead th {\n",
              "        text-align: right;\n",
              "    }\n",
              "</style>\n",
              "<table border=\"1\" class=\"dataframe\">\n",
              "  <thead>\n",
              "    <tr style=\"text-align: right;\">\n",
              "      <th></th>\n",
              "      <th>target_class</th>\n",
              "      <th>Mean of the integrated profile</th>\n",
              "      <th>Standard deviation of the integrated profile</th>\n",
              "      <th>Excess kurtosis of the integrated profile</th>\n",
              "      <th>Skewness of the integrated profile</th>\n",
              "      <th>Mean of the DM-SNR curve</th>\n",
              "      <th>Standard deviation of the DM-SNR curve</th>\n",
              "      <th>Excess kurtosis of the DM-SNR curve</th>\n",
              "      <th>Skewness of the DM-SNR curve</th>\n",
              "    </tr>\n",
              "  </thead>\n",
              "  <tbody>\n",
              "    <tr>\n",
              "      <th>0</th>\n",
              "      <td>False</td>\n",
              "      <td>False</td>\n",
              "      <td>False</td>\n",
              "      <td>False</td>\n",
              "      <td>False</td>\n",
              "      <td>False</td>\n",
              "      <td>False</td>\n",
              "      <td>False</td>\n",
              "      <td>False</td>\n",
              "    </tr>\n",
              "    <tr>\n",
              "      <th>1</th>\n",
              "      <td>False</td>\n",
              "      <td>False</td>\n",
              "      <td>False</td>\n",
              "      <td>False</td>\n",
              "      <td>False</td>\n",
              "      <td>False</td>\n",
              "      <td>False</td>\n",
              "      <td>False</td>\n",
              "      <td>False</td>\n",
              "    </tr>\n",
              "    <tr>\n",
              "      <th>2</th>\n",
              "      <td>False</td>\n",
              "      <td>False</td>\n",
              "      <td>False</td>\n",
              "      <td>False</td>\n",
              "      <td>False</td>\n",
              "      <td>False</td>\n",
              "      <td>False</td>\n",
              "      <td>False</td>\n",
              "      <td>False</td>\n",
              "    </tr>\n",
              "    <tr>\n",
              "      <th>3</th>\n",
              "      <td>False</td>\n",
              "      <td>False</td>\n",
              "      <td>False</td>\n",
              "      <td>False</td>\n",
              "      <td>False</td>\n",
              "      <td>False</td>\n",
              "      <td>False</td>\n",
              "      <td>False</td>\n",
              "      <td>False</td>\n",
              "    </tr>\n",
              "    <tr>\n",
              "      <th>4</th>\n",
              "      <td>False</td>\n",
              "      <td>False</td>\n",
              "      <td>False</td>\n",
              "      <td>False</td>\n",
              "      <td>False</td>\n",
              "      <td>False</td>\n",
              "      <td>False</td>\n",
              "      <td>False</td>\n",
              "      <td>False</td>\n",
              "    </tr>\n",
              "    <tr>\n",
              "      <th>...</th>\n",
              "      <td>...</td>\n",
              "      <td>...</td>\n",
              "      <td>...</td>\n",
              "      <td>...</td>\n",
              "      <td>...</td>\n",
              "      <td>...</td>\n",
              "      <td>...</td>\n",
              "      <td>...</td>\n",
              "      <td>...</td>\n",
              "    </tr>\n",
              "    <tr>\n",
              "      <th>5902</th>\n",
              "      <td>False</td>\n",
              "      <td>False</td>\n",
              "      <td>False</td>\n",
              "      <td>False</td>\n",
              "      <td>False</td>\n",
              "      <td>False</td>\n",
              "      <td>False</td>\n",
              "      <td>False</td>\n",
              "      <td>False</td>\n",
              "    </tr>\n",
              "    <tr>\n",
              "      <th>5903</th>\n",
              "      <td>False</td>\n",
              "      <td>False</td>\n",
              "      <td>False</td>\n",
              "      <td>False</td>\n",
              "      <td>False</td>\n",
              "      <td>False</td>\n",
              "      <td>False</td>\n",
              "      <td>False</td>\n",
              "      <td>False</td>\n",
              "    </tr>\n",
              "    <tr>\n",
              "      <th>5904</th>\n",
              "      <td>False</td>\n",
              "      <td>False</td>\n",
              "      <td>False</td>\n",
              "      <td>False</td>\n",
              "      <td>False</td>\n",
              "      <td>False</td>\n",
              "      <td>False</td>\n",
              "      <td>False</td>\n",
              "      <td>False</td>\n",
              "    </tr>\n",
              "    <tr>\n",
              "      <th>5905</th>\n",
              "      <td>False</td>\n",
              "      <td>False</td>\n",
              "      <td>False</td>\n",
              "      <td>False</td>\n",
              "      <td>False</td>\n",
              "      <td>False</td>\n",
              "      <td>False</td>\n",
              "      <td>False</td>\n",
              "      <td>False</td>\n",
              "    </tr>\n",
              "    <tr>\n",
              "      <th>5906</th>\n",
              "      <td>False</td>\n",
              "      <td>False</td>\n",
              "      <td>False</td>\n",
              "      <td>False</td>\n",
              "      <td>False</td>\n",
              "      <td>False</td>\n",
              "      <td>False</td>\n",
              "      <td>False</td>\n",
              "      <td>False</td>\n",
              "    </tr>\n",
              "  </tbody>\n",
              "</table>\n",
              "<p>5907 rows × 9 columns</p>\n",
              "</div>"
            ],
            "text/plain": [
              "      target_class  ...   Skewness of the DM-SNR curve\n",
              "0            False  ...                          False\n",
              "1            False  ...                          False\n",
              "2            False  ...                          False\n",
              "3            False  ...                          False\n",
              "4            False  ...                          False\n",
              "...            ...  ...                            ...\n",
              "5902         False  ...                          False\n",
              "5903         False  ...                          False\n",
              "5904         False  ...                          False\n",
              "5905         False  ...                          False\n",
              "5906         False  ...                          False\n",
              "\n",
              "[5907 rows x 9 columns]"
            ]
          },
          "metadata": {
            "tags": []
          },
          "execution_count": 23
        }
      ]
    },
    {
      "cell_type": "markdown",
      "metadata": {
        "id": "20AKOJSKW4_w"
      },
      "source": [
        "---"
      ]
    },
    {
      "cell_type": "markdown",
      "metadata": {
        "id": "WiIDT8mFW55v"
      },
      "source": [
        "#### 6. Count The `0` & `1` Classes\n",
        "\n",
        "Find out the number of `0` and `1` values in both the `train_df` and `test_df` DataFrames."
      ]
    },
    {
      "cell_type": "code",
      "metadata": {
        "id": "lDDdueENNjfU",
        "outputId": "5c1e2607-3da6-442c-feac-e15b60c06aa5",
        "colab": {
          "base_uri": "https://localhost:8080/"
        }
      },
      "source": [
        "# Print the count of the '0' and '1' classes in the 'train_df' DataFrame.\n",
        "train_df.value_counts()"
      ],
      "execution_count": null,
      "outputs": [
        {
          "output_type": "execute_result",
          "data": {
            "text/plain": [
              "target_class   Mean of the integrated profile   Standard deviation of the integrated profile   Excess kurtosis of the integrated profile   Skewness of the integrated profile   Mean of the DM-SNR curve   Standard deviation of the DM-SNR curve   Excess kurtosis of the DM-SNR curve   Skewness of the DM-SNR curve\n",
              "1             137.929688                       52.980271                                      -0.094888                                    0.131425                            2.370401                   18.103218                                9.198939                               94.393676                       1\n",
              "0             111.273438                       34.606655                                       0.367450                                    2.093377                            2.294314                   17.380659                                9.787879                               106.524321                      1\n",
              "              111.296875                       50.798677                                       0.174754                                   -0.395649                            4.608696                   23.834520                                6.945338                               53.685995                       1\n",
              "                                               45.941600                                       0.358581                                    0.955990                            2.911371                   17.380134                                8.039005                               77.464425                       1\n",
              "                                               44.020301                                       0.203944                                    0.332968                            2.072742                   16.735815                                10.540272                              127.889017                      1\n",
              "                                                                                                                                                                                                                                                                                                                         ..\n",
              "              127.578125                       45.034815                                      -0.096230                                    0.504858                            1.781773                   14.313500                                9.990032                               121.006894                      1\n",
              "              127.570312                       51.496766                                      -0.111681                                   -0.194833                            4.921405                   26.112130                                5.732765                               34.255562                       1\n",
              "              127.562500                       56.961027                                       0.071035                                   -0.638871                            2.892140                   16.312251                                8.702810                               97.625734                       1\n",
              "                                               52.282847                                      -0.173321                                   -0.295055                            1.978261                   13.578381                                10.627916                              144.627174                      1\n",
              "              17.210938                        46.977663                                       3.691603                                    13.158998                           136.440635                 64.504393                                0.132457                              -0.906086                        1\n",
              "Length: 11991, dtype: int64"
            ]
          },
          "metadata": {
            "tags": []
          },
          "execution_count": 24
        }
      ]
    },
    {
      "cell_type": "code",
      "metadata": {
        "id": "j_CldNLAXDhp",
        "outputId": "d05f960b-6b72-4af8-c6e2-6df44405e65a",
        "colab": {
          "base_uri": "https://localhost:8080/"
        }
      },
      "source": [
        "# Print the count of the '0' and '1' classes in the 'test_df' DataFrame.\n",
        "test_df.value_counts()"
      ],
      "execution_count": null,
      "outputs": [
        {
          "output_type": "execute_result",
          "data": {
            "text/plain": [
              "target_class   Mean of the integrated profile   Standard deviation of the integrated profile   Excess kurtosis of the integrated profile   Skewness of the integrated profile   Mean of the DM-SNR curve   Standard deviation of the DM-SNR curve   Excess kurtosis of the DM-SNR curve   Skewness of the DM-SNR curve\n",
              "1             139.257812                       52.003342                                       0.088802                                   -0.398665                            2.134615                   18.311393                                9.597763                              98.265456                        1\n",
              "0             111.031250                       48.232176                                       0.129538                                    0.010454                            2.913880                   17.785373                                7.622437                              68.541739                        1\n",
              "              110.921875                       43.317435                                       0.327468                                    0.855860                            2.598662                   17.581900                                8.949818                              91.276074                        1\n",
              "                                               50.337705                                       0.298540                                   -0.310366                            2.133779                   18.585799                                9.677405                              100.192006                       1\n",
              "              110.945312                       41.324045                                       0.236397                                    0.678847                            1.498328                   13.391925                                11.797374                             165.370702                       1\n",
              "                                                                                                                                                                                                                                                                                                                         ..\n",
              "              127.421875                       46.824241                                       0.367683                                    0.177479                            3.997492                   23.696785                                6.570737                              46.359655                        1\n",
              "              127.429688                       54.197654                                      -0.169700                                   -0.363375                            3.024247                   17.625904                                8.651820                              89.972650                        1\n",
              "              127.437500                       41.822121                                       0.231808                                    0.730718                            4.492475                   24.247314                                6.576311                              48.160097                        1\n",
              "              127.445312                       48.369801                                       0.172070                                   -0.022764                            1.219064                   12.689454                                15.180239                             264.571944                       1\n",
              "              27.601562                        40.350097                                       4.198134                                    17.829946                           3.475753                   21.032669                                7.956237                              70.148702                        1\n",
              "Length: 5907, dtype: int64"
            ]
          },
          "metadata": {
            "tags": []
          },
          "execution_count": 25
        }
      ]
    },
    {
      "cell_type": "markdown",
      "metadata": {
        "id": "r_sUY5HQXGyV"
      },
      "source": [
        "---"
      ]
    },
    {
      "cell_type": "markdown",
      "metadata": {
        "id": "g7LNHmeuXIEs"
      },
      "source": [
        "#### 7. Feature Variables Extraction\n",
        "\n",
        "Get the feature variables, i.e., `x_train` and `x_test` from both the `train_df` and `test_df` DataFrames respectively. Then, display the first 5 rows of `x_train` and `x_test` DataFrames."
      ]
    },
    {
      "cell_type": "code",
      "metadata": {
        "id": "YjNvPnyiNqVw",
        "outputId": "8e68d9c7-0e56-441d-a3d3-8f7d66495678",
        "colab": {
          "base_uri": "https://localhost:8080/",
          "height": 238
        }
      },
      "source": [
        "# Get the feature variables from the 'train_df' DataFrame.\n",
        "x_train = train_df.iloc[:,1:]\n",
        "# Display the first 5 rows of the 'x_train' DataFrame.\n",
        "x_train.head()"
      ],
      "execution_count": null,
      "outputs": [
        {
          "output_type": "execute_result",
          "data": {
            "text/html": [
              "<div>\n",
              "<style scoped>\n",
              "    .dataframe tbody tr th:only-of-type {\n",
              "        vertical-align: middle;\n",
              "    }\n",
              "\n",
              "    .dataframe tbody tr th {\n",
              "        vertical-align: top;\n",
              "    }\n",
              "\n",
              "    .dataframe thead th {\n",
              "        text-align: right;\n",
              "    }\n",
              "</style>\n",
              "<table border=\"1\" class=\"dataframe\">\n",
              "  <thead>\n",
              "    <tr style=\"text-align: right;\">\n",
              "      <th></th>\n",
              "      <th>Mean of the integrated profile</th>\n",
              "      <th>Standard deviation of the integrated profile</th>\n",
              "      <th>Excess kurtosis of the integrated profile</th>\n",
              "      <th>Skewness of the integrated profile</th>\n",
              "      <th>Mean of the DM-SNR curve</th>\n",
              "      <th>Standard deviation of the DM-SNR curve</th>\n",
              "      <th>Excess kurtosis of the DM-SNR curve</th>\n",
              "      <th>Skewness of the DM-SNR curve</th>\n",
              "    </tr>\n",
              "  </thead>\n",
              "  <tbody>\n",
              "    <tr>\n",
              "      <th>0</th>\n",
              "      <td>111.109375</td>\n",
              "      <td>53.131064</td>\n",
              "      <td>0.280253</td>\n",
              "      <td>-0.222447</td>\n",
              "      <td>3.011706</td>\n",
              "      <td>20.355820</td>\n",
              "      <td>7.585482</td>\n",
              "      <td>62.383270</td>\n",
              "    </tr>\n",
              "    <tr>\n",
              "      <th>1</th>\n",
              "      <td>151.945312</td>\n",
              "      <td>47.973350</td>\n",
              "      <td>-0.250834</td>\n",
              "      <td>0.275367</td>\n",
              "      <td>2.115385</td>\n",
              "      <td>14.195484</td>\n",
              "      <td>11.640297</td>\n",
              "      <td>173.592172</td>\n",
              "    </tr>\n",
              "    <tr>\n",
              "      <th>2</th>\n",
              "      <td>52.335938</td>\n",
              "      <td>34.775008</td>\n",
              "      <td>2.478375</td>\n",
              "      <td>10.179171</td>\n",
              "      <td>8.230769</td>\n",
              "      <td>34.775947</td>\n",
              "      <td>4.652342</td>\n",
              "      <td>21.987882</td>\n",
              "    </tr>\n",
              "    <tr>\n",
              "      <th>3</th>\n",
              "      <td>121.562500</td>\n",
              "      <td>48.569498</td>\n",
              "      <td>-0.033391</td>\n",
              "      <td>-0.323514</td>\n",
              "      <td>2.595318</td>\n",
              "      <td>15.089924</td>\n",
              "      <td>8.734079</td>\n",
              "      <td>98.584122</td>\n",
              "    </tr>\n",
              "    <tr>\n",
              "      <th>4</th>\n",
              "      <td>133.664062</td>\n",
              "      <td>59.137852</td>\n",
              "      <td>-0.164198</td>\n",
              "      <td>-0.552877</td>\n",
              "      <td>1.542642</td>\n",
              "      <td>12.052034</td>\n",
              "      <td>12.226623</td>\n",
              "      <td>196.522501</td>\n",
              "    </tr>\n",
              "  </tbody>\n",
              "</table>\n",
              "</div>"
            ],
            "text/plain": [
              "    Mean of the integrated profile  ...   Skewness of the DM-SNR curve\n",
              "0                       111.109375  ...                      62.383270\n",
              "1                       151.945312  ...                     173.592172\n",
              "2                        52.335938  ...                      21.987882\n",
              "3                       121.562500  ...                      98.584122\n",
              "4                       133.664062  ...                     196.522501\n",
              "\n",
              "[5 rows x 8 columns]"
            ]
          },
          "metadata": {
            "tags": []
          },
          "execution_count": 26
        }
      ]
    },
    {
      "cell_type": "code",
      "metadata": {
        "id": "nX0KwFHOOnbM",
        "outputId": "ad89184b-3168-46fc-dbd7-5dac5d4bc626",
        "colab": {
          "base_uri": "https://localhost:8080/",
          "height": 238
        }
      },
      "source": [
        "# Get the feature variables from the 'test_df' DataFrame.\n",
        "x_test = test_df.iloc[:,1:]\n",
        "# Display the first 5 rows of the 'x_test' DataFrame.\n",
        "x_test.head()"
      ],
      "execution_count": null,
      "outputs": [
        {
          "output_type": "execute_result",
          "data": {
            "text/html": [
              "<div>\n",
              "<style scoped>\n",
              "    .dataframe tbody tr th:only-of-type {\n",
              "        vertical-align: middle;\n",
              "    }\n",
              "\n",
              "    .dataframe tbody tr th {\n",
              "        vertical-align: top;\n",
              "    }\n",
              "\n",
              "    .dataframe thead th {\n",
              "        text-align: right;\n",
              "    }\n",
              "</style>\n",
              "<table border=\"1\" class=\"dataframe\">\n",
              "  <thead>\n",
              "    <tr style=\"text-align: right;\">\n",
              "      <th></th>\n",
              "      <th>Mean of the integrated profile</th>\n",
              "      <th>Standard deviation of the integrated profile</th>\n",
              "      <th>Excess kurtosis of the integrated profile</th>\n",
              "      <th>Skewness of the integrated profile</th>\n",
              "      <th>Mean of the DM-SNR curve</th>\n",
              "      <th>Standard deviation of the DM-SNR curve</th>\n",
              "      <th>Excess kurtosis of the DM-SNR curve</th>\n",
              "      <th>Skewness of the DM-SNR curve</th>\n",
              "    </tr>\n",
              "  </thead>\n",
              "  <tbody>\n",
              "    <tr>\n",
              "      <th>0</th>\n",
              "      <td>116.906250</td>\n",
              "      <td>48.920605</td>\n",
              "      <td>0.186046</td>\n",
              "      <td>-0.129815</td>\n",
              "      <td>3.037625</td>\n",
              "      <td>17.737102</td>\n",
              "      <td>8.122621</td>\n",
              "      <td>78.813405</td>\n",
              "    </tr>\n",
              "    <tr>\n",
              "      <th>1</th>\n",
              "      <td>75.585938</td>\n",
              "      <td>34.386254</td>\n",
              "      <td>2.025498</td>\n",
              "      <td>8.652913</td>\n",
              "      <td>3.765050</td>\n",
              "      <td>21.897049</td>\n",
              "      <td>7.048189</td>\n",
              "      <td>55.878791</td>\n",
              "    </tr>\n",
              "    <tr>\n",
              "      <th>2</th>\n",
              "      <td>103.273438</td>\n",
              "      <td>46.996628</td>\n",
              "      <td>0.504295</td>\n",
              "      <td>0.821088</td>\n",
              "      <td>2.244983</td>\n",
              "      <td>15.622566</td>\n",
              "      <td>9.330498</td>\n",
              "      <td>105.134941</td>\n",
              "    </tr>\n",
              "    <tr>\n",
              "      <th>3</th>\n",
              "      <td>101.078125</td>\n",
              "      <td>48.587487</td>\n",
              "      <td>1.011427</td>\n",
              "      <td>1.151870</td>\n",
              "      <td>81.887960</td>\n",
              "      <td>81.464136</td>\n",
              "      <td>0.485105</td>\n",
              "      <td>-1.117904</td>\n",
              "    </tr>\n",
              "    <tr>\n",
              "      <th>4</th>\n",
              "      <td>113.226562</td>\n",
              "      <td>48.608804</td>\n",
              "      <td>0.291538</td>\n",
              "      <td>0.292120</td>\n",
              "      <td>6.291806</td>\n",
              "      <td>26.585056</td>\n",
              "      <td>4.540138</td>\n",
              "      <td>21.708268</td>\n",
              "    </tr>\n",
              "  </tbody>\n",
              "</table>\n",
              "</div>"
            ],
            "text/plain": [
              "    Mean of the integrated profile  ...   Skewness of the DM-SNR curve\n",
              "0                       116.906250  ...                      78.813405\n",
              "1                        75.585938  ...                      55.878791\n",
              "2                       103.273438  ...                     105.134941\n",
              "3                       101.078125  ...                      -1.117904\n",
              "4                       113.226562  ...                      21.708268\n",
              "\n",
              "[5 rows x 8 columns]"
            ]
          },
          "metadata": {
            "tags": []
          },
          "execution_count": 27
        }
      ]
    },
    {
      "cell_type": "markdown",
      "metadata": {
        "id": "4av3tfU5XSMN"
      },
      "source": [
        "---"
      ]
    },
    {
      "cell_type": "markdown",
      "metadata": {
        "id": "LRDStIQ7XTL-"
      },
      "source": [
        "#### 8. Target Variable Extraction\n",
        "\n",
        "Get the target variables, i.e., `y_train` and `y_test` from both the `train_df` and `test_df` DataFrames respectively. Then, display the first 5 rows of `y_train` and `y_test` Pandas series."
      ]
    },
    {
      "cell_type": "code",
      "metadata": {
        "id": "ThmWhnUJOWE8",
        "outputId": "9130ed3b-b28e-4841-86b8-32022e13ca38",
        "colab": {
          "base_uri": "https://localhost:8080/"
        }
      },
      "source": [
        "# Get the target variable from the 'train_df' DataFrame.\n",
        "y_train = train_df.iloc[:,0]\n",
        "# Display the first 5 rows of the 'y_train' Pandas series.\n",
        "y_train.head()"
      ],
      "execution_count": null,
      "outputs": [
        {
          "output_type": "execute_result",
          "data": {
            "text/plain": [
              "0    0\n",
              "1    0\n",
              "2    1\n",
              "3    0\n",
              "4    0\n",
              "Name: target_class, dtype: int64"
            ]
          },
          "metadata": {
            "tags": []
          },
          "execution_count": 28
        }
      ]
    },
    {
      "cell_type": "code",
      "metadata": {
        "id": "LSD9PoaGOtiN",
        "outputId": "d4027b1a-9999-497e-a9c1-0da48e24c6d7",
        "colab": {
          "base_uri": "https://localhost:8080/"
        }
      },
      "source": [
        "# Get the target variable from the 'test_df' DataFrame.\n",
        "y_test = test_df.iloc[:,0]\n",
        "# Display the first 5 rows of the 'y_test' Pandas series.\n",
        "y_test.head()"
      ],
      "execution_count": null,
      "outputs": [
        {
          "output_type": "execute_result",
          "data": {
            "text/plain": [
              "0    0\n",
              "1    1\n",
              "2    0\n",
              "3    1\n",
              "4    0\n",
              "Name: target_class, dtype: int64"
            ]
          },
          "metadata": {
            "tags": []
          },
          "execution_count": 29
        }
      ]
    },
    {
      "cell_type": "markdown",
      "metadata": {
        "id": "eL342E7EXe-s"
      },
      "source": [
        "---"
      ]
    },
    {
      "cell_type": "markdown",
      "metadata": {
        "id": "7IUzWvtCXgN9"
      },
      "source": [
        "#### 9. Building An XGBoost Classifier Model"
      ]
    },
    {
      "cell_type": "code",
      "metadata": {
        "id": "zhIZ8xDDO2Zn",
        "outputId": "472f8473-7080-47d2-c07e-80f925bd1231",
        "colab": {
          "base_uri": "https://localhost:8080/"
        }
      },
      "source": [
        "# Build A XGBoost Classifier model\n",
        "# Import the xgboost module.\n",
        "import xgboost as xg\n",
        "# Import the confusion_matrix and classification_report modules.\n",
        "from sklearn.metrics import confusion_matrix,classification_report\n",
        "xgb_clf = xg.XGBClassifier()\n",
        "xgb_clf.fit(x_train,y_train)"
      ],
      "execution_count": null,
      "outputs": [
        {
          "output_type": "execute_result",
          "data": {
            "text/plain": [
              "XGBClassifier(base_score=0.5, booster='gbtree', colsample_bylevel=1,\n",
              "              colsample_bynode=1, colsample_bytree=1, gamma=0,\n",
              "              learning_rate=0.1, max_delta_step=0, max_depth=3,\n",
              "              min_child_weight=1, missing=None, n_estimators=100, n_jobs=1,\n",
              "              nthread=None, objective='binary:logistic', random_state=0,\n",
              "              reg_alpha=0, reg_lambda=1, scale_pos_weight=1, seed=None,\n",
              "              silent=None, subsample=1, verbosity=1)"
            ]
          },
          "metadata": {
            "tags": []
          },
          "execution_count": 30
        }
      ]
    },
    {
      "cell_type": "code",
      "metadata": {
        "id": "hldcIw1_PIi4",
        "outputId": "6aea107f-0423-4150-f2c1-0c6cbda8eee9",
        "colab": {
          "base_uri": "https://localhost:8080/"
        }
      },
      "source": [
        "# Predict the target variable based on the feature variables of the test dataframe.\n",
        "y_pred = xgb_clf.predict(x_test)\n",
        "y_pred"
      ],
      "execution_count": null,
      "outputs": [
        {
          "output_type": "execute_result",
          "data": {
            "text/plain": [
              "array([0, 1, 0, ..., 0, 0, 0])"
            ]
          },
          "metadata": {
            "tags": []
          },
          "execution_count": 31
        }
      ]
    },
    {
      "cell_type": "markdown",
      "metadata": {
        "id": "u4_z7q5IXrc3"
      },
      "source": [
        "#### 10. Confusion Matrix & Classification Report\n",
        "\n",
        "Print the confusion matrix and classification report to evaluate the model. Interpret and report the results obtained from the confusion matrix and the classification report."
      ]
    },
    {
      "cell_type": "code",
      "metadata": {
        "id": "P4mV8cniPPlp",
        "outputId": "c855c707-1946-4e3a-9f2f-082d765e9cdf",
        "colab": {
          "base_uri": "https://localhost:8080/"
        }
      },
      "source": [
        "# Print the confusion matrix to see the number of TN, FN, TP and FP.\n",
        "confusion_matrix(y_test,y_pred)"
      ],
      "execution_count": null,
      "outputs": [
        {
          "output_type": "execute_result",
          "data": {
            "text/plain": [
              "array([[5348,   33],\n",
              "       [  82,  444]])"
            ]
          },
          "metadata": {
            "tags": []
          },
          "execution_count": 32
        }
      ]
    },
    {
      "cell_type": "code",
      "metadata": {
        "id": "ReCoX3X8PaQT",
        "outputId": "802f687f-8a2e-4491-9dca-40924d874d9a",
        "colab": {
          "base_uri": "https://localhost:8080/"
        }
      },
      "source": [
        "# Print the precision, recall and f1-score values for both the '0' and '1' classes.\n",
        "print(classification_report(y_test,y_pred))"
      ],
      "execution_count": null,
      "outputs": [
        {
          "output_type": "stream",
          "text": [
            "              precision    recall  f1-score   support\n",
            "\n",
            "           0       0.98      0.99      0.99      5381\n",
            "           1       0.93      0.84      0.89       526\n",
            "\n",
            "    accuracy                           0.98      5907\n",
            "   macro avg       0.96      0.92      0.94      5907\n",
            "weighted avg       0.98      0.98      0.98      5907\n",
            "\n"
          ],
          "name": "stdout"
        }
      ]
    },
    {
      "cell_type": "markdown",
      "metadata": {
        "id": "_Tw7uK1ndut5"
      },
      "source": [
        "**Write your interpretation of the results here.**\n",
        "\n",
        "- Interpretation 1:\n",
        "-------->> The negative class(0) was more accurate than the positive class(1)\n",
        "\n",
        "- Interpretation 2:\n",
        "-------->> The report is almost accurate\n",
        "- Interpretation 3:\n",
        "-------->> The classification report gave more accurate result than the         confusion matrix\n",
        "\n",
        "  $\\dots$\n",
        "\n",
        "- Interpretation N:\n"
      ]
    },
    {
      "cell_type": "markdown",
      "metadata": {
        "id": "Cbdam0nqXxB0"
      },
      "source": [
        "---"
      ]
    },
    {
      "cell_type": "markdown",
      "metadata": {
        "id": "Njxa3_MBgO4N"
      },
      "source": [
        "---"
      ]
    }
  ]
}