{
  "nbformat": 4,
  "nbformat_minor": 0,
  "metadata": {
    "colab": {
      "provenance": [],
      "include_colab_link": true
    },
    "kernelspec": {
      "name": "python3",
      "display_name": "Python 3"
    }
  },
  "cells": [
    {
      "cell_type": "markdown",
      "metadata": {
        "id": "view-in-github",
        "colab_type": "text"
      },
      "source": [
        "<a href=\"https://colab.research.google.com/github/SrishBansal/colaab/blob/import/2020_09_19_Srish_Bansal_Project_6.ipynb\" target=\"_parent\"><img src=\"https://colab.research.google.com/assets/colab-badge.svg\" alt=\"Open In Colab\"/></a>"
      ]
    },
    {
      "cell_type": "markdown",
      "metadata": {
        "id": "BBqkpH4_Doqe"
      },
      "source": [
        "---"
      ]
    },
    {
      "cell_type": "markdown",
      "metadata": {
        "id": "K-elDvhbnJsG"
      },
      "source": [
        "### Activities"
      ]
    },
    {
      "cell_type": "markdown",
      "metadata": {
        "id": "q4fH06mIjuK3"
      },
      "source": [
        "#### Activity 1: Print the series\n",
        "\n",
        "Write a function to print the following series of a number:\n",
        "\n",
        "Series of numbers: 0, 1, 1, 2, 3, 5, 8, 13, 21, 34, ...\n",
        "\n",
        "In this series:\n",
        "\n",
        "  - The next number is found by adding the two numbers before it.\n",
        "\n",
        "  For example: Number '2'  is obtained by adding the two numbers before it i.e.1+1.\n",
        "Similarly, Number '3'  is obtained by adding the two numbers before it i.e.1+2.\n",
        "And Number '5' is obtained after adding 2+3, and so on.\n",
        "\n",
        "**Example**:\n",
        "\n",
        "  - series of 3: 0, 1, 1. Here 3 is considered as the length of the series.  \n",
        "\n",
        "  - series of 7: 0, 1, 1, 2, 3, 5, 8. Here 7 is considered as the length of the series.  \n"
      ]
    },
    {
      "cell_type": "markdown",
      "metadata": {
        "id": "8BF4prSow1C2"
      },
      "source": [
        "#### **Steps to obtain the above series:**\n",
        "\n",
        "- **Step 1:** Create a function `series()` and pass `n` as a parameter. Here `n` represents the length of the series.\n",
        "\n",
        "- **Step 2**: Initialize the first two values of the series in the variables `n1` and `n2`.\n",
        "\n",
        "- **Step 3**: Initialize the `count` variable with a value of `0` which gets incremented further in the `while` loop till the length of the series.\n",
        "\n",
        "- **Step 4**: If `n` is less than or equal to `0` then prompt a message saying **Please enter a positive integer**.\n",
        "\n",
        "- **Step 5**: If the number `n` is greater than 0, run a `while` loop such that the loop iterates until the condition `count < n` is `True`.\n",
        "\n",
        "- **Step 6**: Inside this `while` loop, perform the following tasks:\n",
        "\n",
        "    1.  Print the value stored in variable `n1`.\n",
        "    2.  Create a temporary variable `nth`. Store the addition of `n1` and `n2` in `nth` i.e. `nth=n1+n2`.\n",
        "    3.  Assign the value of `n2` to `n1` and `nth` to `n2`.\n",
        "    4.  Update the value of `count` variable by incrementing it by `1`.\n",
        "\n",
        "- **Step 7:** Call the `series()` function and pass a number as the parameter. This number indicates the length of the series."
      ]
    },
    {
      "cell_type": "code",
      "metadata": {
        "id": "4EAoTskqg041",
        "colab": {
          "base_uri": "https://localhost:8080/",
          "height": 136
        },
        "outputId": "ff631441-116d-479c-8632-e393843f7b71"
      },
      "source": [
        "# Write your solution here\n",
        "# Step 1: Create a function 'series(n)'\n",
        "def series(n) :\n",
        "  # Step 2: Initialize 'n1' and 'n2' variables\n",
        "  n1 = 0\n",
        "  n2 = 1\n",
        "  # Step 3: Initialize 'count' variable\n",
        "  count = 0\n",
        "  # Step 4: Check whether 'n'<=0\n",
        "  if n <=0 :\n",
        "      print(\" Please enter a positive integer.\")\n",
        "  elif n>=0 :\n",
        "      while count < n :\n",
        "         print(n1)\n",
        "         nth = n1+n2\n",
        "         n1 = n2\n",
        "         n2 = nth\n",
        "         count += 1\n",
        "    # Step 5: Run a while loop till 'count' < 'n'\n",
        "    # Perform Step 6\n",
        "# Step 7: Call 'series()' function\n",
        "series(7)"
      ],
      "execution_count": null,
      "outputs": [
        {
          "output_type": "stream",
          "text": [
            "0\n",
            "1\n",
            "1\n",
            "2\n",
            "3\n",
            "5\n",
            "8\n"
          ],
          "name": "stdout"
        }
      ]
    },
    {
      "cell_type": "markdown",
      "metadata": {
        "id": "xJlPs9X9oeRw"
      },
      "source": [
        "---"
      ]
    },
    {
      "cell_type": "markdown",
      "metadata": {
        "id": "qA-b1CdeofKc"
      },
      "source": [
        "#### Activity 2: Find the missing number\n",
        "\n",
        "Create a function that takes a list of numbers between `1` and `10` (excluding one number) and returns the missing number.\n",
        "\n",
        "**Notes:**\n",
        "\n",
        "- The list of numbers will be unsorted (not in order).\n",
        "\n",
        "- Only one number will be missing.\n",
        "\n",
        "Examples\n",
        "```\n",
        "missing_num([1, 2, 3, 4, 6, 7, 8, 9, 10]) ➞ 5\n",
        "\n",
        "missing_num([7, 2, 3, 6, 5, 9, 1, 4, 8]) ➞ 10\n",
        "\n",
        "missing_num([10, 5, 1, 2, 4, 6, 8, 3, 9]) ➞ 7\n",
        "```\n",
        "\n"
      ]
    },
    {
      "cell_type": "markdown",
      "metadata": {
        "id": "j394zDxR0gem"
      },
      "source": [
        "#### Steps to solve the above problem\n",
        "\n",
        "- **Step 1:** Create a function `missing_num()` and pass `lst` as a parameter inside this function, where `lst` is the list of numbers from `1 - 10` with one missing number.  \n",
        "\n",
        "- **Step 2**: Run a `for` loop in range `1 - 11` i.e. from 1 to 10. Inside the `for` loop, check whether the number `n` is present in the list `lst` using an `if` condition.\n",
        "\n",
        "- **Step 3**: Inside the `for` loop, check whether each number is present in list `lst` using an `if` condition and `in` and `not in` operator. If the number is not present in the list `lst[]`, then print that number in the output."
      ]
    },
    {
      "cell_type": "code",
      "metadata": {
        "id": "AtvPTG3kpBoS",
        "colab": {
          "base_uri": "https://localhost:8080/",
          "height": 34
        },
        "outputId": "fcbdb5c2-d183-49cd-9218-4de517a23116"
      },
      "source": [
        "# Write a program to find the missing number in the list\n",
        "def missing_num(lst) :\n",
        "  for n in range(1,11) :\n",
        "    if n not in lst :\n",
        "     return n\n",
        "missing_num([1,2,3,4,5,6,7,8,10])"
      ],
      "execution_count": null,
      "outputs": [
        {
          "output_type": "execute_result",
          "data": {
            "text/plain": [
              "9"
            ]
          },
          "metadata": {
            "tags": []
          },
          "execution_count": 67
        }
      ]
    },
    {
      "cell_type": "markdown",
      "metadata": {
        "id": "KOVBiUSMzut1"
      },
      "source": [
        "---"
      ]
    },
    {
      "cell_type": "markdown",
      "metadata": {
        "id": "fFpiWPoFHeeT"
      },
      "source": [
        "---"
      ]
    }
  ]
}