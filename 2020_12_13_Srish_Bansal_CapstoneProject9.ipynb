{
  "nbformat": 4,
  "nbformat_minor": 0,
  "metadata": {
    "colab": {
      "provenance": [],
      "include_colab_link": true
    },
    "kernelspec": {
      "name": "python3",
      "display_name": "Python 3"
    }
  },
  "cells": [
    {
      "cell_type": "markdown",
      "metadata": {
        "id": "view-in-github",
        "colab_type": "text"
      },
      "source": [
        "<a href=\"https://colab.research.google.com/github/SrishBansal/colaab/blob/colab/2020_12_13_Srish_Bansal_CapstoneProject9.ipynb\" target=\"_parent\"><img src=\"https://colab.research.google.com/assets/colab-badge.svg\" alt=\"Open In Colab\"/></a>"
      ]
    },
    {
      "cell_type": "markdown",
      "metadata": {
        "id": "UYmMpXkNw9I6"
      },
      "source": [
        "# Project 9: The Horizon Bank - Python Dictionaries"
      ]
    },
    {
      "cell_type": "markdown",
      "metadata": {
        "id": "PaanjkTewd2U"
      },
      "source": [
        "---"
      ]
    },
    {
      "cell_type": "markdown",
      "metadata": {
        "id": "x9vfVAsbslya"
      },
      "source": [
        "### Context\n",
        "\n",
        "Decades before, most of the banks used to maintain the details of their customers in a record book or in an excel sheet in a computer. This is not so reliable as compared to today’s revolutionary growth of technology in almost all of the fields.\n",
        "\n",
        "There is also a negative side in today’s growth of technology i.e. the increasing cyber crimes all over the world.\n",
        "\n",
        "Do you know, in earlier days we need to stand in a long queue for hours in banks to deposit (a sum of money paid into a bank account) or withdraw (a sum of money withdrawn from a bank account) or to create a new bank account?\n",
        "But nowadays with the growth of technology, users can create and maintain their bank account or pay their electric bills, phone bills by sitting in their homes. All they need is a smartphone and internet.\n",
        "\n",
        "Now, a new bank called Horizon Bank decides to update their banking model from old excel sheets to the latest technology and require a sample project of a bank model. Let us help them in creating this bank application."
      ]
    },
    {
      "cell_type": "markdown",
      "metadata": {
        "id": "G9pdov_M0nzo"
      },
      "source": [
        "---"
      ]
    },
    {
      "cell_type": "markdown",
      "metadata": {
        "id": "zdC8CGmxmZYd"
      },
      "source": [
        "---"
      ]
    },
    {
      "cell_type": "markdown",
      "metadata": {
        "id": "2i36Yv3-MPY5"
      },
      "source": [
        "### Problem Statement\n",
        "\n",
        "In this project, you have to write a computer program to create an interactive bank application for the Horizon Bank. The application must have two simple functionalities:\n",
        "\n",
        "1. Allow a customer to create a new bank account with their following personal details:\n",
        "\n",
        "   - Full name\n",
        "\n",
        "   - Permanent residential address\n",
        "\n",
        "   - Personal or residential phone number\n",
        "\n",
        "   - Valid government-issued identification\n",
        "\n",
        "   - Amount to be deposited to the account\n",
        "\n",
        "2. Allow an existing customer of the bank to\n",
        "\n",
        "   - Check their bank balance\n",
        "   \n",
        "   - Withdraw some amount from their account provided that the withdrawal amount is less than the available bank balance\n",
        "   \n",
        "   - Deposit some amount to their account\n"
      ]
    },
    {
      "cell_type": "markdown",
      "metadata": {
        "id": "d55HBFcBpENK"
      },
      "source": [
        "---"
      ]
    },
    {
      "cell_type": "markdown",
      "metadata": {
        "id": "IMYx69ZBwsOV"
      },
      "source": [
        "### Programming Approach\n",
        "\n",
        "In this project you need to create a Python dictionary to build the **Horizon Bank** application.\n",
        "\n",
        "*A python dictionary is a collection of **key-value** pairs where each key-value pair collectively constitutes an item stored in it.*\n",
        "\n",
        "**Step 1**\n",
        "\n",
        "The data of all the customers needs to be stored in a Python dictionary. Let's call it `cust_data`.\n",
        "\n",
        "The key of the `cust_data` dictionary should be an account number of a customer. Its corresponding value should be another dictionary holding the personal details of a customer such as `name`, `address, email id` etc. as shown below.\n",
        "\n",
        "```\n",
        "cust_data = {10011 : {'name': karthik,\n",
        "                      'address': 'C42, MG Complex, Sector-14, Vashi',\n",
        "                      'phone num': '9876543210',\n",
        "                      'govt id': 'C12345Z',\n",
        "                      'amount': 15999}}\n",
        "```\n",
        "\n",
        "Here, `10011` is the account number for Karthik's saving account. It acts as a key to the dictionary containing his details.\n",
        "\n",
        "To add the personal details of another customer to the `cust_data` dictionary, you need to append it with existing data in the dictionary as shown below.\n",
        "\n",
        "```\n",
        "cust_data = {10011 : {'name': karthik,\n",
        "                      'address': 'C42, MG Complex, Sector-14, Vashi',\n",
        "                      'phone num': '9876543210',\n",
        "                      'govt id': 'C12345Z',\n",
        "                      'amount': 15999},\n",
        "            100012 : {'name' : Hrithik,\n",
        "                      'address': B-910, Mandapeshwar Kripa, Borivalli,\n",
        "                      'phone num' : '9876543210',\n",
        "                      'govt id': 'QL44345',\n",
        "                      'amount': 13999}}\n",
        "```\n",
        "\n",
        "Next, you need to create a list holding the personal attributes of a customer, i.e.,\n",
        "\n",
        "`['name', 'address', 'phone num', 'govt id', 'amount']`\n",
        "\n",
        "Let's call it  `new_user_attributes` list.\n",
        "\n",
        "**Step 2**\n",
        "\n",
        "As the next step, you need to create a function to add a new user to the `cust_data` dictionary. Name the function as `new_user()`. This function should do the following:\n",
        "\n",
        "1. Create a random five-digit account number for a new customer. It should not already exist in the `cust_data` dictionary.\n",
        "\n",
        "2. Collect the required personal details of a user one-by-one in the `new_user_input` variable.\n",
        "\n",
        "4. Create a dictionary by joining the items of the `new_user_attributes` list and the `new_user_input` list for a new user and add it to the `cust_data` dictionary.\n",
        "\n",
        "\n",
        "**Step 3:**\n",
        "\n",
        "Then you need to create a function to get the account details of an existing user from the `cust_data` dictionary. Name the function as `existing_user()`. This function should do the following:\n",
        "\n",
        "1. Prompt the user to enter their account number. Keep prompting until they enter their correct account number.\n",
        "\n",
        "2. Once the user has entered the correct account number, prompt them to enter either `1, 2` or `3` where:\n",
        "   \n",
        "   - 1 denotes check the available amount in the account of a user\n",
        "\n",
        "   - 2 denotes allow the user to withdraw an amount from their account\n",
        "   \n",
        "   - 3 denotes allow the user to deposit an amount to their account\n",
        "  \n",
        "  Keep prompting until the user enters the valid input.\n",
        "  \n",
        "3. In the case of valid input:\n",
        "  \n",
        "   - If the user enters `1`, then display their available account balance.\n",
        "\n",
        "   - Else if the user enters `2`, then prompt the user to enter the withdrawal amount.\n",
        "\n",
        "     - If the withdrawal amount is greater than the available balance, then terminate the withdrawal action.\n",
        "\n",
        "     - Else, subtract the withdrawal amount from the available balance and replace the existing available amount with the updated amount in the `cust_data` dictionary.\n",
        "\n",
        "   - Else if the user enters `3`, then prompt them to enter the amount to be deposited to their account. Add the deposit amount to the available balance and update the new deposit amount in the `cust_data` dictionary.\n",
        "\n",
        "**Step 4**\n",
        "\n",
        "Finally, you need to create an infinite `while` loop to run the application. Inside the loop:\n",
        "\n",
        "1. Create a list of valid inputs, i.e., `'1', '2', '3'` where\n",
        "\n",
        "   - 1 denotes the user is a new customer who wants to create a new account\n",
        "\n",
        "   - 2 denotes the user is an existing customer who wants to either check their balance, withdraw some amount from their account or deposit some amount to their account.\n",
        "\n",
        "   - 3 denotes terminate the application or terminate the infinite `while` loop.\n",
        "\n",
        "2. Prompt the user to enter either `1, 2,` or `3`. Keep prompting until the user enters the valid input.\n",
        "\n",
        "3. If the user enters `1`, then create a new account for the user and get their personal details. After creating the account, terminate the application.\n",
        "\n",
        "4. Else if the user enters 2, then display their account balance, reduce their balance or increase their balance depending on their further input. Afterwards, terminate the application.\n",
        "\n",
        "5. Else if the user enters 3, then terminate the application."
      ]
    },
    {
      "cell_type": "markdown",
      "metadata": {
        "id": "UyYUfSu3fJkj"
      },
      "source": [
        "---"
      ]
    },
    {
      "cell_type": "markdown",
      "metadata": {
        "id": "toeLx5LJpIV-"
      },
      "source": [
        "### Project Requirements\n",
        "\n",
        "1. Create an empty dictionary and store it in the `cust_data` variable. Also, create a list holding the attributes to be filled by a customer. Store the list in the `new_user_attributes` variable.\n",
        "\n",
        "2. Create a function to add a new user to the 'cust_data' dictionary. Name the function as `new_user()`.\n",
        "\n",
        "3. Create a function to get the account details of an existing user from the `cust_data` dictionary. Name the function as `existing_user()`.\n",
        "\n",
        "4. Finally, create an infinite `while` loop to run the application.\n"
      ]
    },
    {
      "cell_type": "markdown",
      "metadata": {
        "id": "5JRlGIBRqCGl"
      },
      "source": [
        "---"
      ]
    },
    {
      "cell_type": "markdown",
      "metadata": {
        "id": "UCusTfW0tcxe"
      },
      "source": [
        "#### 1. Customer Data\n",
        "\n",
        "Create an empty dictionary and store it in the `cust_data` variable. Also create a list holding the attributes to be filled by a customer. Store the list in the `new_user_attributes` variable. The list must contain the following attributes in the same order.\n",
        "\n",
        "`'name', 'address', 'phone num', 'govt id', 'amount'`"
      ]
    },
    {
      "cell_type": "code",
      "metadata": {
        "id": "6RL71w3ntzcH"
      },
      "source": [
        "# Create the 'cust_data' dictionary and the 'new_user_attributes' list.\n",
        "cust_data = {}\n",
        "new_user_attributes = ['name', 'address', 'phone num', 'govt id', 'amount']"
      ],
      "execution_count": null,
      "outputs": []
    },
    {
      "cell_type": "markdown",
      "metadata": {
        "id": "RETr5Tv1JBls"
      },
      "source": [
        "---"
      ]
    },
    {
      "cell_type": "markdown",
      "metadata": {
        "id": "0_OEabQbGQcP"
      },
      "source": [
        "#### 2. Add New User\n",
        "\n",
        "Create a function to add a new user to the `cust_data` dictionary. Name the function as `new_user()`. To do this, follow the steps described below.\n",
        "\n",
        "1. Create a random five-digit account number (ranging between 10000 to 99999) for a new customer. Make sure that it doesn't already exist in the `cust_data` dictionary.\n",
        "\n",
        "2. Create an empty list and store it in the `new_user_input` variable.\n",
        "\n",
        "3. Prompt the user to enter all of their required details one-by-one and add  them to the list `new_user_input`. Make sure that the amount added to the list is an integer data-type.\n",
        "\n",
        "4. Create a dictionary for the new user and add it to the `cust_data` dictionary.\n",
        "\n",
        "5. Display the following message to the user.\n",
        "\n",
        "  ```\n",
        "  Your details are added successfully.\n",
        "  Your account number is ABCDE\n",
        "  Please don't lose it.  \n",
        "  ```\n",
        "  where `ABCDE` is some randomly generated 5-digit account number (ranging between 10000 to 99999) for the new user.\n",
        "\n"
      ]
    },
    {
      "cell_type": "code",
      "metadata": {
        "id": "mROhcvIy0ML6",
        "colab": {
          "base_uri": "https://localhost:8080/"
        },
        "outputId": "783e5c5a-7e87-4cf9-a636-3d78ae3dc8f3"
      },
      "source": [
        "# Create the 'new_user()' function to add a new user to the 'cust_data' dictionary.\n",
        "new_user_input = []\n",
        "user = input(\"Enter your name -:\")\n",
        "Addres = input(\"Enter your address -:\")\n",
        "Phone = input(\"enter your number -:\")\n",
        "govt_id = input(\"enter your govt id -:\")\n",
        "Amount = int(input(\"enter the amount -:\"))\n",
        "\n",
        "new_user_input = [user,Addres,Phone,govt_id,Amount]\n",
        "print(new_user_input)\n",
        "\n",
        "new_user = {10011 : dict(zip(new_user_attributes,new_user_input))}\n",
        "print(new_user)\n",
        "\n",
        "cust_data.update(new_user)\n",
        "print(cust_data)"
      ],
      "execution_count": null,
      "outputs": [
        {
          "output_type": "stream",
          "text": [
            "Enter your name -:karthik\n",
            "Enter your address -:'C42, MG Complex, Sector-14, Vashi'\n",
            "enter your number -:9876543210\n",
            "enter your govt id -:C12345Z\n",
            "enter the amount -:15999\n",
            "['karthik', \"'C42, MG Complex, Sector-14, Vashi'\", '9876543210', 'C12345Z', 15999]\n",
            "{10011: {'name': 'karthik', 'address': \"'C42, MG Complex, Sector-14, Vashi'\", 'phone num': '9876543210', 'govt id': 'C12345Z', 'amount': 15999}}\n",
            "{11111: {'name': 'karthik', 'address': \"'C42, MG Complex, Sector-14, Vashi'\", 'phone num': '9876543210', 'govt id': 'C12345Z', 'amount': 15999}, 10011: {'name': 'karthik', 'address': \"'C42, MG Complex, Sector-14, Vashi'\", 'phone num': '9876543210', 'govt id': 'C12345Z', 'amount': 15999}}\n"
          ],
          "name": "stdout"
        }
      ]
    },
    {
      "cell_type": "code",
      "metadata": {
        "id": "SuYXIp86agLL"
      },
      "source": [
        "cust_data = {10011 : {'name': karthik,\n",
        "                      'address': 'C42, MG Complex, Sector-14, Vashi',\n",
        "                      'phone num': '9876543210',\n",
        "                      'govt id': 'C12345Z',\n",
        "                      'amount': 15999}"
      ],
      "execution_count": null,
      "outputs": []
    },
    {
      "cell_type": "markdown",
      "metadata": {
        "id": "aJJT0ojPGPcd"
      },
      "source": [
        "---"
      ]
    },
    {
      "cell_type": "markdown",
      "metadata": {
        "id": "rZsDogK8LaOW"
      },
      "source": [
        "#### 3. Existing User\n",
        "\n",
        "Create a function to get the account details of an existing user from the `cust_data` dictionary. Name the function as `existing_user()`. To do this, follow the steps described below.\n",
        "\n",
        "1. Prompt the user to enter their account number. Keep prompting until they enter their correct account number. For each invalid account number, print the following message to the user.\n",
        "\n",
        "   ```\n",
        "   Not found. Please enter your correct account number:\n",
        "   ```\n",
        "\n",
        "2. Once the user has entered the correct account number, print the following message to the user.\n",
        "\n",
        "   ```\n",
        "   Welcome, user_name !\n",
        "   Enter 1 to check your balance.\n",
        "   Enter 2 to withdraw an amount.\n",
        "   Enter 3 to deposit an amount.\n",
        "   ```\n",
        "  where `user_name` is the name of the existing user who entered his account number correctly in the first step.\n",
        "\n",
        "3. Prompt the user to enter either `1, 2` or `3`. Keep prompting until the user enters the valid input. For each invalid input, print the following message to the user.\n",
        "\n",
        "   ```\n",
        "   Invalid input!\n",
        "   Enter 1 to check your balance.\n",
        "   Enter 2 to withdraw an amount.\n",
        "   Enter 3 to deposit an amount.\n",
        "   ```\n",
        "\n",
        "4. In the case of valid input:\n",
        "  \n",
        "   - If the user enters `1`, then display their available account balance.\n",
        "\n",
        "   - Else if the user enters `2`, then prompt the user to enter the withdrawal amount by displaying the `Enter the amount to be withdrawn:` message.\n",
        "\n",
        "     - If the withdrawal amount is greater than the available balance, then display the following message.\n",
        "\n",
        "       ```\n",
        "       Insufficient balance.\n",
        "       Available balance: X\n",
        "       ```\n",
        "\n",
        "        where `X` is the available balance in the user's account.\n",
        "\n",
        "     - Else, subtract the withdrawal amount from the available balance and replace the existing available amount with the updated amount in the `cust_data` dictionary. Also, print the following message.\n",
        "\n",
        "       ```\n",
        "       Withdrawal successful.\n",
        "       Available Balance: Y\n",
        "       ```\n",
        "\n",
        "       where `Y` is the updated amount.\n",
        "\n",
        "   - Else if the user enters `3`, then prompt them to enter the amount to be deposited to their account by displaying the `Enter the amount to be deposited:` message. Add the deposit amount to the available balance and update the new deposit amount in the `cust_data` dictionary. Also, display the following message.\n",
        "\n",
        "     ```\n",
        "     Deposit successful.\n",
        "     Available Balance: Z\n",
        "     ```\n",
        "\n",
        "     where `Z` is the updated deposit amount.\n",
        ""
      ]
    },
    {
      "cell_type": "code",
      "metadata": {
        "id": "8HV3cY6O9LeE",
        "colab": {
          "base_uri": "https://localhost:8080/"
        },
        "outputId": "f10c130a-fba3-4e3e-b995-966a3bb9434e"
      },
      "source": [
        "# Create the 'existing_user()' function to get the account details of an existing user from the 'cust_data' dictionary.\n",
        "def existing_user():\n",
        "  acc_num = int(input(\"Please enter your account number:\\n\"))\n",
        "  while acc_num not in cust_data:\n",
        "    acc_num = int(input(\"Not found. Please enter your correct account number:\\n\"))\n",
        "  print(\"\\nWelcome,\", cust_data[acc_num]['name'], \"!\",\n",
        "        \"\\nEnter 1 to check your balance.\\nEnter 2 to withdraw an amount.\\nEnter 3 to deposit an amount.\")\n",
        "  user_choice = input()\n",
        "  while user_choice not in ['1','2','3']:\n",
        "    print(\"\\nInvalid input!\")\n",
        "    print(\"Enter 1 to check your balance.\\nEnter 2 to withdraw an amount.\\nEnter 3 to deposit an amount.\")\n",
        "    user_choice = input()\n",
        "  if user_choice == '1':\n",
        "        print(\"\\nAvailable Balance:\", cust_data[acc_num]['amount'])\n",
        "\n",
        "  elif user_choice == '2':\n",
        "    amt = int(input(\"\\nEnter the amount to be withdrawn:\\n\"))\n",
        "    if amt > cust_data[acc_num]['amount']:\n",
        "      print(\"\\nInsufficient balance.\\nAvailable balance:\", cust_data[acc_num]['amount'])\n",
        "    else:\n",
        "      new_amt = int(cust_data[acc_num]['amount']) - amt\n",
        "      cust_data[acc_num]['amount'] = new_amt\n",
        "      print(\"\\nWithdrawal successful.\\nAvailable Balance:\", cust_data[acc_num]['amount'])\n",
        "\n",
        "  elif user_choice == '3':\n",
        "    amt = int(input(\"\\nEnter the amount to be deposited:\\n\"))\n",
        "    new_amt = int(cust_data[acc_num]['amount']) + amt\n",
        "    cust_data[acc_num]['amount'] = new_amt\n",
        "    print(\"\\nDeposit successful.\\nAvailable Balance:\", cust_data[acc_num]['amount'])\n",
        "\n",
        "existing_user()"
      ],
      "execution_count": null,
      "outputs": [
        {
          "output_type": "stream",
          "text": [
            "Please enter your account number:\n",
            "15999\n",
            "Not found. Please enter your correct account number:\n",
            "10011\n",
            "\n",
            "Welcome, karthik ! \n",
            "Enter 1 to check your balance.\n",
            "Enter 2 to withdraw an amount.\n",
            "Enter 3 to deposit an amount.\n",
            "2\n",
            "\n",
            "Enter the amount to be withdrawn:\n",
            "500\n",
            "\n",
            "Withdrawal successful.\n",
            "Available Balance: 15399\n"
          ],
          "name": "stdout"
        }
      ]
    },
    {
      "cell_type": "markdown",
      "metadata": {
        "id": "gdgW4-R6LVB3"
      },
      "source": [
        "---"
      ]
    },
    {
      "cell_type": "markdown",
      "metadata": {
        "id": "NyHSsEwEoEvH"
      },
      "source": [
        "#### 4. Infinite `while` Loop\n",
        "\n",
        "Finally, create an infinite `while` loop to run the application. Inside the loop:\n",
        "\n",
        "  1. Create a list of valid inputs, i.e., `'1', '2', '3'`\n",
        "\n",
        "  2. Prompt the user to enter either `1, 2,` or `3` by displaying the following message.\n",
        "\n",
        "     ```\n",
        "     Welcome to the Horizon Bank!\n",
        "\n",
        "     Enter 1 if you are a new customer.\n",
        "     Enter 2 if you are an existing customer.\n",
        "     Enter 3 to terminate the application.\n",
        "     ```\n",
        "\n",
        "     Keep prompting until the user enters the valid input. For each invalid input, print the following message to the user.\n",
        "\n",
        "     ```\n",
        "     Invalid input!\n",
        "     Enter 1 if you are a new customer.\n",
        "     Enter 2 if you are an existing customer.\n",
        "     Enter 3 to terminate the application.\n",
        "     ```\n",
        "\n",
        "  3. If the user enters `1`, then create a new account for the user and get their personal details. After creating the account, terminate the application with the `Thank you, for banking with us!` message.\n",
        "\n",
        "  4. Else if the user enters 2, then display their account balance, reduce their balance or increase their balance depending on their further input. Afterwards, terminate the application with the `Thank you, for banking with us!` message.\n",
        "\n",
        "  5. Else if the user enters 3, then terminate the application with the `Thank you, for banking with us!` message."
      ]
    },
    {
      "cell_type": "code",
      "metadata": {
        "id": "-QAIIkM1qCNr",
        "colab": {
          "base_uri": "https://localhost:8080/",
          "height": 128
        },
        "outputId": "a4f9a8a6-d7c2-4f4b-936f-67c1ad3a54e2"
      },
      "source": [
        "# Create an infinite while loop to run the application.\n",
        "Valid = ['1', '2', '3']\n",
        "print(\"\"\"Welcome to the Horizon Bank!\n",
        "Enter 1 if you are a new customer.\n",
        "Enter 2 if you are an existing customer.\n",
        "Enter 3 to terminate the application.\"\"\")\n",
        "user = input()\n",
        "if user not in Valid :\n",
        "  print(\"\"\"Invalid input!\n",
        "Enter 1 if you are a new customer.\n",
        "Enter 2 if you are an existing customer.\n",
        "Enter 3 to terminate the application.\"\"\")\n",
        "  user = input()\n",
        "\n",
        "else :\n",
        "  if user == 1 :\n",
        "    new = []\n",
        "    user = input(\"Enter your name -:\")\n",
        "    Addres = input(\"Enter your address -:\")\n",
        "    Phone = input(\"enter your number -:\")\n",
        "    govt_id = input(\"enter your govt id -:\")\n",
        "    Amount = int(input(\"enter the amount -:\"))\n",
        "\n",
        "    new = [user,Addres,Phone,govt_id,Amount]\n",
        "\n",
        "    new_use= {10011 : dict(zip(new_user_attributes,new))}\n",
        "    cust_data.update(new_use)\n",
        "    print(\"Thank you, for banking with us!\")\n",
        "\n",
        "  elif user == 2:\n",
        "    print(\"\\nAvailable Balance:\", cust_data[acc_num]['amount'])\n",
        "    users = input(\"enter 7 to withdraw money. \\n enter 8 to deposit money\")\n",
        "    if users == 7:\n",
        "      amou = int(input(\"\\nEnter the amount to be withdrawn:\\n\"))\n",
        "      if amou > cust_data[acc_num]['amount']:\n",
        "        print(\"\\nInsufficient balance.\\nAvailable balance:\", cust_data[acc_num]['amount'])\n",
        "      else:\n",
        "        new_amount = int(cust_data[acc_num]['amount']) - amou\n",
        "        cust_data[acc_num]['amount'] = new_amount\n",
        "        print(\"\\nWithdrawal successful.\\nAvailable Balance:\", cust_data[acc_num]['amount'])\n",
        "\n",
        "    elif users == 8:\n",
        "      amoun = int(input(\"\\nEnter the amount to be deposited:\\n\"))\n",
        "      new_amnt = int(cust_data[acc_num]['amount']) + amoun\n",
        "      cust_data[acc_num]['amount'] = new_amnt\n",
        "      print(\"\\nDeposit successful.\\nAvailable Balance:\", cust_data[acc_num]['amount'])\n",
        "\n",
        "  elif user == 3:\n",
        "    print(\"Thank you, for banking with us!\")"
      ],
      "execution_count": null,
      "outputs": [
        {
          "output_type": "error",
          "ename": "IndentationError",
          "evalue": "ignored",
          "traceback": [
            "\u001b[0;36m  File \u001b[0;32m\"<ipython-input-45-dc694388f30d>\"\u001b[0;36m, line \u001b[0;32m3\u001b[0m\n\u001b[0;31m    Valid = ['1', '2', '3']\u001b[0m\n\u001b[0m        ^\u001b[0m\n\u001b[0;31mIndentationError\u001b[0m\u001b[0;31m:\u001b[0m expected an indented block\n"
          ]
        }
      ]
    },
    {
      "cell_type": "markdown",
      "metadata": {
        "id": "4qIsQMIj-Is3"
      },
      "source": [
        "---"
      ]
    },
    {
      "cell_type": "markdown",
      "metadata": {
        "id": "fZV1ZSS5CuTq"
      },
      "source": [
        "---"
      ]
    }
  ]
}