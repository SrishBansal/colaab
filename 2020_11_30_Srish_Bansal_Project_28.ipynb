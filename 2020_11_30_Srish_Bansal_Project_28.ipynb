{
  "nbformat": 4,
  "nbformat_minor": 0,
  "metadata": {
    "colab": {
      "provenance": [],
      "include_colab_link": true
    },
    "kernelspec": {
      "name": "python3",
      "display_name": "Python 3"
    }
  },
  "cells": [
    {
      "cell_type": "markdown",
      "metadata": {
        "id": "view-in-github",
        "colab_type": "text"
      },
      "source": [
        "<a href=\"https://colab.research.google.com/github/SrishBansal/colaab/blob/import/2020_11_30_Srish_Bansal_Project_28.ipynb\" target=\"_parent\"><img src=\"https://colab.research.google.com/assets/colab-badge.svg\" alt=\"Open In Colab\"/></a>"
      ]
    },
    {
      "cell_type": "markdown",
      "metadata": {
        "id": "fIKnY8occu37"
      },
      "source": [
        "#### Goal of the Project\n",
        "\n",
        "This project is designed for you to practice and solve the activities that are based on the concepts covered in the following lessons:\n",
        "\n",
        "1. Python List II (`for` loop).\n",
        "\n",
        "2. Annotated Bar Graphs.\n",
        "\n",
        "\n"
      ]
    },
    {
      "cell_type": "markdown",
      "metadata": {
        "id": "XejoZL-88AKO"
      },
      "source": [
        "---"
      ]
    },
    {
      "cell_type": "markdown",
      "metadata": {
        "id": "BBqkpH4_Doqe"
      },
      "source": [
        "---"
      ]
    },
    {
      "cell_type": "markdown",
      "metadata": {
        "id": "H0P9F3DUf8x2"
      },
      "source": [
        "### Activities\n",
        "\n",
        "\n",
        "  "
      ]
    },
    {
      "cell_type": "markdown",
      "metadata": {
        "id": "BVT9G_baB1aq"
      },
      "source": [
        "#### Activity 1: Annotate bars in the count plot\n",
        "\n",
        "Create a gender wise annotated count plot using the below link which has the dataset of Tips taken on the total bill amount in restaurants in the CSV format:\n",
        "\n",
        "**Dataset** : https://media.geeksforgeeks.org/wp-content/uploads/tips.csv\n"
      ]
    },
    {
      "cell_type": "code",
      "metadata": {
        "id": "0pIGxKG9B3mb",
        "colab": {
          "base_uri": "https://localhost:8080/",
          "height": 442
        },
        "outputId": "7b9792f7-dd95-4b02-c930-70c87d8e484c"
      },
      "source": [
        "# Create Pandas DataFrame for Tips Dataset\n",
        "import pandas as pd\n",
        "import seaborn as sns\n",
        "import matplotlib.pyplot as plt\n",
        "tips_df = pd.read_csv('https://media.geeksforgeeks.org/wp-content/uploads/tips.csv')\n",
        "# Create a gender wise annotated count plot\n",
        "plt.figure(figsize=(14,7))\n",
        "sb = sns.countplot(x='sex',data=tips_df)\n",
        "for i in sb.patches :\n",
        "  sb.annotate(str(i.get_height()), xy= (i.get_x() + i.get_width() / 2 , i.get_height()), ha = 'center', va ='bottom')"
      ],
      "execution_count": null,
      "outputs": [
        {
          "output_type": "display_data",
          "data": {
            "image/png": "[encoded data removed]",
            "text/plain": [
              "<Figure size 1008x504 with 1 Axes>"
            ]
          },
          "metadata": {
            "tags": [],
            "needs_background": "light"
          }
        }
      ]
    },
    {
      "cell_type": "markdown",
      "metadata": {
        "id": "B6aHFM6csIWt"
      },
      "source": [
        "**Q** : How many number of Males are there in the dataset?\n",
        "\n",
        "**A** : There are 157 Males in the dataset."
      ]
    },
    {
      "cell_type": "markdown",
      "metadata": {
        "id": "IJIZASayCpEW"
      },
      "source": [
        "---"
      ]
    },
    {
      "cell_type": "markdown",
      "metadata": {
        "id": "5kBinzKxn3hd"
      },
      "source": [
        "#### Activity 2: Find Kempner\n",
        "\n",
        "The **Kempner Function**, applied to a number, will find the smallest integer greater than zero whose factorial is exactly divisible by that number.\n",
        "\n",
        "You can get a clear idea of **Kempner Function** in the below example.\n",
        "\n",
        "**Explanation:**\n",
        "```\n",
        "  1. kempner(6) ➞ 3\n",
        "\n",
        "1! = 1 % 6 > 0\n",
        "2! = 2 % 6 > 0\n",
        "3! = 6 % 6 == 0          # (3! % 6==0) , so the Kempner of 6 is equal to 3.\n",
        "\n",
        "  2. kempner(10) ➞ 5\n",
        "\n",
        "1! = 1 % 10 > 0\n",
        "2! = 2 % 10 > 0\n",
        "3! = 6 % 10 > 0\n",
        "4! = 24 % 10 > 0\n",
        "5! = 120 % 10 === 0      # (5! % 10==0) , so the Kempner of 10 is equal to 5.\n",
        "```\n",
        "\n",
        "**Constraint:**\n",
        "\n",
        "A Kempner Function applied to a prime number will always return the prime number itself.\n",
        "```\n",
        "kempner(2) ➞ 2\n",
        "\n",
        "kempner(5) ➞ 5\n",
        "```\n",
        "Given an integer n, implement a Kempner Function.\n"
      ]
    },
    {
      "cell_type": "code",
      "metadata": {
        "colab": {
          "base_uri": "https://localhost:8080/"
        },
        "id": "C07JoOu7575t",
        "outputId": "018aa7c0-7c30-49d1-97fe-453355b278e5"
      },
      "source": [
        "# Write a program to find kempner of n\n",
        "def kempner_num(n) :\n",
        "  mult = 1\n",
        "  for i in range(1,n+1) :\n",
        "    mult = mult*i\n",
        "    if mult%n == 0 :\n",
        "      return i\n",
        "\n",
        "kempner_num(6)"
      ],
      "execution_count": null,
      "outputs": [
        {
          "output_type": "execute_result",
          "data": {
            "text/plain": [
              "3"
            ]
          },
          "metadata": {
            "tags": []
          },
          "execution_count": 4
        }
      ]
    },
    {
      "cell_type": "markdown",
      "metadata": {
        "id": "_AEgTRFO8dTb"
      },
      "source": [
        "---"
      ]
    },
    {
      "cell_type": "markdown",
      "metadata": {
        "id": "MWkPEALQn-lN"
      },
      "source": [
        "---"
      ]
    }
  ]
}