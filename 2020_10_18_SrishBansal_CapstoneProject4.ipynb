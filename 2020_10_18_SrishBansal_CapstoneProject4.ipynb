{
  "nbformat": 4,
  "nbformat_minor": 0,
  "metadata": {
    "colab": {
      "provenance": [],
      "include_colab_link": true
    },
    "kernelspec": {
      "name": "python3",
      "display_name": "Python 3"
    }
  },
  "cells": [
    {
      "cell_type": "markdown",
      "metadata": {
        "id": "view-in-github",
        "colab_type": "text"
      },
      "source": [
        "<a href=\"https://colab.research.google.com/github/SrishBansal/colaab/blob/colab/2020_10_18_SrishBansal_CapstoneProject4.ipynb\" target=\"_parent\"><img src=\"https://colab.research.google.com/assets/colab-badge.svg\" alt=\"Open In Colab\"/></a>"
      ]
    },
    {
      "cell_type": "markdown",
      "metadata": {
        "id": "zVCE_Pjc2nFj"
      },
      "source": [
        "# Project 4: Data Visualisation"
      ]
    },
    {
      "cell_type": "markdown",
      "metadata": {
        "id": "57AkT4b-2qsQ"
      },
      "source": [
        "### Overview\n",
        "\n",
        "In this project, you have to create a DataFrame for a synthesized dataset and perform some basic mathematical operations before on the dataset provided to you before you get your hands dirty on a real-life dataset in the subsequent classes.\n"
      ]
    },
    {
      "cell_type": "markdown",
      "metadata": {
        "id": "OYcXE-FyCBVu"
      },
      "source": [
        "---"
      ]
    },
    {
      "cell_type": "markdown",
      "metadata": {
        "id": "mr8FIJcVqlP6"
      },
      "source": [
        "---"
      ]
    },
    {
      "cell_type": "markdown",
      "metadata": {
        "id": "O1Md2QaOm5mD"
      },
      "source": [
        "### Project Requirements\n",
        "\n",
        "For this project, you have to do the following tasks:\n",
        "\n",
        "1. Create a DataFrame for a `csv` file which is available at the link:\n",
        "\n",
        "  https://student-datasets-bucket.s3.ap-south-1.amazonaws.com/whitehat-ds-datasets/project-3/sample_csv_file.csv\n",
        "\n",
        "2. Display the first 5 rows of the DataFrame.\n",
        "\n",
        "3. Display the last 5 rows of the DataFrame.\n",
        "\n",
        "4. Find the number of rows and columns.\n",
        "\n",
        "5. Check for the missing values in the DataFrame.\n",
        "\n",
        "6. Create a pandas series called `cum_freq_x1` which contains the cumulative frequency of the `x1` values and print the first 10 values of the series. Also, verify whether it is a pandas series.\n",
        "\n",
        "7. Print the minimum, maximum, mean, median and mode values for the `cum_freq_x1` Pandas series.\n",
        "\n",
        "8. Create a scatter plot and a line plot between:\n",
        "  \n",
        "  - `y` and `x1`\n",
        "  \n",
        "  - `y` and `x2`\n",
        "  \n",
        "  - `y` and `x3`\n",
        "  \n",
        "  - `y` and `x4`\n",
        "  \n",
        "  - `y` and `2 * x1 + 3 * x2 + 4 * x3 + 5 * x4`\n",
        "  \n",
        "  such that the `y` values are plotted on the horizontal axis and `x1, x2, x3, 4` values are plotted on the vertical axis."
      ]
    },
    {
      "cell_type": "markdown",
      "metadata": {
        "id": "4JHqbf0Jsqnu"
      },
      "source": [
        "---"
      ]
    },
    {
      "cell_type": "markdown",
      "metadata": {
        "id": "a0APEzMjsr59"
      },
      "source": [
        "#### 1. Create a DataFrame\n",
        "\n",
        "Import the required modules. Create a DataFrame for the dataset for this project and store it in the `df` variable. Here's the link to the dataset:\n",
        "\n",
        "https://student-datasets-bucket.s3.ap-south-1.amazonaws.com/whitehat-ds-datasets/project-3/sample_csv_file.csv"
      ]
    },
    {
      "cell_type": "code",
      "metadata": {
        "id": "7ELK9uLOKgUF",
        "outputId": "fca3c8df-ea58-4ed9-91ad-44a72c95451d",
        "colab": {
          "base_uri": "https://localhost:8080/",
          "height": 419
        }
      },
      "source": [
        "# Write your code here.\n",
        "import pandas as pd\n",
        "df = pd.read_csv(\"https://student-datasets-bucket.s3.ap-south-1.amazonaws.com/whitehat-ds-datasets/project-3/sample_csv_file.csv\")\n",
        "df"
      ],
      "execution_count": null,
      "outputs": [
        {
          "output_type": "execute_result",
          "data": {
            "text/html": [
              "<div>\n",
              "<style scoped>\n",
              "    .dataframe tbody tr th:only-of-type {\n",
              "        vertical-align: middle;\n",
              "    }\n",
              "\n",
              "    .dataframe tbody tr th {\n",
              "        vertical-align: top;\n",
              "    }\n",
              "\n",
              "    .dataframe thead th {\n",
              "        text-align: right;\n",
              "    }\n",
              "</style>\n",
              "<table border=\"1\" class=\"dataframe\">\n",
              "  <thead>\n",
              "    <tr style=\"text-align: right;\">\n",
              "      <th></th>\n",
              "      <th>y</th>\n",
              "      <th>x1</th>\n",
              "      <th>x2</th>\n",
              "      <th>x3</th>\n",
              "      <th>x4</th>\n",
              "    </tr>\n",
              "  </thead>\n",
              "  <tbody>\n",
              "    <tr>\n",
              "      <th>0</th>\n",
              "      <td>1</td>\n",
              "      <td>1</td>\n",
              "      <td>1</td>\n",
              "      <td>0.000000</td>\n",
              "      <td>0.841471</td>\n",
              "    </tr>\n",
              "    <tr>\n",
              "      <th>1</th>\n",
              "      <td>2</td>\n",
              "      <td>2</td>\n",
              "      <td>4</td>\n",
              "      <td>0.693147</td>\n",
              "      <td>0.909297</td>\n",
              "    </tr>\n",
              "    <tr>\n",
              "      <th>2</th>\n",
              "      <td>3</td>\n",
              "      <td>3</td>\n",
              "      <td>9</td>\n",
              "      <td>1.098612</td>\n",
              "      <td>0.141120</td>\n",
              "    </tr>\n",
              "    <tr>\n",
              "      <th>3</th>\n",
              "      <td>4</td>\n",
              "      <td>4</td>\n",
              "      <td>16</td>\n",
              "      <td>1.386294</td>\n",
              "      <td>-0.756802</td>\n",
              "    </tr>\n",
              "    <tr>\n",
              "      <th>4</th>\n",
              "      <td>5</td>\n",
              "      <td>5</td>\n",
              "      <td>25</td>\n",
              "      <td>1.609438</td>\n",
              "      <td>-0.958924</td>\n",
              "    </tr>\n",
              "    <tr>\n",
              "      <th>...</th>\n",
              "      <td>...</td>\n",
              "      <td>...</td>\n",
              "      <td>...</td>\n",
              "      <td>...</td>\n",
              "      <td>...</td>\n",
              "    </tr>\n",
              "    <tr>\n",
              "      <th>494</th>\n",
              "      <td>495</td>\n",
              "      <td>495</td>\n",
              "      <td>245025</td>\n",
              "      <td>6.204558</td>\n",
              "      <td>-0.980234</td>\n",
              "    </tr>\n",
              "    <tr>\n",
              "      <th>495</th>\n",
              "      <td>496</td>\n",
              "      <td>496</td>\n",
              "      <td>246016</td>\n",
              "      <td>6.206576</td>\n",
              "      <td>-0.363143</td>\n",
              "    </tr>\n",
              "    <tr>\n",
              "      <th>496</th>\n",
              "      <td>497</td>\n",
              "      <td>497</td>\n",
              "      <td>247009</td>\n",
              "      <td>6.208590</td>\n",
              "      <td>0.587819</td>\n",
              "    </tr>\n",
              "    <tr>\n",
              "      <th>497</th>\n",
              "      <td>498</td>\n",
              "      <td>498</td>\n",
              "      <td>248004</td>\n",
              "      <td>6.210600</td>\n",
              "      <td>0.998344</td>\n",
              "    </tr>\n",
              "    <tr>\n",
              "      <th>498</th>\n",
              "      <td>499</td>\n",
              "      <td>499</td>\n",
              "      <td>249001</td>\n",
              "      <td>6.212606</td>\n",
              "      <td>0.490995</td>\n",
              "    </tr>\n",
              "  </tbody>\n",
              "</table>\n",
              "<p>499 rows × 5 columns</p>\n",
              "</div>"
            ],
            "text/plain": [
              "       y   x1      x2        x3        x4\n",
              "0      1    1       1  0.000000  0.841471\n",
              "1      2    2       4  0.693147  0.909297\n",
              "2      3    3       9  1.098612  0.141120\n",
              "3      4    4      16  1.386294 -0.756802\n",
              "4      5    5      25  1.609438 -0.958924\n",
              "..   ...  ...     ...       ...       ...\n",
              "494  495  495  245025  6.204558 -0.980234\n",
              "495  496  496  246016  6.206576 -0.363143\n",
              "496  497  497  247009  6.208590  0.587819\n",
              "497  498  498  248004  6.210600  0.998344\n",
              "498  499  499  249001  6.212606  0.490995\n",
              "\n",
              "[499 rows x 5 columns]"
            ]
          },
          "metadata": {
            "tags": []
          },
          "execution_count": 2
        }
      ]
    },
    {
      "cell_type": "markdown",
      "metadata": {
        "id": "9TcWLR-EtAL5"
      },
      "source": [
        "---"
      ]
    },
    {
      "cell_type": "markdown",
      "metadata": {
        "id": "YknhZf9ktBLZ"
      },
      "source": [
        "#### 2. Display The First 5 Rows\n",
        "\n",
        "Here you have to display the first five rows of the `df` DataFrame."
      ]
    },
    {
      "cell_type": "code",
      "metadata": {
        "id": "lLJ6ItnzRJgS",
        "outputId": "7712ab64-c719-424c-efda-d820df380a04",
        "colab": {
          "base_uri": "https://localhost:8080/",
          "height": 204
        }
      },
      "source": [
        "# Write your code here.\n",
        "df.head()"
      ],
      "execution_count": null,
      "outputs": [
        {
          "output_type": "execute_result",
          "data": {
            "text/html": [
              "<div>\n",
              "<style scoped>\n",
              "    .dataframe tbody tr th:only-of-type {\n",
              "        vertical-align: middle;\n",
              "    }\n",
              "\n",
              "    .dataframe tbody tr th {\n",
              "        vertical-align: top;\n",
              "    }\n",
              "\n",
              "    .dataframe thead th {\n",
              "        text-align: right;\n",
              "    }\n",
              "</style>\n",
              "<table border=\"1\" class=\"dataframe\">\n",
              "  <thead>\n",
              "    <tr style=\"text-align: right;\">\n",
              "      <th></th>\n",
              "      <th>y</th>\n",
              "      <th>x1</th>\n",
              "      <th>x2</th>\n",
              "      <th>x3</th>\n",
              "      <th>x4</th>\n",
              "    </tr>\n",
              "  </thead>\n",
              "  <tbody>\n",
              "    <tr>\n",
              "      <th>0</th>\n",
              "      <td>1</td>\n",
              "      <td>1</td>\n",
              "      <td>1</td>\n",
              "      <td>0.000000</td>\n",
              "      <td>0.841471</td>\n",
              "    </tr>\n",
              "    <tr>\n",
              "      <th>1</th>\n",
              "      <td>2</td>\n",
              "      <td>2</td>\n",
              "      <td>4</td>\n",
              "      <td>0.693147</td>\n",
              "      <td>0.909297</td>\n",
              "    </tr>\n",
              "    <tr>\n",
              "      <th>2</th>\n",
              "      <td>3</td>\n",
              "      <td>3</td>\n",
              "      <td>9</td>\n",
              "      <td>1.098612</td>\n",
              "      <td>0.141120</td>\n",
              "    </tr>\n",
              "    <tr>\n",
              "      <th>3</th>\n",
              "      <td>4</td>\n",
              "      <td>4</td>\n",
              "      <td>16</td>\n",
              "      <td>1.386294</td>\n",
              "      <td>-0.756802</td>\n",
              "    </tr>\n",
              "    <tr>\n",
              "      <th>4</th>\n",
              "      <td>5</td>\n",
              "      <td>5</td>\n",
              "      <td>25</td>\n",
              "      <td>1.609438</td>\n",
              "      <td>-0.958924</td>\n",
              "    </tr>\n",
              "  </tbody>\n",
              "</table>\n",
              "</div>"
            ],
            "text/plain": [
              "   y  x1  x2        x3        x4\n",
              "0  1   1   1  0.000000  0.841471\n",
              "1  2   2   4  0.693147  0.909297\n",
              "2  3   3   9  1.098612  0.141120\n",
              "3  4   4  16  1.386294 -0.756802\n",
              "4  5   5  25  1.609438 -0.958924"
            ]
          },
          "metadata": {
            "tags": []
          },
          "execution_count": 2
        }
      ]
    },
    {
      "cell_type": "markdown",
      "metadata": {
        "id": "77w83-ortGY8"
      },
      "source": [
        "---"
      ]
    },
    {
      "cell_type": "markdown",
      "metadata": {
        "id": "836Zdss_tOPi"
      },
      "source": [
        "#### 3. Display The Last 5 Rows\n",
        "\n",
        "Here you have to display the last five rows of the `df` DataFrame."
      ]
    },
    {
      "cell_type": "code",
      "metadata": {
        "id": "__DRgc_pPJau",
        "outputId": "1c9311d0-a578-4816-c987-aa5747120dfb",
        "colab": {
          "base_uri": "https://localhost:8080/",
          "height": 204
        }
      },
      "source": [
        "# Write your code here.\n",
        "df.tail()"
      ],
      "execution_count": null,
      "outputs": [
        {
          "output_type": "execute_result",
          "data": {
            "text/html": [
              "<div>\n",
              "<style scoped>\n",
              "    .dataframe tbody tr th:only-of-type {\n",
              "        vertical-align: middle;\n",
              "    }\n",
              "\n",
              "    .dataframe tbody tr th {\n",
              "        vertical-align: top;\n",
              "    }\n",
              "\n",
              "    .dataframe thead th {\n",
              "        text-align: right;\n",
              "    }\n",
              "</style>\n",
              "<table border=\"1\" class=\"dataframe\">\n",
              "  <thead>\n",
              "    <tr style=\"text-align: right;\">\n",
              "      <th></th>\n",
              "      <th>y</th>\n",
              "      <th>x1</th>\n",
              "      <th>x2</th>\n",
              "      <th>x3</th>\n",
              "      <th>x4</th>\n",
              "    </tr>\n",
              "  </thead>\n",
              "  <tbody>\n",
              "    <tr>\n",
              "      <th>494</th>\n",
              "      <td>495</td>\n",
              "      <td>495</td>\n",
              "      <td>245025</td>\n",
              "      <td>6.204558</td>\n",
              "      <td>-0.980234</td>\n",
              "    </tr>\n",
              "    <tr>\n",
              "      <th>495</th>\n",
              "      <td>496</td>\n",
              "      <td>496</td>\n",
              "      <td>246016</td>\n",
              "      <td>6.206576</td>\n",
              "      <td>-0.363143</td>\n",
              "    </tr>\n",
              "    <tr>\n",
              "      <th>496</th>\n",
              "      <td>497</td>\n",
              "      <td>497</td>\n",
              "      <td>247009</td>\n",
              "      <td>6.208590</td>\n",
              "      <td>0.587819</td>\n",
              "    </tr>\n",
              "    <tr>\n",
              "      <th>497</th>\n",
              "      <td>498</td>\n",
              "      <td>498</td>\n",
              "      <td>248004</td>\n",
              "      <td>6.210600</td>\n",
              "      <td>0.998344</td>\n",
              "    </tr>\n",
              "    <tr>\n",
              "      <th>498</th>\n",
              "      <td>499</td>\n",
              "      <td>499</td>\n",
              "      <td>249001</td>\n",
              "      <td>6.212606</td>\n",
              "      <td>0.490995</td>\n",
              "    </tr>\n",
              "  </tbody>\n",
              "</table>\n",
              "</div>"
            ],
            "text/plain": [
              "       y   x1      x2        x3        x4\n",
              "494  495  495  245025  6.204558 -0.980234\n",
              "495  496  496  246016  6.206576 -0.363143\n",
              "496  497  497  247009  6.208590  0.587819\n",
              "497  498  498  248004  6.210600  0.998344\n",
              "498  499  499  249001  6.212606  0.490995"
            ]
          },
          "metadata": {
            "tags": []
          },
          "execution_count": 3
        }
      ]
    },
    {
      "cell_type": "markdown",
      "metadata": {
        "id": "hbrf-qnYtXHL"
      },
      "source": [
        "---"
      ]
    },
    {
      "cell_type": "markdown",
      "metadata": {
        "id": "5Vc16dIwtYEC"
      },
      "source": [
        "#### 4. Display Number Of Rows & Columns\n",
        "\n",
        "Now, display the number of rows and columns that are present in the `df` DataFrame."
      ]
    },
    {
      "cell_type": "code",
      "metadata": {
        "id": "BchpHm6DQ22n",
        "outputId": "63e94075-8fe0-48db-817b-55cc41552910",
        "colab": {
          "base_uri": "https://localhost:8080/",
          "height": 34
        }
      },
      "source": [
        "# Write your code here.\n",
        "df.shape"
      ],
      "execution_count": null,
      "outputs": [
        {
          "output_type": "execute_result",
          "data": {
            "text/plain": [
              "(499, 5)"
            ]
          },
          "metadata": {
            "tags": []
          },
          "execution_count": 4
        }
      ]
    },
    {
      "cell_type": "markdown",
      "metadata": {
        "id": "t6l5BJ0otgRO"
      },
      "source": [
        "---"
      ]
    },
    {
      "cell_type": "markdown",
      "metadata": {
        "id": "noovqesBthVM"
      },
      "source": [
        "#### 5. Check For The Missing Values\n",
        "\n",
        "Check whether the `df` DataFrame contains the missing values."
      ]
    },
    {
      "cell_type": "code",
      "metadata": {
        "id": "fcCJ0AzhQ4T0",
        "outputId": "a50b5ac9-f2f7-44ea-810f-f33e573b7f1f",
        "colab": {
          "base_uri": "https://localhost:8080/",
          "height": 419
        }
      },
      "source": [
        "# Write your code here.\n",
        "missing_values = df.isnull()\n",
        "missing_values"
      ],
      "execution_count": null,
      "outputs": [
        {
          "output_type": "execute_result",
          "data": {
            "text/html": [
              "<div>\n",
              "<style scoped>\n",
              "    .dataframe tbody tr th:only-of-type {\n",
              "        vertical-align: middle;\n",
              "    }\n",
              "\n",
              "    .dataframe tbody tr th {\n",
              "        vertical-align: top;\n",
              "    }\n",
              "\n",
              "    .dataframe thead th {\n",
              "        text-align: right;\n",
              "    }\n",
              "</style>\n",
              "<table border=\"1\" class=\"dataframe\">\n",
              "  <thead>\n",
              "    <tr style=\"text-align: right;\">\n",
              "      <th></th>\n",
              "      <th>y</th>\n",
              "      <th>x1</th>\n",
              "      <th>x2</th>\n",
              "      <th>x3</th>\n",
              "      <th>x4</th>\n",
              "    </tr>\n",
              "  </thead>\n",
              "  <tbody>\n",
              "    <tr>\n",
              "      <th>0</th>\n",
              "      <td>False</td>\n",
              "      <td>False</td>\n",
              "      <td>False</td>\n",
              "      <td>False</td>\n",
              "      <td>False</td>\n",
              "    </tr>\n",
              "    <tr>\n",
              "      <th>1</th>\n",
              "      <td>False</td>\n",
              "      <td>False</td>\n",
              "      <td>False</td>\n",
              "      <td>False</td>\n",
              "      <td>False</td>\n",
              "    </tr>\n",
              "    <tr>\n",
              "      <th>2</th>\n",
              "      <td>False</td>\n",
              "      <td>False</td>\n",
              "      <td>False</td>\n",
              "      <td>False</td>\n",
              "      <td>False</td>\n",
              "    </tr>\n",
              "    <tr>\n",
              "      <th>3</th>\n",
              "      <td>False</td>\n",
              "      <td>False</td>\n",
              "      <td>False</td>\n",
              "      <td>False</td>\n",
              "      <td>False</td>\n",
              "    </tr>\n",
              "    <tr>\n",
              "      <th>4</th>\n",
              "      <td>False</td>\n",
              "      <td>False</td>\n",
              "      <td>False</td>\n",
              "      <td>False</td>\n",
              "      <td>False</td>\n",
              "    </tr>\n",
              "    <tr>\n",
              "      <th>...</th>\n",
              "      <td>...</td>\n",
              "      <td>...</td>\n",
              "      <td>...</td>\n",
              "      <td>...</td>\n",
              "      <td>...</td>\n",
              "    </tr>\n",
              "    <tr>\n",
              "      <th>494</th>\n",
              "      <td>False</td>\n",
              "      <td>False</td>\n",
              "      <td>False</td>\n",
              "      <td>False</td>\n",
              "      <td>False</td>\n",
              "    </tr>\n",
              "    <tr>\n",
              "      <th>495</th>\n",
              "      <td>False</td>\n",
              "      <td>False</td>\n",
              "      <td>False</td>\n",
              "      <td>False</td>\n",
              "      <td>False</td>\n",
              "    </tr>\n",
              "    <tr>\n",
              "      <th>496</th>\n",
              "      <td>False</td>\n",
              "      <td>False</td>\n",
              "      <td>False</td>\n",
              "      <td>False</td>\n",
              "      <td>False</td>\n",
              "    </tr>\n",
              "    <tr>\n",
              "      <th>497</th>\n",
              "      <td>False</td>\n",
              "      <td>False</td>\n",
              "      <td>False</td>\n",
              "      <td>False</td>\n",
              "      <td>False</td>\n",
              "    </tr>\n",
              "    <tr>\n",
              "      <th>498</th>\n",
              "      <td>False</td>\n",
              "      <td>False</td>\n",
              "      <td>False</td>\n",
              "      <td>False</td>\n",
              "      <td>False</td>\n",
              "    </tr>\n",
              "  </tbody>\n",
              "</table>\n",
              "<p>499 rows × 5 columns</p>\n",
              "</div>"
            ],
            "text/plain": [
              "         y     x1     x2     x3     x4\n",
              "0    False  False  False  False  False\n",
              "1    False  False  False  False  False\n",
              "2    False  False  False  False  False\n",
              "3    False  False  False  False  False\n",
              "4    False  False  False  False  False\n",
              "..     ...    ...    ...    ...    ...\n",
              "494  False  False  False  False  False\n",
              "495  False  False  False  False  False\n",
              "496  False  False  False  False  False\n",
              "497  False  False  False  False  False\n",
              "498  False  False  False  False  False\n",
              "\n",
              "[499 rows x 5 columns]"
            ]
          },
          "metadata": {
            "tags": []
          },
          "execution_count": 5
        }
      ]
    },
    {
      "cell_type": "markdown",
      "metadata": {
        "id": "cpABJSlnttuX"
      },
      "source": [
        "---"
      ]
    },
    {
      "cell_type": "markdown",
      "metadata": {
        "id": "YjFYaSi4turb"
      },
      "source": [
        "#### 6. Cumulative Frequency\n",
        "\n",
        "The cumulative frequency is the sum of the current and the previous frequencies.\n",
        "\n",
        "Suppose there are 50 students in your class. The table below shows the distribution of the number of students secured marks out of 100 in a Math test in a particular range.\n",
        "\n",
        "|Interval|Frequency|\n",
        "|-|-|\n",
        "|40-50|5|\n",
        "|50-60|11|\n",
        "|60-70|13|\n",
        "|70-80|11|\n",
        "|80-90|8|\n",
        "|90-100|2|\n",
        "\n",
        "So, there are\n",
        "\n",
        "- 5 students who have secured marks between 40 and 50 (excluding 50)\n",
        "\n",
        "- 11 students who have secured marks between 50 and 60 (excluding 60)\n",
        "\n",
        "- 13 students who have secured marks between 60 and 70 (excluding 70)\n",
        "\n",
        "- 11 students who have secured marks between 70 and 80 (excluding 80)\n",
        "\n",
        "- 8 students who have secured marks between 80 and 90 (excluding 90)\n",
        "\n",
        "- 2 students who have secured marks between 90 and 100 (**including** 100)\n",
        "\n",
        "The cumulative frequency table for the above table is:\n",
        "\n",
        "|Interval|Frequency|Cumulative Frequency|\n",
        "|-|-|-|\n",
        "|40-50|5|5|\n",
        "|50-60|11|5 + 11 = 16|\n",
        "|60-70|13|16 + 13 = 29|\n",
        "|70-80|11|29 + 11 = 40|\n",
        "|80-90|8|40 + 8 = 48|\n",
        "|90-100|2|48 + 2 = 50|\n",
        "\n",
        "So, the cumulative frequency table tells us that there are\n",
        "\n",
        "- 5 students who have secured marks between 40 and 50 (excluding 50)\n",
        "\n",
        "- 16 students who have secured marks between 40 and 60 (excluding 60)\n",
        "\n",
        "- 29 students who have secured marks between 40 and 70 (excluding 70)\n",
        "\n",
        "- 40 students who have secured marks between 40 and 80 (excluding 80)\n",
        "\n",
        "- 48 students who have secured marks between 40 and 90 (excluding 90)\n",
        "\n",
        "- 50 students who have secured marks between 40 and 100 (**including** 100)"
      ]
    },
    {
      "cell_type": "code",
      "metadata": {
        "id": "WrC4fyRUW4vA",
        "outputId": "1404011a-ca52-45f1-e5b7-f69e2b158aae",
        "colab": {
          "base_uri": "https://localhost:8080/",
          "height": 119
        }
      },
      "source": [
        "# Write your code here.\n",
        "cum_freq_x1 = []\n",
        "cum = 0\n",
        "for i in range(df.shape[0]) :\n",
        "  cum = cum+df['x1'][i]\n",
        "  cum_freq_x1.append(cum)\n",
        "cum_freq_x1 = pd.Series(cum_freq_x1)\n",
        "cum_freq_x1.head()"
      ],
      "execution_count": null,
      "outputs": [
        {
          "output_type": "execute_result",
          "data": {
            "text/plain": [
              "0     1\n",
              "1     3\n",
              "2     6\n",
              "3    10\n",
              "4    15\n",
              "dtype: int64"
            ]
          },
          "metadata": {
            "tags": []
          },
          "execution_count": 10
        }
      ]
    },
    {
      "cell_type": "markdown",
      "metadata": {
        "id": "u8Wq5e6PypWJ"
      },
      "source": [
        "---"
      ]
    },
    {
      "cell_type": "markdown",
      "metadata": {
        "id": "6qa0CN4dysEr"
      },
      "source": [
        "#### 7. Minimum, Maximum, Mean And Median Values\n",
        "\n",
        "Now, print the minumum, maximum, mean and median values in the `cum_freq_x1` column in the `df` DataFrame."
      ]
    },
    {
      "cell_type": "code",
      "metadata": {
        "id": "hlVuv70Nbupg",
        "outputId": "b1f520a1-59b3-47b8-a755-9dc52dd135ff",
        "colab": {
          "base_uri": "https://localhost:8080/",
          "height": 85
        }
      },
      "source": [
        "# Write your code here.\n",
        "print(\"The minimum value of cum_freq_x1 is \" , cum_freq_x1.min())\n",
        "print(\"The maximum value of cum_freq_x1 is \" , cum_freq_x1.max())\n",
        "print(\"The mean value of cum_freq_x1 is \" , cum_freq_x1.mean())\n",
        "print(\"The median value of cum_freq_x1 is \" , cum_freq_x1.median())"
      ],
      "execution_count": null,
      "outputs": [
        {
          "output_type": "stream",
          "text": [
            "The minimum value of cum_freq_x1 is  1\n",
            "The maximum value of cum_freq_x1 is  124750\n",
            "The mean value of cum_freq_x1 is  41750.0\n",
            "The median value of cum_freq_x1 is  31375.0\n"
          ],
          "name": "stdout"
        }
      ]
    },
    {
      "cell_type": "markdown",
      "metadata": {
        "id": "3RiKE8vUz9IX"
      },
      "source": [
        "---"
      ]
    },
    {
      "cell_type": "markdown",
      "metadata": {
        "id": "5fKVN1TYz92o"
      },
      "source": [
        "#### 8. Scatter & Line Plots\n",
        "\n",
        "Now you have to create the scatter plots and line plots between the following columns:\n",
        "\n",
        "1. `y` and `x1`\n",
        "\n",
        "2. `y` and `x2`\n",
        "\n",
        "3. `y` and `x3`\n",
        "\n",
        "4. `y` and `x4`\n",
        "\n",
        "5. `y1` and `2 * x1 + 3 * x2 + 4 * x3 + 5 * x4`\n"
      ]
    },
    {
      "cell_type": "code",
      "metadata": {
        "id": "INB2sNXkb7zA",
        "outputId": "022d5d51-0360-4d9e-dd4d-90c2fd8a062e",
        "colab": {
          "base_uri": "https://localhost:8080/",
          "height": 265
        }
      },
      "source": [
        "# Scatter plot between y and x1.\n",
        "# Write your code here.\n",
        "plt.figure(figsize=(15,4))\n",
        "plt.scatter(df['y'],df['x1'])\n",
        "plt.show()"
      ],
      "execution_count": null,
      "outputs": [
        {
          "output_type": "display_data",
          "data": {
            "image/png": "[encoded data removed]",
            "text/plain": [
              "<Figure size 1080x288 with 1 Axes>"
            ]
          },
          "metadata": {
            "tags": [],
            "needs_background": "light"
          }
        }
      ]
    },
    {
      "cell_type": "code",
      "metadata": {
        "id": "0-f6QGyQcCqp",
        "outputId": "e5f5b760-5ac2-44e2-d0fd-cd3f06603383",
        "colab": {
          "base_uri": "https://localhost:8080/",
          "height": 265
        }
      },
      "source": [
        "# Line plot between y and x1.\n",
        "# Write your code here.\n",
        "plt.figure(figsize=(15,4))\n",
        "plt.plot(df['y'],df['x1'])\n",
        "plt.show()"
      ],
      "execution_count": null,
      "outputs": [
        {
          "output_type": "display_data",
          "data": {
            "image/png": "[encoded data removed]",
            "text/plain": [
              "<Figure size 1080x288 with 1 Axes>"
            ]
          },
          "metadata": {
            "tags": [],
            "needs_background": "light"
          }
        }
      ]
    },
    {
      "cell_type": "code",
      "metadata": {
        "id": "8QbZWktDcFxc",
        "outputId": "bdbaf60a-962a-4bcc-a746-55aa39e2aec3",
        "colab": {
          "base_uri": "https://localhost:8080/",
          "height": 265
        }
      },
      "source": [
        "# Scatter plot between y and x2.\n",
        "# Write your code here.\n",
        "plt.figure(figsize=(15,4))\n",
        "plt.scatter(df['y'],df['x2'])\n",
        "plt.show()"
      ],
      "execution_count": null,
      "outputs": [
        {
          "output_type": "display_data",
          "data": {
            "image/png": "[encoded data removed]",
            "text/plain": [
              "<Figure size 1080x288 with 1 Axes>"
            ]
          },
          "metadata": {
            "tags": [],
            "needs_background": "light"
          }
        }
      ]
    },
    {
      "cell_type": "code",
      "metadata": {
        "id": "K0Z7s3nycIU2",
        "outputId": "7fd23ab8-41e4-41b6-ee10-3e385b41241a",
        "colab": {
          "base_uri": "https://localhost:8080/",
          "height": 265
        }
      },
      "source": [
        "# Line plot between y and x2.\n",
        "# Write your code here.\n",
        "plt.figure(figsize=(15,4))\n",
        "plt.plot(df['y'],df['x2'])\n",
        "plt.show()"
      ],
      "execution_count": null,
      "outputs": [
        {
          "output_type": "display_data",
          "data": {
            "image/png": "[encoded data removed]",
            "text/plain": [
              "<Figure size 1080x288 with 1 Axes>"
            ]
          },
          "metadata": {
            "tags": [],
            "needs_background": "light"
          }
        }
      ]
    },
    {
      "cell_type": "code",
      "metadata": {
        "id": "djwL88fNjNBQ",
        "outputId": "cb11815a-090c-4d18-e764-04d7f5a92aca",
        "colab": {
          "base_uri": "https://localhost:8080/",
          "height": 265
        }
      },
      "source": [
        "# Scatter plot between y and x3.\n",
        "# Write your code here.\n",
        "plt.figure(figsize=(15,4))\n",
        "plt.scatter(df['y'],df['x3'])\n",
        "plt.show()"
      ],
      "execution_count": null,
      "outputs": [
        {
          "output_type": "display_data",
          "data": {
            "image/png": "[encoded data removed]",
            "text/plain": [
              "<Figure size 1080x288 with 1 Axes>"
            ]
          },
          "metadata": {
            "tags": [],
            "needs_background": "light"
          }
        }
      ]
    },
    {
      "cell_type": "code",
      "metadata": {
        "id": "rQ_Kcw7ikwpt",
        "outputId": "d88f811f-747b-46f3-ffef-c9ee6f34ca48",
        "colab": {
          "base_uri": "https://localhost:8080/",
          "height": 265
        }
      },
      "source": [
        "# Line plot between y and x3.\n",
        "# Write your code here.\n",
        "plt.figure(figsize=(15,4))\n",
        "plt.plot(df['y'],df['x3'])\n",
        "plt.show()"
      ],
      "execution_count": null,
      "outputs": [
        {
          "output_type": "display_data",
          "data": {
            "image/png": "[encoded data removed]",
            "text/plain": [
              "<Figure size 1080x288 with 1 Axes>"
            ]
          },
          "metadata": {
            "tags": [],
            "needs_background": "light"
          }
        }
      ]
    },
    {
      "cell_type": "code",
      "metadata": {
        "id": "oFY-C9pG1ofU",
        "outputId": "55446212-7355-44a9-be39-0689dfb3aa0c",
        "colab": {
          "base_uri": "https://localhost:8080/",
          "height": 265
        }
      },
      "source": [
        "# Scatter plot between y and x4.\n",
        "# Write your code here.\n",
        "plt.figure(figsize=(15,4))\n",
        "plt.scatter(df['y'],df['x4'])\n",
        "plt.show()"
      ],
      "execution_count": null,
      "outputs": [
        {
          "output_type": "display_data",
          "data": {
            "image/png": "[encoded data removed]",
            "text/plain": [
              "<Figure size 1080x288 with 1 Axes>"
            ]
          },
          "metadata": {
            "tags": [],
            "needs_background": "light"
          }
        }
      ]
    },
    {
      "cell_type": "code",
      "metadata": {
        "id": "V7OJ1Cam1sMS",
        "outputId": "92d58cd0-6091-4e90-e753-ffb0816c869d",
        "colab": {
          "base_uri": "https://localhost:8080/",
          "height": 265
        }
      },
      "source": [
        "# Line plot between y and x2.\n",
        "# Write your code here.\n",
        "plt.figure(figsize=(15,4))\n",
        "plt.plot(df['y'],df['x2'])\n",
        "plt.show()"
      ],
      "execution_count": null,
      "outputs": [
        {
          "output_type": "display_data",
          "data": {
            "image/png": "[encoded data removed]",
            "text/plain": [
              "<Figure size 1080x288 with 1 Axes>"
            ]
          },
          "metadata": {
            "tags": [],
            "needs_background": "light"
          }
        }
      ]
    },
    {
      "cell_type": "code",
      "metadata": {
        "id": "NF6HV0ij1yPT",
        "outputId": "db23b7cf-fac1-4eda-efb8-c6159e97cde7",
        "colab": {
          "base_uri": "https://localhost:8080/",
          "height": 265
        }
      },
      "source": [
        "# Scatter plot between y and 2 * x1 + 3 * x2 + 4 * x3 + 5 * x4.\n",
        "# Write your code here.\n",
        "plt.figure(figsize=(15,4))\n",
        "plt.scatter(df['y'],(2*df['x1'] + 3*df['x2'] +4*df['x3'] +5*df['x4']))\n",
        "plt.show()"
      ],
      "execution_count": null,
      "outputs": [
        {
          "output_type": "display_data",
          "data": {
            "image/png": "[encoded data removed]",
            "text/plain": [
              "<Figure size 1080x288 with 1 Axes>"
            ]
          },
          "metadata": {
            "tags": [],
            "needs_background": "light"
          }
        }
      ]
    },
    {
      "cell_type": "code",
      "metadata": {
        "id": "qcezxtHf2Qe3",
        "outputId": "25ec25d2-07eb-4480-d54d-41472d291824",
        "colab": {
          "base_uri": "https://localhost:8080/",
          "height": 265
        }
      },
      "source": [
        "# Line plot between y and 2 * x1 + 3 * x2 + 4 * x3 + 5 * x4.\n",
        "# Write your code here.\n",
        "plt.figure(figsize=(15,4))\n",
        "plt.plot(df['y'],(2*df['x1'] + 3*df['x2'] +4*df['x3'] +5*df['x4']))\n",
        "plt.show()"
      ],
      "execution_count": null,
      "outputs": [
        {
          "output_type": "display_data",
          "data": {
            "image/png": "[encoded data removed]",
            "text/plain": [
              "<Figure size 1080x288 with 1 Axes>"
            ]
          },
          "metadata": {
            "tags": [],
            "needs_background": "light"
          }
        }
      ]
    },
    {
      "cell_type": "markdown",
      "metadata": {
        "id": "PzQcuhZ0B_MJ"
      },
      "source": [
        "---"
      ]
    },
    {
      "cell_type": "markdown",
      "metadata": {
        "id": "XvfZWGQUF96l"
      },
      "source": [
        "---"
      ]
    }
  ]
}