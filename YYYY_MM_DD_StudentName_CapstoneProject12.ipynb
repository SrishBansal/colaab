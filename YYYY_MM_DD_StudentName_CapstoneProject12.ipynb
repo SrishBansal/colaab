{
  "nbformat": 4,
  "nbformat_minor": 0,
  "metadata": {
    "colab": {
      "provenance": [],
      "include_colab_link": true
    },
    "kernelspec": {
      "name": "python3",
      "display_name": "Python 3"
    }
  },
  "cells": [
    {
      "cell_type": "markdown",
      "metadata": {
        "id": "view-in-github",
        "colab_type": "text"
      },
      "source": [
        "<a href=\"https://colab.research.google.com/github/SrishBansal/colaab/blob/colab/YYYY_MM_DD_StudentName_CapstoneProject12.ipynb\" target=\"_parent\"><img src=\"https://colab.research.google.com/assets/colab-badge.svg\" alt=\"Open In Colab\"/></a>"
      ]
    },
    {
      "cell_type": "markdown",
      "metadata": {
        "id": "OocTROo-irrt"
      },
      "source": [
        "# Project 12: IoT Devices - Time Series Plots\n"
      ]
    },
    {
      "cell_type": "markdown",
      "metadata": {
        "id": "wOmN35jdQO68"
      },
      "source": [
        "### Context\n",
        "\n",
        "IoT devices have been around for quite a while now. They are used to collect data through different kinds of sensors such as\n",
        "Motion sensors: These use a visual sensor to detect a change in apparent temperature of surroundings  or when someone comes in the field of view of a camera.\n",
        "Heat sensors: These are used in trucks which carry perishable goods like fish and milk where changes in a temperature lower the shelf life of the produce. These are also used to detect forest fires.\n",
        "\n",
        "Vibration sensors: These are used in car crash tests and detecting if someone is trying to cut a tree.  \n",
        "\n",
        "A lot of people are using smartwatches and fitness watches to track their daily physical activities, calories burnt, average resting heart rates, sleep cycle so that they lead a fit life. Such wearables are equipped with laser sensors to collect data.\n",
        "\n",
        "Heat Index (temperature + humidity ) is one common data recorded on these IoT readers. The frequency of the upcoming data is very fast. The sensor reads hundreds to millions of data per second. There is a huge and versatile application of this data in real-world like agriculture, weather forecasting, soil monitoring and treatment, enterprise maintenance etc.\n",
        "\n",
        "Heat stress index of India.\n",
        "\n",
        "<img src='https://student-datasets-bucket.s3.ap-south-1.amazonaws.com/images/heat_index_india.png' width=600>\n"
      ]
    },
    {
      "cell_type": "markdown",
      "metadata": {
        "id": "DiBKzIYpWCzp"
      },
      "source": [
        "---"
      ]
    },
    {
      "cell_type": "markdown",
      "metadata": {
        "id": "zTSyVg4PqLI3"
      },
      "source": [
        "### Problem Statement\n",
        "\n",
        "Put yourself in the shoes of a quality analyst whose task is to test the efficacy of new IoT devices. You need to create time-series plots for daily temperature variation for the given duration and find any inconsistencies in the temperature readings (if there are any).\n",
        "\n",
        "In case the data collected through the device is correct, find the percentages of the yellow, orange and red zones."
      ]
    },
    {
      "cell_type": "markdown",
      "metadata": {
        "id": "5AyRRYmTR3N7"
      },
      "source": [
        "---"
      ]
    },
    {
      "cell_type": "markdown",
      "metadata": {
        "id": "XxoH5SctjDtS"
      },
      "source": [
        "#### Getting Started\n",
        "\n",
        "Follow the steps described below to solve the project:\n",
        "\n",
        "1. Click on the link provided below to open the Colab file for this project.\n",
        "   \n",
        "   https://colab.research.google.com/drive/1XhdWZL_DsL_8HWS58HZ2uU8C0PHQl2Yj?usp=sharing\n",
        "\n",
        "2. Create the duplicate copy of the Colab file. Here are the steps to create the duplicate copy:\n",
        "\n",
        "    - Click on the **File** menu. A new drop-down list will appear.\n",
        "\n",
        "      <img src='https://student-datasets-bucket.s3.ap-south-1.amazonaws.com/images/project-share-images/0_file_menu.png' width=500>\n",
        "\n",
        "    - Click on the **Save a copy in Drive** option. A duplicate copy will get created. It will open up in the new tab on your web browser.\n",
        "\n",
        "      <img src='https://student-datasets-bucket.s3.ap-south-1.amazonaws.com/images/project-share-images/1_create_colab_duplicate_copy.png' width=500>\n",
        "\n",
        "     - After creating the duplicate copy of the notebook, please rename it in the **YYYY-MM-DD_StudentName_CapstoneProject12** format.\n",
        "\n",
        "3. Now, write your code in the prescribed code cells."
      ]
    },
    {
      "cell_type": "markdown",
      "metadata": {
        "id": "ChcQuvETjMl2"
      },
      "source": [
        "---"
      ]
    },
    {
      "cell_type": "markdown",
      "metadata": {
        "id": "OvuklseNQkid"
      },
      "source": [
        "### Data Description\n",
        "\n",
        "This dataset contains the temperature readings from an IoT device installed outside and inside of an anonymous room (labelled as admin room) to test the device. The readings were taken between 11 January 2018 and 10 December 2018. Additionally, it was uninstalled or taken down quite frequently during the entire reading period. There are 5 columns and 97,605 rows in the dataset.\n",
        "\n",
        "1. `id` - unique IDs for each reading\n",
        "\n",
        "2. `room_id/id` - room id in which device was installed (inside and/or outside). In this dataset, only `Room Admin` label is used as a `room_id` for example purpose.\n",
        "\n",
        "3. `noted_date` - date and time of reading\n",
        "\n",
        "4. `temp` - temperature readings\n",
        "\n",
        "5. `out/in` - whether the reading was taken from a device installed inside or outside of the room?\n",
        "\n",
        "Here's the dataset link:\n",
        "\n",
        "https://student-datasets-bucket.s3.ap-south-1.amazonaws.com/whitehat-ds-datasets/iot-devices/IoT-device.csv"
      ]
    },
    {
      "cell_type": "markdown",
      "metadata": {
        "id": "wmta0mCwWB0e"
      },
      "source": [
        "---"
      ]
    },
    {
      "cell_type": "markdown",
      "metadata": {
        "id": "Djd0X9oJQogj"
      },
      "source": [
        "### Things To Do\n",
        "\n",
        "- What is the trend in the variation in daily indoor and outdoor temperatures?\n",
        "\n",
        "- What is the trend in the variation in monthly median indoor and outdoor temperatures?\n",
        "\n",
        "- Find out the hottest and coldest month(s).\n",
        "\n",
        "- Find the maximum and minimum temperatures recorded for each month.\n",
        "\n",
        "- Find the hottest and coldest days for each month along with the temperatures.\n",
        "\n",
        "- Get the percentage distribution of heat zones (green, yellow, orange and red) as per the heat index table shown in the **Context** section."
      ]
    },
    {
      "cell_type": "markdown",
      "metadata": {
        "id": "1_0f8iFLVzir"
      },
      "source": [
        "---"
      ]
    },
    {
      "cell_type": "markdown",
      "metadata": {
        "id": "bQT8lQviaQwX"
      },
      "source": [
        "#### 1. Import Modules & Load Dataset"
      ]
    },
    {
      "cell_type": "code",
      "metadata": {
        "id": "Y62VnVV3SjwN"
      },
      "source": [
        "# Import the required modules and load the dataset.\n",
        "import pandas as pd\n",
        "import datetime as dt"
      ],
      "execution_count": null,
      "outputs": []
    },
    {
      "cell_type": "code",
      "metadata": {
        "id": "2eDUrqpvTIZv",
        "colab": {
          "base_uri": "https://localhost:8080/"
        },
        "outputId": "cf6ce928-1f70-4184-81f5-c21a186725a2"
      },
      "source": [
        "# Get the information on DataFrame.\n",
        "room_df = pd.read_csv('https://student-datasets-bucket.s3.ap-south-1.amazonaws.com/whitehat-ds-datasets/iot-devices/IoT-device.csv')\n",
        "room_df.info()"
      ],
      "execution_count": null,
      "outputs": [
        {
          "output_type": "stream",
          "name": "stdout",
          "text": [
            "<class 'pandas.core.frame.DataFrame'>\n",
            "RangeIndex: 97606 entries, 0 to 97605\n",
            "Data columns (total 5 columns):\n",
            " #   Column      Non-Null Count  Dtype \n",
            "---  ------      --------------  ----- \n",
            " 0   id          97606 non-null  object\n",
            " 1   room_id/id  97606 non-null  object\n",
            " 2   noted_date  97606 non-null  object\n",
            " 3   temp        97606 non-null  int64 \n",
            " 4   out/in      97606 non-null  object\n",
            "dtypes: int64(1), object(4)\n",
            "memory usage: 3.7+ MB\n"
          ]
        }
      ]
    },
    {
      "cell_type": "markdown",
      "metadata": {
        "id": "EWiqsKkOnT7J"
      },
      "source": [
        "---"
      ]
    },
    {
      "cell_type": "markdown",
      "metadata": {
        "id": "wmUC8gulmsu8"
      },
      "source": [
        "#### 2. Missing Values Check\n",
        "\n",
        "Check for the null values in the DataFrame."
      ]
    },
    {
      "cell_type": "code",
      "metadata": {
        "id": "jn-YY72GnaGz",
        "colab": {
          "base_uri": "https://localhost:8080/",
          "height": 423
        },
        "outputId": "85fec78e-e103-487a-80c4-27b1615bb519"
      },
      "source": [
        "# Check for the null values in the DataFrame.\n",
        "room_df.isnull()"
      ],
      "execution_count": null,
      "outputs": [
        {
          "output_type": "execute_result",
          "data": {
            "text/plain": [
              "          id  room_id/id  noted_date   temp  out/in\n",
              "0      False       False       False  False   False\n",
              "1      False       False       False  False   False\n",
              "2      False       False       False  False   False\n",
              "3      False       False       False  False   False\n",
              "4      False       False       False  False   False\n",
              "...      ...         ...         ...    ...     ...\n",
              "97601  False       False       False  False   False\n",
              "97602  False       False       False  False   False\n",
              "97603  False       False       False  False   False\n",
              "97604  False       False       False  False   False\n",
              "97605  False       False       False  False   False\n",
              "\n",
              "[97606 rows x 5 columns]"
            ],
            "text/html": [
              "\n",
              "  <div id=\"df-ff180f83-01f4-4d96-867b-780dd1ac23ef\">\n",
              "    <div class=\"colab-df-container\">\n",
              "      <div>\n",
              "<style scoped>\n",
              "    .dataframe tbody tr th:only-of-type {\n",
              "        vertical-align: middle;\n",
              "    }\n",
              "\n",
              "    .dataframe tbody tr th {\n",
              "        vertical-align: top;\n",
              "    }\n",
              "\n",
              "    .dataframe thead th {\n",
              "        text-align: right;\n",
              "    }\n",
              "</style>\n",
              "<table border=\"1\" class=\"dataframe\">\n",
              "  <thead>\n",
              "    <tr style=\"text-align: right;\">\n",
              "      <th></th>\n",
              "      <th>id</th>\n",
              "      <th>room_id/id</th>\n",
              "      <th>noted_date</th>\n",
              "      <th>temp</th>\n",
              "      <th>out/in</th>\n",
              "    </tr>\n",
              "  </thead>\n",
              "  <tbody>\n",
              "    <tr>\n",
              "      <th>0</th>\n",
              "      <td>False</td>\n",
              "      <td>False</td>\n",
              "      <td>False</td>\n",
              "      <td>False</td>\n",
              "      <td>False</td>\n",
              "    </tr>\n",
              "    <tr>\n",
              "      <th>1</th>\n",
              "      <td>False</td>\n",
              "      <td>False</td>\n",
              "      <td>False</td>\n",
              "      <td>False</td>\n",
              "      <td>False</td>\n",
              "    </tr>\n",
              "    <tr>\n",
              "      <th>2</th>\n",
              "      <td>False</td>\n",
              "      <td>False</td>\n",
              "      <td>False</td>\n",
              "      <td>False</td>\n",
              "      <td>False</td>\n",
              "    </tr>\n",
              "    <tr>\n",
              "      <th>3</th>\n",
              "      <td>False</td>\n",
              "      <td>False</td>\n",
              "      <td>False</td>\n",
              "      <td>False</td>\n",
              "      <td>False</td>\n",
              "    </tr>\n",
              "    <tr>\n",
              "      <th>4</th>\n",
              "      <td>False</td>\n",
              "      <td>False</td>\n",
              "      <td>False</td>\n",
              "      <td>False</td>\n",
              "      <td>False</td>\n",
              "    </tr>\n",
              "    <tr>\n",
              "      <th>...</th>\n",
              "      <td>...</td>\n",
              "      <td>...</td>\n",
              "      <td>...</td>\n",
              "      <td>...</td>\n",
              "      <td>...</td>\n",
              "    </tr>\n",
              "    <tr>\n",
              "      <th>97601</th>\n",
              "      <td>False</td>\n",
              "      <td>False</td>\n",
              "      <td>False</td>\n",
              "      <td>False</td>\n",
              "      <td>False</td>\n",
              "    </tr>\n",
              "    <tr>\n",
              "      <th>97602</th>\n",
              "      <td>False</td>\n",
              "      <td>False</td>\n",
              "      <td>False</td>\n",
              "      <td>False</td>\n",
              "      <td>False</td>\n",
              "    </tr>\n",
              "    <tr>\n",
              "      <th>97603</th>\n",
              "      <td>False</td>\n",
              "      <td>False</td>\n",
              "      <td>False</td>\n",
              "      <td>False</td>\n",
              "      <td>False</td>\n",
              "    </tr>\n",
              "    <tr>\n",
              "      <th>97604</th>\n",
              "      <td>False</td>\n",
              "      <td>False</td>\n",
              "      <td>False</td>\n",
              "      <td>False</td>\n",
              "      <td>False</td>\n",
              "    </tr>\n",
              "    <tr>\n",
              "      <th>97605</th>\n",
              "      <td>False</td>\n",
              "      <td>False</td>\n",
              "      <td>False</td>\n",
              "      <td>False</td>\n",
              "      <td>False</td>\n",
              "    </tr>\n",
              "  </tbody>\n",
              "</table>\n",
              "<p>97606 rows × 5 columns</p>\n",
              "</div>\n",
              "      <button class=\"colab-df-convert\" onclick=\"convertToInteractive('df-ff180f83-01f4-4d96-867b-780dd1ac23ef')\"\n",
              "              title=\"Convert this dataframe to an interactive table.\"\n",
              "              style=\"display:none;\">\n",
              "        \n",
              "  <svg xmlns=\"http://www.w3.org/2000/svg\" height=\"24px\"viewBox=\"0 0 24 24\"\n",
              "       width=\"24px\">\n",
              "    <path d=\"M0 0h24v24H0V0z\" fill=\"none\"/>\n",
              "    <path d=\"M18.56 5.44l.94 2.06.94-2.06 2.06-.94-2.06-.94-.94-2.06-.94 2.06-2.06.94zm-11 1L8.5 8.5l.94-2.06 2.06-.94-2.06-.94L8.5 2.5l-.94 2.06-2.06.94zm10 10l.94 2.06.94-2.06 2.06-.94-2.06-.94-.94-2.06-.94 2.06-2.06.94z\"/><path d=\"M17.41 7.96l-1.37-1.37c-.4-.4-.92-.59-1.43-.59-.52 0-1.04.2-1.43.59L10.3 9.45l-7.72 7.72c-.78.78-.78 2.05 0 2.83L4 21.41c.39.39.9.59 1.41.59.51 0 1.02-.2 1.41-.59l7.78-7.78 2.81-2.81c.8-.78.8-2.07 0-2.86zM5.41 20L4 18.59l7.72-7.72 1.47 1.35L5.41 20z\"/>\n",
              "  </svg>\n",
              "      </button>\n",
              "      \n",
              "  <style>\n",
              "    .colab-df-container {\n",
              "      display:flex;\n",
              "      flex-wrap:wrap;\n",
              "      gap: 12px;\n",
              "    }\n",
              "\n",
              "    .colab-df-convert {\n",
              "      background-color: #E8F0FE;\n",
              "      border: none;\n",
              "      border-radius: 50%;\n",
              "      cursor: pointer;\n",
              "      display: none;\n",
              "      fill: #1967D2;\n",
              "      height: 32px;\n",
              "      padding: 0 0 0 0;\n",
              "      width: 32px;\n",
              "    }\n",
              "\n",
              "    .colab-df-convert:hover {\n",
              "      background-color: #E2EBFA;\n",
              "      box-shadow: 0px 1px 2px rgba(60, 64, 67, 0.3), 0px 1px 3px 1px rgba(60, 64, 67, 0.15);\n",
              "      fill: #174EA6;\n",
              "    }\n",
              "\n",
              "    [theme=dark] .colab-df-convert {\n",
              "      background-color: #3B4455;\n",
              "      fill: #D2E3FC;\n",
              "    }\n",
              "\n",
              "    [theme=dark] .colab-df-convert:hover {\n",
              "      background-color: #434B5C;\n",
              "      box-shadow: 0px 1px 3px 1px rgba(0, 0, 0, 0.15);\n",
              "      filter: drop-shadow(0px 1px 2px rgba(0, 0, 0, 0.3));\n",
              "      fill: #FFFFFF;\n",
              "    }\n",
              "  </style>\n",
              "\n",
              "      <script>\n",
              "        const buttonEl =\n",
              "          document.querySelector('#df-ff180f83-01f4-4d96-867b-780dd1ac23ef button.colab-df-convert');\n",
              "        buttonEl.style.display =\n",
              "          google.colab.kernel.accessAllowed ? 'block' : 'none';\n",
              "\n",
              "        async function convertToInteractive(key) {\n",
              "          const element = document.querySelector('#df-ff180f83-01f4-4d96-867b-780dd1ac23ef');\n",
              "          const dataTable =\n",
              "            await google.colab.kernel.invokeFunction('convertToInteractive',\n",
              "                                                     [key], {});\n",
              "          if (!dataTable) return;\n",
              "\n",
              "          const docLinkHtml = 'Like what you see? Visit the ' +\n",
              "            '<a target=\"_blank\" href=https://colab.research.google.com/notebooks/data_table.ipynb>data table notebook</a>'\n",
              "            + ' to learn more about interactive tables.';\n",
              "          element.innerHTML = '';\n",
              "          dataTable['output_type'] = 'display_data';\n",
              "          await google.colab.output.renderOutput(dataTable, element);\n",
              "          const docLink = document.createElement('div');\n",
              "          docLink.innerHTML = docLinkHtml;\n",
              "          element.appendChild(docLink);\n",
              "        }\n",
              "      </script>\n",
              "    </div>\n",
              "  </div>\n",
              "  "
            ]
          },
          "metadata": {},
          "execution_count": 3
        }
      ]
    },
    {
      "cell_type": "markdown",
      "metadata": {
        "id": "lHaX4i4Gni7R"
      },
      "source": [
        "**Q:** Are there any columns in the DataFrame containing the missing values? If yes, then provide the column names.\n",
        "\n",
        "**A:**No there are no columns in the dataframe containng missing values."
      ]
    },
    {
      "cell_type": "markdown",
      "metadata": {
        "id": "-gNsMM1pn4Dl"
      },
      "source": [
        "---"
      ]
    },
    {
      "cell_type": "markdown",
      "metadata": {
        "id": "rLDsqxRtn2Td"
      },
      "source": [
        "#### 3. Drop Unnecessary Columns\n",
        "\n",
        "\n",
        "Find out if there are unnecessary columns in the DataFrame. If there are any, then drop them from the DataFrame."
      ]
    },
    {
      "cell_type": "code",
      "metadata": {
        "id": "vWdxA_1KStHT",
        "colab": {
          "base_uri": "https://localhost:8080/",
          "height": 423
        },
        "outputId": "6fa84db6-0743-4b6a-8a47-fb5d4d118acd"
      },
      "source": [
        "# Find out if there are unnecessary columns in the DataFrame. If there are any, then drop them from the DataFrame.\n",
        "room_df.dropna()"
      ],
      "execution_count": null,
      "outputs": [
        {
          "output_type": "execute_result",
          "data": {
            "text/plain": [
              "                                        id  room_id/id        noted_date  \\\n",
              "0      __export__.temp_log_196134_bd201015  Room Admin  08-12-2018 09:30   \n",
              "1      __export__.temp_log_196131_7bca51bc  Room Admin  08-12-2018 09:30   \n",
              "2      __export__.temp_log_196127_522915e3  Room Admin  08-12-2018 09:29   \n",
              "3      __export__.temp_log_196128_be0919cf  Room Admin  08-12-2018 09:29   \n",
              "4      __export__.temp_log_196126_d30b72fb  Room Admin  08-12-2018 09:29   \n",
              "...                                    ...         ...               ...   \n",
              "97601   __export__.temp_log_91076_7fbd08ca  Room Admin  28-07-2018 07:07   \n",
              "97602  __export__.temp_log_147733_62c03f31  Room Admin  28-07-2018 07:07   \n",
              "97603  __export__.temp_log_100386_84093a68  Room Admin  28-07-2018 07:06   \n",
              "97604  __export__.temp_log_123297_4d8e690b  Room Admin  28-07-2018 07:06   \n",
              "97605  __export__.temp_log_133741_32958703  Room Admin  28-07-2018 07:06   \n",
              "\n",
              "       temp out/in  \n",
              "0        29     In  \n",
              "1        29     In  \n",
              "2        41    Out  \n",
              "3        41    Out  \n",
              "4        31     In  \n",
              "...     ...    ...  \n",
              "97601    31     In  \n",
              "97602    31     In  \n",
              "97603    31     In  \n",
              "97604    31     In  \n",
              "97605    31     In  \n",
              "\n",
              "[97606 rows x 5 columns]"
            ],
            "text/html": [
              "\n",
              "  <div id=\"df-b328ff07-e627-478e-9913-59147ec7f656\">\n",
              "    <div class=\"colab-df-container\">\n",
              "      <div>\n",
              "<style scoped>\n",
              "    .dataframe tbody tr th:only-of-type {\n",
              "        vertical-align: middle;\n",
              "    }\n",
              "\n",
              "    .dataframe tbody tr th {\n",
              "        vertical-align: top;\n",
              "    }\n",
              "\n",
              "    .dataframe thead th {\n",
              "        text-align: right;\n",
              "    }\n",
              "</style>\n",
              "<table border=\"1\" class=\"dataframe\">\n",
              "  <thead>\n",
              "    <tr style=\"text-align: right;\">\n",
              "      <th></th>\n",
              "      <th>id</th>\n",
              "      <th>room_id/id</th>\n",
              "      <th>noted_date</th>\n",
              "      <th>temp</th>\n",
              "      <th>out/in</th>\n",
              "    </tr>\n",
              "  </thead>\n",
              "  <tbody>\n",
              "    <tr>\n",
              "      <th>0</th>\n",
              "      <td>__export__.temp_log_196134_bd201015</td>\n",
              "      <td>Room Admin</td>\n",
              "      <td>08-12-2018 09:30</td>\n",
              "      <td>29</td>\n",
              "      <td>In</td>\n",
              "    </tr>\n",
              "    <tr>\n",
              "      <th>1</th>\n",
              "      <td>__export__.temp_log_196131_7bca51bc</td>\n",
              "      <td>Room Admin</td>\n",
              "      <td>08-12-2018 09:30</td>\n",
              "      <td>29</td>\n",
              "      <td>In</td>\n",
              "    </tr>\n",
              "    <tr>\n",
              "      <th>2</th>\n",
              "      <td>__export__.temp_log_196127_522915e3</td>\n",
              "      <td>Room Admin</td>\n",
              "      <td>08-12-2018 09:29</td>\n",
              "      <td>41</td>\n",
              "      <td>Out</td>\n",
              "    </tr>\n",
              "    <tr>\n",
              "      <th>3</th>\n",
              "      <td>__export__.temp_log_196128_be0919cf</td>\n",
              "      <td>Room Admin</td>\n",
              "      <td>08-12-2018 09:29</td>\n",
              "      <td>41</td>\n",
              "      <td>Out</td>\n",
              "    </tr>\n",
              "    <tr>\n",
              "      <th>4</th>\n",
              "      <td>__export__.temp_log_196126_d30b72fb</td>\n",
              "      <td>Room Admin</td>\n",
              "      <td>08-12-2018 09:29</td>\n",
              "      <td>31</td>\n",
              "      <td>In</td>\n",
              "    </tr>\n",
              "    <tr>\n",
              "      <th>...</th>\n",
              "      <td>...</td>\n",
              "      <td>...</td>\n",
              "      <td>...</td>\n",
              "      <td>...</td>\n",
              "      <td>...</td>\n",
              "    </tr>\n",
              "    <tr>\n",
              "      <th>97601</th>\n",
              "      <td>__export__.temp_log_91076_7fbd08ca</td>\n",
              "      <td>Room Admin</td>\n",
              "      <td>28-07-2018 07:07</td>\n",
              "      <td>31</td>\n",
              "      <td>In</td>\n",
              "    </tr>\n",
              "    <tr>\n",
              "      <th>97602</th>\n",
              "      <td>__export__.temp_log_147733_62c03f31</td>\n",
              "      <td>Room Admin</td>\n",
              "      <td>28-07-2018 07:07</td>\n",
              "      <td>31</td>\n",
              "      <td>In</td>\n",
              "    </tr>\n",
              "    <tr>\n",
              "      <th>97603</th>\n",
              "      <td>__export__.temp_log_100386_84093a68</td>\n",
              "      <td>Room Admin</td>\n",
              "      <td>28-07-2018 07:06</td>\n",
              "      <td>31</td>\n",
              "      <td>In</td>\n",
              "    </tr>\n",
              "    <tr>\n",
              "      <th>97604</th>\n",
              "      <td>__export__.temp_log_123297_4d8e690b</td>\n",
              "      <td>Room Admin</td>\n",
              "      <td>28-07-2018 07:06</td>\n",
              "      <td>31</td>\n",
              "      <td>In</td>\n",
              "    </tr>\n",
              "    <tr>\n",
              "      <th>97605</th>\n",
              "      <td>__export__.temp_log_133741_32958703</td>\n",
              "      <td>Room Admin</td>\n",
              "      <td>28-07-2018 07:06</td>\n",
              "      <td>31</td>\n",
              "      <td>In</td>\n",
              "    </tr>\n",
              "  </tbody>\n",
              "</table>\n",
              "<p>97606 rows × 5 columns</p>\n",
              "</div>\n",
              "      <button class=\"colab-df-convert\" onclick=\"convertToInteractive('df-b328ff07-e627-478e-9913-59147ec7f656')\"\n",
              "              title=\"Convert this dataframe to an interactive table.\"\n",
              "              style=\"display:none;\">\n",
              "        \n",
              "  <svg xmlns=\"http://www.w3.org/2000/svg\" height=\"24px\"viewBox=\"0 0 24 24\"\n",
              "       width=\"24px\">\n",
              "    <path d=\"M0 0h24v24H0V0z\" fill=\"none\"/>\n",
              "    <path d=\"M18.56 5.44l.94 2.06.94-2.06 2.06-.94-2.06-.94-.94-2.06-.94 2.06-2.06.94zm-11 1L8.5 8.5l.94-2.06 2.06-.94-2.06-.94L8.5 2.5l-.94 2.06-2.06.94zm10 10l.94 2.06.94-2.06 2.06-.94-2.06-.94-.94-2.06-.94 2.06-2.06.94z\"/><path d=\"M17.41 7.96l-1.37-1.37c-.4-.4-.92-.59-1.43-.59-.52 0-1.04.2-1.43.59L10.3 9.45l-7.72 7.72c-.78.78-.78 2.05 0 2.83L4 21.41c.39.39.9.59 1.41.59.51 0 1.02-.2 1.41-.59l7.78-7.78 2.81-2.81c.8-.78.8-2.07 0-2.86zM5.41 20L4 18.59l7.72-7.72 1.47 1.35L5.41 20z\"/>\n",
              "  </svg>\n",
              "      </button>\n",
              "      \n",
              "  <style>\n",
              "    .colab-df-container {\n",
              "      display:flex;\n",
              "      flex-wrap:wrap;\n",
              "      gap: 12px;\n",
              "    }\n",
              "\n",
              "    .colab-df-convert {\n",
              "      background-color: #E8F0FE;\n",
              "      border: none;\n",
              "      border-radius: 50%;\n",
              "      cursor: pointer;\n",
              "      display: none;\n",
              "      fill: #1967D2;\n",
              "      height: 32px;\n",
              "      padding: 0 0 0 0;\n",
              "      width: 32px;\n",
              "    }\n",
              "\n",
              "    .colab-df-convert:hover {\n",
              "      background-color: #E2EBFA;\n",
              "      box-shadow: 0px 1px 2px rgba(60, 64, 67, 0.3), 0px 1px 3px 1px rgba(60, 64, 67, 0.15);\n",
              "      fill: #174EA6;\n",
              "    }\n",
              "\n",
              "    [theme=dark] .colab-df-convert {\n",
              "      background-color: #3B4455;\n",
              "      fill: #D2E3FC;\n",
              "    }\n",
              "\n",
              "    [theme=dark] .colab-df-convert:hover {\n",
              "      background-color: #434B5C;\n",
              "      box-shadow: 0px 1px 3px 1px rgba(0, 0, 0, 0.15);\n",
              "      filter: drop-shadow(0px 1px 2px rgba(0, 0, 0, 0.3));\n",
              "      fill: #FFFFFF;\n",
              "    }\n",
              "  </style>\n",
              "\n",
              "      <script>\n",
              "        const buttonEl =\n",
              "          document.querySelector('#df-b328ff07-e627-478e-9913-59147ec7f656 button.colab-df-convert');\n",
              "        buttonEl.style.display =\n",
              "          google.colab.kernel.accessAllowed ? 'block' : 'none';\n",
              "\n",
              "        async function convertToInteractive(key) {\n",
              "          const element = document.querySelector('#df-b328ff07-e627-478e-9913-59147ec7f656');\n",
              "          const dataTable =\n",
              "            await google.colab.kernel.invokeFunction('convertToInteractive',\n",
              "                                                     [key], {});\n",
              "          if (!dataTable) return;\n",
              "\n",
              "          const docLinkHtml = 'Like what you see? Visit the ' +\n",
              "            '<a target=\"_blank\" href=https://colab.research.google.com/notebooks/data_table.ipynb>data table notebook</a>'\n",
              "            + ' to learn more about interactive tables.';\n",
              "          element.innerHTML = '';\n",
              "          dataTable['output_type'] = 'display_data';\n",
              "          await google.colab.output.renderOutput(dataTable, element);\n",
              "          const docLink = document.createElement('div');\n",
              "          docLink.innerHTML = docLinkHtml;\n",
              "          element.appendChild(docLink);\n",
              "        }\n",
              "      </script>\n",
              "    </div>\n",
              "  </div>\n",
              "  "
            ]
          },
          "metadata": {},
          "execution_count": 4
        }
      ]
    },
    {
      "cell_type": "markdown",
      "metadata": {
        "id": "7fVWyg-noVyy"
      },
      "source": [
        "---"
      ]
    },
    {
      "cell_type": "markdown",
      "metadata": {
        "id": "iRyZRBgBoXEj"
      },
      "source": [
        "#### 4. Get `datetime` Objects\n",
        "\n",
        "Convert the values contained in the `noted_date` column into the `datetime` objects."
      ]
    },
    {
      "cell_type": "code",
      "metadata": {
        "id": "WYSZvAx7S_JE"
      },
      "source": [
        "# Convert the values contained in the 'noted_date' column into the 'datetime' objects.\n",
        "noted_data_dt = pd.to_datetime(room_df['noted_date'])"
      ],
      "execution_count": null,
      "outputs": []
    },
    {
      "cell_type": "code",
      "metadata": {
        "id": "oc7F-m5TTKbZ",
        "colab": {
          "base_uri": "https://localhost:8080/"
        },
        "outputId": "ad775916-3a4f-498e-d108-faf0fa1f6012"
      },
      "source": [
        "# Verify whether the conversion is successful or not.\n",
        "noted_data_dt"
      ],
      "execution_count": null,
      "outputs": [
        {
          "output_type": "execute_result",
          "data": {
            "text/plain": [
              "0       2018-08-12 09:30:00\n",
              "1       2018-08-12 09:30:00\n",
              "2       2018-08-12 09:29:00\n",
              "3       2018-08-12 09:29:00\n",
              "4       2018-08-12 09:29:00\n",
              "                ...        \n",
              "97601   2018-07-28 07:07:00\n",
              "97602   2018-07-28 07:07:00\n",
              "97603   2018-07-28 07:06:00\n",
              "97604   2018-07-28 07:06:00\n",
              "97605   2018-07-28 07:06:00\n",
              "Name: noted_date, Length: 97606, dtype: datetime64[ns]"
            ]
          },
          "metadata": {},
          "execution_count": 6
        }
      ]
    },
    {
      "cell_type": "markdown",
      "metadata": {
        "id": "Dt2AYygJo_VV"
      },
      "source": [
        "---"
      ]
    },
    {
      "cell_type": "markdown",
      "metadata": {
        "id": "PRvYhIdro_84"
      },
      "source": [
        "#### 5. Sort The DataFrame\n",
        "\n",
        "Sort the DataFrame in the chronological order."
      ]
    },
    {
      "cell_type": "code",
      "metadata": {
        "id": "mO9zU3_Oaent",
        "colab": {
          "base_uri": "https://localhost:8080/"
        },
        "outputId": "2e70153c-9b92-42c1-c9f5-a7d7f355a37b"
      },
      "source": [
        "# Sort the DataFrame in the increasing order of dates and time.\n",
        "noted_data_dt.sort_values(ascending=True)"
      ],
      "execution_count": null,
      "outputs": [
        {
          "output_type": "execute_result",
          "data": {
            "text/plain": [
              "16218   2018-01-11 00:06:00\n",
              "16217   2018-01-11 00:07:00\n",
              "16216   2018-01-11 00:09:00\n",
              "16215   2018-01-11 00:13:00\n",
              "16214   2018-01-11 00:23:00\n",
              "                ...        \n",
              "50668   2018-12-10 23:41:00\n",
              "50667   2018-12-10 23:43:00\n",
              "50666   2018-12-10 23:49:00\n",
              "50665   2018-12-10 23:51:00\n",
              "50664   2018-12-10 23:55:00\n",
              "Name: noted_date, Length: 97606, dtype: datetime64[ns]"
            ]
          },
          "metadata": {},
          "execution_count": 7
        }
      ]
    },
    {
      "cell_type": "markdown",
      "metadata": {
        "id": "Eipd1aBBpNve"
      },
      "source": [
        "---"
      ]
    },
    {
      "cell_type": "markdown",
      "metadata": {
        "id": "Szh550y0pOWL"
      },
      "source": [
        "#### 6. Add More Features\n",
        "\n",
        "Get the year, month, day, day name, hours and minutes values from the `datetime` values and create new columns for the same."
      ]
    },
    {
      "cell_type": "code",
      "metadata": {
        "id": "YESR-mc8TLYW",
        "colab": {
          "base_uri": "https://localhost:8080/"
        },
        "outputId": "41a302b0-32ca-4f82-f51d-94187b4f5a5a"
      },
      "source": [
        "# Create new columns for year, month, day, day name, hours and minutes values and add to the DataFrame.\n",
        "date = room_df['noted_date']\n",
        "print(date)"
      ],
      "execution_count": null,
      "outputs": [
        {
          "output_type": "stream",
          "name": "stdout",
          "text": [
            "0        08-12-2018 09:30\n",
            "1        08-12-2018 09:30\n",
            "2        08-12-2018 09:29\n",
            "3        08-12-2018 09:29\n",
            "4        08-12-2018 09:29\n",
            "               ...       \n",
            "97601    28-07-2018 07:07\n",
            "97602    28-07-2018 07:07\n",
            "97603    28-07-2018 07:06\n",
            "97604    28-07-2018 07:06\n",
            "97605    28-07-2018 07:06\n",
            "Name: noted_date, Length: 97606, dtype: object\n"
          ]
        }
      ]
    },
    {
      "cell_type": "code",
      "metadata": {
        "id": "Fw5rt9R_TW5i",
        "colab": {
          "base_uri": "https://localhost:8080/"
        },
        "outputId": "9ada2451-2ce4-40bb-c4c2-6b22edaa8a94"
      },
      "source": [
        "# Display the first five rows of the DataFrame.\n",
        "date.head()"
      ],
      "execution_count": null,
      "outputs": [
        {
          "output_type": "execute_result",
          "data": {
            "text/plain": [
              "0    08-12-2018 09:30\n",
              "1    08-12-2018 09:30\n",
              "2    08-12-2018 09:29\n",
              "3    08-12-2018 09:29\n",
              "4    08-12-2018 09:29\n",
              "Name: noted_date, dtype: object"
            ]
          },
          "metadata": {},
          "execution_count": 9
        }
      ]
    },
    {
      "cell_type": "markdown",
      "metadata": {
        "id": "hrkRuMQ7tbEd"
      },
      "source": [
        "---"
      ]
    },
    {
      "cell_type": "markdown",
      "metadata": {
        "id": "4mxjGIHQtkl4"
      },
      "source": [
        "#### 7. Line Plots & Box Plots\n",
        "\n",
        "Create line plots and box plots for the temperature recorded in the indoor and outdoor settings."
      ]
    },
    {
      "cell_type": "code",
      "metadata": {
        "id": "v4WEDxIbZjcW",
        "colab": {
          "base_uri": "https://localhost:8080/"
        },
        "outputId": "4ae2258c-0cb2-4ce4-c206-993e0b47afd8"
      },
      "source": [
        "# Create a DataFrame for the indoor temperature records.\n",
        "indoor_df = ()\n",
        "for i in room_df['out/in'] :\n",
        "  if i  == 'in' :\n",
        "    indoor_df += i\n",
        "indoor_df"
      ],
      "execution_count": null,
      "outputs": [
        {
          "output_type": "execute_result",
          "data": {
            "text/plain": [
              "()"
            ]
          },
          "metadata": {
            "tags": []
          },
          "execution_count": 46
        }
      ]
    },
    {
      "cell_type": "code",
      "metadata": {
        "id": "yEnfbJ5fZ3gq"
      },
      "source": [
        "# Create a time series line plot for the indoor temperature records.\n"
      ],
      "execution_count": null,
      "outputs": []
    },
    {
      "cell_type": "code",
      "metadata": {
        "id": "XYXRcAN6axgX"
      },
      "source": [
        "# Create a DataFrame for the outdoor temperature records.\n"
      ],
      "execution_count": null,
      "outputs": []
    },
    {
      "cell_type": "code",
      "metadata": {
        "id": "n7ZcEf6Ja2Xo"
      },
      "source": [
        "# Create a time series line plot for the outdoor temperature records.\n"
      ],
      "execution_count": null,
      "outputs": []
    },
    {
      "cell_type": "code",
      "metadata": {
        "id": "Ocq-kgdQbIcq"
      },
      "source": [
        "# Compare the time series line plots for both the indoor and outdoor temperature records.\n"
      ],
      "execution_count": null,
      "outputs": []
    },
    {
      "cell_type": "code",
      "metadata": {
        "id": "iYmjbmvsod5d"
      },
      "source": [
        "# Create a box plot to represent the distribution of indoor and outdoor temperatures for the whole year.\n"
      ],
      "execution_count": null,
      "outputs": []
    },
    {
      "cell_type": "code",
      "metadata": {
        "id": "BxaPFyIgoxtF"
      },
      "source": [
        "# Create a box plot to represent the monthly distribution of indoor and outdoor temperatures. Also label the x-axis with actual month names.\n"
      ],
      "execution_count": null,
      "outputs": []
    },
    {
      "cell_type": "markdown",
      "metadata": {
        "id": "t8KpqnWzwipX"
      },
      "source": [
        "---"
      ]
    },
    {
      "cell_type": "markdown",
      "metadata": {
        "id": "iDocSROFw6w-"
      },
      "source": [
        "#### 8. Grouping, Aggregation & More Plots\n",
        "\n",
        "Group the data by the indoor and outdoor temperatures. Also, get monthly mean, standard deviation, median, minimum and maximum values for both the indoor and outdoor groups.\n"
      ]
    },
    {
      "cell_type": "code",
      "metadata": {
        "id": "GRUIeXRTTXyT"
      },
      "source": [
        "# Group the data to get the monthly median indoor and outdoor temperatures along with the max and minimum temperatures.\n"
      ],
      "execution_count": null,
      "outputs": []
    },
    {
      "cell_type": "code",
      "metadata": {
        "id": "-6-bcg9gT49F"
      },
      "source": [
        "# Create a line plot for the monthly median indoor temperatures.\n"
      ],
      "execution_count": null,
      "outputs": []
    },
    {
      "cell_type": "code",
      "metadata": {
        "id": "xE1B0jP6V-WI"
      },
      "source": [
        "# Create a line plot for the monthly median outdoor temperatures.\n"
      ],
      "execution_count": null,
      "outputs": []
    },
    {
      "cell_type": "code",
      "metadata": {
        "id": "9GvK8croY6_-"
      },
      "source": [
        "# Compare the monthly median indoor and outdoor temperatures.\n"
      ],
      "execution_count": null,
      "outputs": []
    },
    {
      "cell_type": "code",
      "metadata": {
        "id": "mEzrZBatumbS"
      },
      "source": [
        "# Create a bar plot for the monthly median indoor & outdoor temperatures in a single bar chart.\n"
      ],
      "execution_count": null,
      "outputs": []
    },
    {
      "cell_type": "markdown",
      "metadata": {
        "id": "k3fwyj_ILHP0"
      },
      "source": [
        "**Q:** Which months were the hottest and coldest months?\n",
        "\n",
        "**A:**"
      ]
    },
    {
      "cell_type": "code",
      "metadata": {
        "id": "e5KU5hFcslli"
      },
      "source": [
        "# Get the maximum and minimum temperatures for each day in each month.\n"
      ],
      "execution_count": null,
      "outputs": []
    },
    {
      "cell_type": "code",
      "metadata": {
        "id": "dHiqQ8-N1TZC"
      },
      "source": [
        "# Get the hottest day for each month along with the temperature.\n"
      ],
      "execution_count": null,
      "outputs": []
    },
    {
      "cell_type": "markdown",
      "metadata": {
        "id": "_Oh253fuAooa"
      },
      "source": [
        "---"
      ]
    },
    {
      "cell_type": "markdown",
      "metadata": {
        "id": "pPOtedt3ApVh"
      },
      "source": [
        "#### 9. Heat Index"
      ]
    },
    {
      "cell_type": "code",
      "metadata": {
        "id": "Nv5czG2i4bIu"
      },
      "source": [
        "# Get the coldest day for each month along with the temperature.\n"
      ],
      "execution_count": null,
      "outputs": []
    },
    {
      "cell_type": "code",
      "metadata": {
        "id": "8YcJwHCyysyj"
      },
      "source": [
        "# Create a function to label the each temperature value on a given day and time with the heat indices as advised in the data-description.\n"
      ],
      "execution_count": null,
      "outputs": []
    },
    {
      "cell_type": "code",
      "metadata": {
        "id": "XkKWAyED07kQ"
      },
      "source": [
        "# Add the 'heat_index' column in the DataFrame containing the heat indices corresponding to the temperature values on a given day and time.\n"
      ],
      "execution_count": null,
      "outputs": []
    },
    {
      "cell_type": "code",
      "metadata": {
        "id": "JZJU1E9-1uMx"
      },
      "source": [
        "# Get the counts of the heat zones.\n"
      ],
      "execution_count": null,
      "outputs": []
    },
    {
      "cell_type": "code",
      "metadata": {
        "id": "1qFPD1VikMVr"
      },
      "source": [
        "# Get the percentage distribution of the heat zones.\n"
      ],
      "execution_count": null,
      "outputs": []
    },
    {
      "cell_type": "markdown",
      "metadata": {
        "id": "l9AIqrUWyFCk"
      },
      "source": [
        "**Q:** Which zone has the most number of recordings and how much?\n",
        "\n",
        "**A:**"
      ]
    },
    {
      "cell_type": "markdown",
      "metadata": {
        "id": "bXpq2A9PYzwL"
      },
      "source": [
        "---"
      ]
    },
    {
      "cell_type": "markdown",
      "metadata": {
        "id": "T5lOSmlF6Mnb"
      },
      "source": [
        "### Submitting the Project\n",
        "\n",
        "Follow the steps described below to submit the project.\n",
        "\n",
        "1. After finishing the project, click on the **Share** button on the top right corner of the notebook. A new dialog box will appear.\n",
        "\n",
        "  <img src='https://student-datasets-bucket.s3.ap-south-1.amazonaws.com/images/project-share-images/2_share_button.png' width=500>\n",
        "\n",
        "2. In the dialog box, click on the **Copy link** button.\n",
        "\n",
        "   <img src='https://student-datasets-bucket.s3.ap-south-1.amazonaws.com/images/project-share-images/3_copy_link.png' width=500>\n",
        "\n",
        "\n",
        "3. The link of the duplicate copy (named as **YYYY-MM-DD_StudentName_CapstoneProject12**) of the notebook will get copied\n",
        "\n",
        "   <img src='https://student-datasets-bucket.s3.ap-south-1.amazonaws.com/images/project-share-images/4_copy_link_confirmation.png' width=500>\n",
        "\n",
        "4. Go to your dashboard and click on the **My Projects** option.\n",
        "\n",
        "   <img src='https://student-datasets-bucket.s3.ap-south-1.amazonaws.com/images/project-share-images/5_student_dashboard.png' width=800>\n",
        "\n",
        "   <img src='https://student-datasets-bucket.s3.ap-south-1.amazonaws.com/images/project-share-images/6_my_projects.png' width=800>\n",
        "\n",
        "5. Click on the **View Project** button for the project you want to submit.\n",
        "\n",
        "   <img src='https://student-datasets-bucket.s3.ap-south-1.amazonaws.com/images/project-share-images/7_view_project.png' width=800>\n",
        "\n",
        "6. Click on the **Submit Project Here** button.\n",
        "\n",
        "   <img src='https://student-datasets-bucket.s3.ap-south-1.amazonaws.com/images/project-share-images/8_submit_project.png' width=800>\n",
        "\n",
        "7. Paste the link to the project file named as **YYYY-MM-DD_StudentName_CapstoneProject12** in the URL box and then click on the **Submit** button.\n",
        "\n",
        "   <img src='https://student-datasets-bucket.s3.ap-south-1.amazonaws.com/images/project-share-images/9_enter_project_url.png' width=800>\n"
      ]
    },
    {
      "cell_type": "markdown",
      "metadata": {
        "id": "LSDeGAZj6L5N"
      },
      "source": [
        "---"
      ]
    }
  ]
}